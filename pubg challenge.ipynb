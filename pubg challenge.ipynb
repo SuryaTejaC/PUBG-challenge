{
 "cells": [
  {
   "cell_type": "markdown",
   "id": "unsigned-harvey",
   "metadata": {},
   "source": [
    "# Importing libraries"
   ]
  },
  {
   "cell_type": "code",
   "execution_count": 20,
   "id": "accurate-camera",
   "metadata": {},
   "outputs": [],
   "source": [
    "import numpy as np\n",
    "import pandas as pd\n",
    "import matplotlib.pyplot as plt\n",
    "%matplotlib inline\n",
    "import seaborn as sns\n",
    "from scipy.stats import t\n",
    "from scipy.stats import norm"
   ]
  },
  {
   "cell_type": "markdown",
   "id": "exciting-hormone",
   "metadata": {},
   "source": [
    "# Understanding data"
   ]
  },
  {
   "cell_type": "code",
   "execution_count": 2,
   "id": "cordless-december",
   "metadata": {},
   "outputs": [
    {
     "data": {
      "text/html": [
       "<div>\n",
       "<style scoped>\n",
       "    .dataframe tbody tr th:only-of-type {\n",
       "        vertical-align: middle;\n",
       "    }\n",
       "\n",
       "    .dataframe tbody tr th {\n",
       "        vertical-align: top;\n",
       "    }\n",
       "\n",
       "    .dataframe thead th {\n",
       "        text-align: right;\n",
       "    }\n",
       "</style>\n",
       "<table border=\"1\" class=\"dataframe\">\n",
       "  <thead>\n",
       "    <tr style=\"text-align: right;\">\n",
       "      <th></th>\n",
       "      <th>Unnamed: 0</th>\n",
       "      <th>Id</th>\n",
       "      <th>groupId</th>\n",
       "      <th>matchId</th>\n",
       "      <th>assists</th>\n",
       "      <th>boosts</th>\n",
       "      <th>damageDealt</th>\n",
       "      <th>DBNOs</th>\n",
       "      <th>headshotKills</th>\n",
       "      <th>heals</th>\n",
       "      <th>...</th>\n",
       "      <th>revives</th>\n",
       "      <th>rideDistance</th>\n",
       "      <th>roadKills</th>\n",
       "      <th>swimDistance</th>\n",
       "      <th>teamKills</th>\n",
       "      <th>vehicleDestroys</th>\n",
       "      <th>walkDistance</th>\n",
       "      <th>weaponsAcquired</th>\n",
       "      <th>winPoints</th>\n",
       "      <th>winPlacePerc</th>\n",
       "    </tr>\n",
       "  </thead>\n",
       "  <tbody>\n",
       "    <tr>\n",
       "      <th>0</th>\n",
       "      <td>2093518</td>\n",
       "      <td>a3e3cea9f2e314</td>\n",
       "      <td>c9f6eaa81245b5</td>\n",
       "      <td>a3d8693390584c</td>\n",
       "      <td>0</td>\n",
       "      <td>0</td>\n",
       "      <td>25.93</td>\n",
       "      <td>0</td>\n",
       "      <td>0</td>\n",
       "      <td>0</td>\n",
       "      <td>...</td>\n",
       "      <td>0</td>\n",
       "      <td>0.0</td>\n",
       "      <td>0</td>\n",
       "      <td>0.000</td>\n",
       "      <td>0</td>\n",
       "      <td>0</td>\n",
       "      <td>151.30</td>\n",
       "      <td>1</td>\n",
       "      <td>1525</td>\n",
       "      <td>0.0667</td>\n",
       "    </tr>\n",
       "    <tr>\n",
       "      <th>1</th>\n",
       "      <td>3701672</td>\n",
       "      <td>43e4be7ad72cc7</td>\n",
       "      <td>521836de101ee8</td>\n",
       "      <td>b65de9055327e0</td>\n",
       "      <td>0</td>\n",
       "      <td>0</td>\n",
       "      <td>36.71</td>\n",
       "      <td>0</td>\n",
       "      <td>0</td>\n",
       "      <td>0</td>\n",
       "      <td>...</td>\n",
       "      <td>0</td>\n",
       "      <td>0.0</td>\n",
       "      <td>0</td>\n",
       "      <td>0.000</td>\n",
       "      <td>0</td>\n",
       "      <td>0</td>\n",
       "      <td>1918.00</td>\n",
       "      <td>7</td>\n",
       "      <td>1516</td>\n",
       "      <td>0.5862</td>\n",
       "    </tr>\n",
       "    <tr>\n",
       "      <th>2</th>\n",
       "      <td>2059784</td>\n",
       "      <td>9a68690e31fdff</td>\n",
       "      <td>4a72ffa2cebd90</td>\n",
       "      <td>d6aad3f9830e60</td>\n",
       "      <td>0</td>\n",
       "      <td>1</td>\n",
       "      <td>47.73</td>\n",
       "      <td>0</td>\n",
       "      <td>0</td>\n",
       "      <td>0</td>\n",
       "      <td>...</td>\n",
       "      <td>0</td>\n",
       "      <td>4088.0</td>\n",
       "      <td>0</td>\n",
       "      <td>0.000</td>\n",
       "      <td>0</td>\n",
       "      <td>0</td>\n",
       "      <td>820.00</td>\n",
       "      <td>7</td>\n",
       "      <td>0</td>\n",
       "      <td>0.8105</td>\n",
       "    </tr>\n",
       "    <tr>\n",
       "      <th>3</th>\n",
       "      <td>1302036</td>\n",
       "      <td>b147e1bd448fc4</td>\n",
       "      <td>9a8991656b3fea</td>\n",
       "      <td>d931c0932d8aca</td>\n",
       "      <td>0</td>\n",
       "      <td>0</td>\n",
       "      <td>0.00</td>\n",
       "      <td>0</td>\n",
       "      <td>0</td>\n",
       "      <td>0</td>\n",
       "      <td>...</td>\n",
       "      <td>1</td>\n",
       "      <td>0.0</td>\n",
       "      <td>0</td>\n",
       "      <td>0.000</td>\n",
       "      <td>0</td>\n",
       "      <td>0</td>\n",
       "      <td>38.81</td>\n",
       "      <td>0</td>\n",
       "      <td>1515</td>\n",
       "      <td>0.5556</td>\n",
       "    </tr>\n",
       "    <tr>\n",
       "      <th>4</th>\n",
       "      <td>297180</td>\n",
       "      <td>d818b4edd59612</td>\n",
       "      <td>eece87c8b846b3</td>\n",
       "      <td>ec2b5ed94baae3</td>\n",
       "      <td>0</td>\n",
       "      <td>2</td>\n",
       "      <td>100.00</td>\n",
       "      <td>0</td>\n",
       "      <td>0</td>\n",
       "      <td>3</td>\n",
       "      <td>...</td>\n",
       "      <td>0</td>\n",
       "      <td>918.4</td>\n",
       "      <td>0</td>\n",
       "      <td>0.000</td>\n",
       "      <td>0</td>\n",
       "      <td>0</td>\n",
       "      <td>1721.00</td>\n",
       "      <td>5</td>\n",
       "      <td>0</td>\n",
       "      <td>0.6429</td>\n",
       "    </tr>\n",
       "    <tr>\n",
       "      <th>...</th>\n",
       "      <td>...</td>\n",
       "      <td>...</td>\n",
       "      <td>...</td>\n",
       "      <td>...</td>\n",
       "      <td>...</td>\n",
       "      <td>...</td>\n",
       "      <td>...</td>\n",
       "      <td>...</td>\n",
       "      <td>...</td>\n",
       "      <td>...</td>\n",
       "      <td>...</td>\n",
       "      <td>...</td>\n",
       "      <td>...</td>\n",
       "      <td>...</td>\n",
       "      <td>...</td>\n",
       "      <td>...</td>\n",
       "      <td>...</td>\n",
       "      <td>...</td>\n",
       "      <td>...</td>\n",
       "      <td>...</td>\n",
       "      <td>...</td>\n",
       "    </tr>\n",
       "    <tr>\n",
       "      <th>1111737</th>\n",
       "      <td>4209703</td>\n",
       "      <td>43739241d6a8e8</td>\n",
       "      <td>afb7c87045825e</td>\n",
       "      <td>ad5719d2422207</td>\n",
       "      <td>0</td>\n",
       "      <td>0</td>\n",
       "      <td>70.31</td>\n",
       "      <td>0</td>\n",
       "      <td>0</td>\n",
       "      <td>0</td>\n",
       "      <td>...</td>\n",
       "      <td>0</td>\n",
       "      <td>0.0</td>\n",
       "      <td>0</td>\n",
       "      <td>0.000</td>\n",
       "      <td>0</td>\n",
       "      <td>0</td>\n",
       "      <td>799.80</td>\n",
       "      <td>2</td>\n",
       "      <td>0</td>\n",
       "      <td>0.3929</td>\n",
       "    </tr>\n",
       "    <tr>\n",
       "      <th>1111738</th>\n",
       "      <td>4311549</td>\n",
       "      <td>d57c8a22a9e38b</td>\n",
       "      <td>85e0624ddd2cb0</td>\n",
       "      <td>c3f50eef6dbb01</td>\n",
       "      <td>0</td>\n",
       "      <td>3</td>\n",
       "      <td>334.10</td>\n",
       "      <td>0</td>\n",
       "      <td>0</td>\n",
       "      <td>1</td>\n",
       "      <td>...</td>\n",
       "      <td>0</td>\n",
       "      <td>1549.0</td>\n",
       "      <td>0</td>\n",
       "      <td>0.000</td>\n",
       "      <td>0</td>\n",
       "      <td>0</td>\n",
       "      <td>2777.00</td>\n",
       "      <td>7</td>\n",
       "      <td>0</td>\n",
       "      <td>0.8542</td>\n",
       "    </tr>\n",
       "    <tr>\n",
       "      <th>1111739</th>\n",
       "      <td>3521011</td>\n",
       "      <td>c7ad131758ba55</td>\n",
       "      <td>b3759687b385b3</td>\n",
       "      <td>990a8d68ec2bc4</td>\n",
       "      <td>0</td>\n",
       "      <td>0</td>\n",
       "      <td>119.30</td>\n",
       "      <td>1</td>\n",
       "      <td>0</td>\n",
       "      <td>0</td>\n",
       "      <td>...</td>\n",
       "      <td>0</td>\n",
       "      <td>0.0</td>\n",
       "      <td>0</td>\n",
       "      <td>0.000</td>\n",
       "      <td>0</td>\n",
       "      <td>0</td>\n",
       "      <td>60.45</td>\n",
       "      <td>1</td>\n",
       "      <td>0</td>\n",
       "      <td>0.7174</td>\n",
       "    </tr>\n",
       "    <tr>\n",
       "      <th>1111740</th>\n",
       "      <td>2138826</td>\n",
       "      <td>8237d06ea2c508</td>\n",
       "      <td>13a05023ab7735</td>\n",
       "      <td>f93b1f0defaee5</td>\n",
       "      <td>1</td>\n",
       "      <td>4</td>\n",
       "      <td>53.51</td>\n",
       "      <td>1</td>\n",
       "      <td>0</td>\n",
       "      <td>7</td>\n",
       "      <td>...</td>\n",
       "      <td>1</td>\n",
       "      <td>3610.0</td>\n",
       "      <td>0</td>\n",
       "      <td>0.000</td>\n",
       "      <td>1</td>\n",
       "      <td>0</td>\n",
       "      <td>2209.00</td>\n",
       "      <td>4</td>\n",
       "      <td>0</td>\n",
       "      <td>0.9000</td>\n",
       "    </tr>\n",
       "    <tr>\n",
       "      <th>1111741</th>\n",
       "      <td>609836</td>\n",
       "      <td>9beb0064c56445</td>\n",
       "      <td>5cfa1834dc5b11</td>\n",
       "      <td>0406ce4ab7a1bd</td>\n",
       "      <td>5</td>\n",
       "      <td>3</td>\n",
       "      <td>607.40</td>\n",
       "      <td>3</td>\n",
       "      <td>0</td>\n",
       "      <td>3</td>\n",
       "      <td>...</td>\n",
       "      <td>0</td>\n",
       "      <td>713.9</td>\n",
       "      <td>0</td>\n",
       "      <td>8.912</td>\n",
       "      <td>0</td>\n",
       "      <td>0</td>\n",
       "      <td>3713.00</td>\n",
       "      <td>5</td>\n",
       "      <td>1611</td>\n",
       "      <td>1.0000</td>\n",
       "    </tr>\n",
       "  </tbody>\n",
       "</table>\n",
       "<p>1111742 rows × 30 columns</p>\n",
       "</div>"
      ],
      "text/plain": [
       "         Unnamed: 0              Id         groupId         matchId  assists  \\\n",
       "0           2093518  a3e3cea9f2e314  c9f6eaa81245b5  a3d8693390584c        0   \n",
       "1           3701672  43e4be7ad72cc7  521836de101ee8  b65de9055327e0        0   \n",
       "2           2059784  9a68690e31fdff  4a72ffa2cebd90  d6aad3f9830e60        0   \n",
       "3           1302036  b147e1bd448fc4  9a8991656b3fea  d931c0932d8aca        0   \n",
       "4            297180  d818b4edd59612  eece87c8b846b3  ec2b5ed94baae3        0   \n",
       "...             ...             ...             ...             ...      ...   \n",
       "1111737     4209703  43739241d6a8e8  afb7c87045825e  ad5719d2422207        0   \n",
       "1111738     4311549  d57c8a22a9e38b  85e0624ddd2cb0  c3f50eef6dbb01        0   \n",
       "1111739     3521011  c7ad131758ba55  b3759687b385b3  990a8d68ec2bc4        0   \n",
       "1111740     2138826  8237d06ea2c508  13a05023ab7735  f93b1f0defaee5        1   \n",
       "1111741      609836  9beb0064c56445  5cfa1834dc5b11  0406ce4ab7a1bd        5   \n",
       "\n",
       "         boosts  damageDealt  DBNOs  headshotKills  heals  ...  revives  \\\n",
       "0             0        25.93      0              0      0  ...        0   \n",
       "1             0        36.71      0              0      0  ...        0   \n",
       "2             1        47.73      0              0      0  ...        0   \n",
       "3             0         0.00      0              0      0  ...        1   \n",
       "4             2       100.00      0              0      3  ...        0   \n",
       "...         ...          ...    ...            ...    ...  ...      ...   \n",
       "1111737       0        70.31      0              0      0  ...        0   \n",
       "1111738       3       334.10      0              0      1  ...        0   \n",
       "1111739       0       119.30      1              0      0  ...        0   \n",
       "1111740       4        53.51      1              0      7  ...        1   \n",
       "1111741       3       607.40      3              0      3  ...        0   \n",
       "\n",
       "         rideDistance  roadKills  swimDistance  teamKills  vehicleDestroys  \\\n",
       "0                 0.0          0         0.000          0                0   \n",
       "1                 0.0          0         0.000          0                0   \n",
       "2              4088.0          0         0.000          0                0   \n",
       "3                 0.0          0         0.000          0                0   \n",
       "4               918.4          0         0.000          0                0   \n",
       "...               ...        ...           ...        ...              ...   \n",
       "1111737           0.0          0         0.000          0                0   \n",
       "1111738        1549.0          0         0.000          0                0   \n",
       "1111739           0.0          0         0.000          0                0   \n",
       "1111740        3610.0          0         0.000          1                0   \n",
       "1111741         713.9          0         8.912          0                0   \n",
       "\n",
       "        walkDistance  weaponsAcquired  winPoints  winPlacePerc  \n",
       "0             151.30                1       1525        0.0667  \n",
       "1            1918.00                7       1516        0.5862  \n",
       "2             820.00                7          0        0.8105  \n",
       "3              38.81                0       1515        0.5556  \n",
       "4            1721.00                5          0        0.6429  \n",
       "...              ...              ...        ...           ...  \n",
       "1111737       799.80                2          0        0.3929  \n",
       "1111738      2777.00                7          0        0.8542  \n",
       "1111739        60.45                1          0        0.7174  \n",
       "1111740      2209.00                4          0        0.9000  \n",
       "1111741      3713.00                5       1611        1.0000  \n",
       "\n",
       "[1111742 rows x 30 columns]"
      ]
     },
     "execution_count": 2,
     "metadata": {},
     "output_type": "execute_result"
    }
   ],
   "source": [
    "df=pd.read_csv('C:\\\\Users\\\\chint\\\\Downloads\\\\data.csv')\n",
    "df"
   ]
  },
  {
   "cell_type": "code",
   "execution_count": 10,
   "id": "reserved-growing",
   "metadata": {},
   "outputs": [
    {
     "data": {
      "text/plain": [
       "(1111742, 30)"
      ]
     },
     "execution_count": 10,
     "metadata": {},
     "output_type": "execute_result"
    }
   ],
   "source": [
    "df.shape"
   ]
  },
  {
   "cell_type": "code",
   "execution_count": 11,
   "id": "first-livestock",
   "metadata": {},
   "outputs": [
    {
     "data": {
      "text/html": [
       "<div>\n",
       "<style scoped>\n",
       "    .dataframe tbody tr th:only-of-type {\n",
       "        vertical-align: middle;\n",
       "    }\n",
       "\n",
       "    .dataframe tbody tr th {\n",
       "        vertical-align: top;\n",
       "    }\n",
       "\n",
       "    .dataframe thead th {\n",
       "        text-align: right;\n",
       "    }\n",
       "</style>\n",
       "<table border=\"1\" class=\"dataframe\">\n",
       "  <thead>\n",
       "    <tr style=\"text-align: right;\">\n",
       "      <th></th>\n",
       "      <th>Unnamed: 0</th>\n",
       "      <th>assists</th>\n",
       "      <th>boosts</th>\n",
       "      <th>damageDealt</th>\n",
       "      <th>DBNOs</th>\n",
       "      <th>headshotKills</th>\n",
       "      <th>heals</th>\n",
       "      <th>killPlace</th>\n",
       "      <th>killPoints</th>\n",
       "      <th>kills</th>\n",
       "      <th>...</th>\n",
       "      <th>revives</th>\n",
       "      <th>rideDistance</th>\n",
       "      <th>roadKills</th>\n",
       "      <th>swimDistance</th>\n",
       "      <th>teamKills</th>\n",
       "      <th>vehicleDestroys</th>\n",
       "      <th>walkDistance</th>\n",
       "      <th>weaponsAcquired</th>\n",
       "      <th>winPoints</th>\n",
       "      <th>winPlacePerc</th>\n",
       "    </tr>\n",
       "  </thead>\n",
       "  <tbody>\n",
       "    <tr>\n",
       "      <th>count</th>\n",
       "      <td>1.111742e+06</td>\n",
       "      <td>1.111742e+06</td>\n",
       "      <td>1.111742e+06</td>\n",
       "      <td>1.111742e+06</td>\n",
       "      <td>1.111742e+06</td>\n",
       "      <td>1.111742e+06</td>\n",
       "      <td>1.111742e+06</td>\n",
       "      <td>1.111742e+06</td>\n",
       "      <td>1.111742e+06</td>\n",
       "      <td>1.111742e+06</td>\n",
       "      <td>...</td>\n",
       "      <td>1.111742e+06</td>\n",
       "      <td>1.111742e+06</td>\n",
       "      <td>1.111742e+06</td>\n",
       "      <td>1.111742e+06</td>\n",
       "      <td>1.111742e+06</td>\n",
       "      <td>1.111742e+06</td>\n",
       "      <td>1.111742e+06</td>\n",
       "      <td>1.111742e+06</td>\n",
       "      <td>1.111742e+06</td>\n",
       "      <td>1.111741e+06</td>\n",
       "    </tr>\n",
       "    <tr>\n",
       "      <th>mean</th>\n",
       "      <td>2.224362e+06</td>\n",
       "      <td>2.336738e-01</td>\n",
       "      <td>1.106655e+00</td>\n",
       "      <td>1.307364e+02</td>\n",
       "      <td>6.573612e-01</td>\n",
       "      <td>2.266488e-01</td>\n",
       "      <td>1.370348e+00</td>\n",
       "      <td>4.759562e+01</td>\n",
       "      <td>5.044301e+02</td>\n",
       "      <td>9.255097e-01</td>\n",
       "      <td>...</td>\n",
       "      <td>1.641784e-01</td>\n",
       "      <td>6.042142e+02</td>\n",
       "      <td>3.551184e-03</td>\n",
       "      <td>4.545068e+00</td>\n",
       "      <td>2.401097e-02</td>\n",
       "      <td>7.833652e-03</td>\n",
       "      <td>1.153282e+03</td>\n",
       "      <td>3.659685e+00</td>\n",
       "      <td>6.057065e+02</td>\n",
       "      <td>4.727868e-01</td>\n",
       "    </tr>\n",
       "    <tr>\n",
       "      <th>std</th>\n",
       "      <td>1.283879e+06</td>\n",
       "      <td>5.894028e-01</td>\n",
       "      <td>1.716050e+00</td>\n",
       "      <td>1.711755e+02</td>\n",
       "      <td>1.146023e+00</td>\n",
       "      <td>6.033356e-01</td>\n",
       "      <td>2.683819e+00</td>\n",
       "      <td>2.747025e+01</td>\n",
       "      <td>6.274006e+02</td>\n",
       "      <td>1.562216e+00</td>\n",
       "      <td>...</td>\n",
       "      <td>4.704189e-01</td>\n",
       "      <td>1.495949e+03</td>\n",
       "      <td>7.385452e-02</td>\n",
       "      <td>3.061857e+01</td>\n",
       "      <td>1.678909e-01</td>\n",
       "      <td>9.194621e-02</td>\n",
       "      <td>1.182788e+03</td>\n",
       "      <td>2.461805e+00</td>\n",
       "      <td>7.395140e+02</td>\n",
       "      <td>3.073771e-01</td>\n",
       "    </tr>\n",
       "    <tr>\n",
       "      <th>min</th>\n",
       "      <td>6.000000e+00</td>\n",
       "      <td>0.000000e+00</td>\n",
       "      <td>0.000000e+00</td>\n",
       "      <td>0.000000e+00</td>\n",
       "      <td>0.000000e+00</td>\n",
       "      <td>0.000000e+00</td>\n",
       "      <td>0.000000e+00</td>\n",
       "      <td>1.000000e+00</td>\n",
       "      <td>0.000000e+00</td>\n",
       "      <td>0.000000e+00</td>\n",
       "      <td>...</td>\n",
       "      <td>0.000000e+00</td>\n",
       "      <td>0.000000e+00</td>\n",
       "      <td>0.000000e+00</td>\n",
       "      <td>0.000000e+00</td>\n",
       "      <td>0.000000e+00</td>\n",
       "      <td>0.000000e+00</td>\n",
       "      <td>0.000000e+00</td>\n",
       "      <td>0.000000e+00</td>\n",
       "      <td>0.000000e+00</td>\n",
       "      <td>0.000000e+00</td>\n",
       "    </tr>\n",
       "    <tr>\n",
       "      <th>25%</th>\n",
       "      <td>1.112440e+06</td>\n",
       "      <td>0.000000e+00</td>\n",
       "      <td>0.000000e+00</td>\n",
       "      <td>0.000000e+00</td>\n",
       "      <td>0.000000e+00</td>\n",
       "      <td>0.000000e+00</td>\n",
       "      <td>0.000000e+00</td>\n",
       "      <td>2.400000e+01</td>\n",
       "      <td>0.000000e+00</td>\n",
       "      <td>0.000000e+00</td>\n",
       "      <td>...</td>\n",
       "      <td>0.000000e+00</td>\n",
       "      <td>0.000000e+00</td>\n",
       "      <td>0.000000e+00</td>\n",
       "      <td>0.000000e+00</td>\n",
       "      <td>0.000000e+00</td>\n",
       "      <td>0.000000e+00</td>\n",
       "      <td>1.552000e+02</td>\n",
       "      <td>2.000000e+00</td>\n",
       "      <td>0.000000e+00</td>\n",
       "      <td>2.000000e-01</td>\n",
       "    </tr>\n",
       "    <tr>\n",
       "      <th>50%</th>\n",
       "      <td>2.223772e+06</td>\n",
       "      <td>0.000000e+00</td>\n",
       "      <td>0.000000e+00</td>\n",
       "      <td>8.411000e+01</td>\n",
       "      <td>0.000000e+00</td>\n",
       "      <td>0.000000e+00</td>\n",
       "      <td>0.000000e+00</td>\n",
       "      <td>4.700000e+01</td>\n",
       "      <td>0.000000e+00</td>\n",
       "      <td>0.000000e+00</td>\n",
       "      <td>...</td>\n",
       "      <td>0.000000e+00</td>\n",
       "      <td>0.000000e+00</td>\n",
       "      <td>0.000000e+00</td>\n",
       "      <td>0.000000e+00</td>\n",
       "      <td>0.000000e+00</td>\n",
       "      <td>0.000000e+00</td>\n",
       "      <td>6.841000e+02</td>\n",
       "      <td>3.000000e+00</td>\n",
       "      <td>0.000000e+00</td>\n",
       "      <td>4.583000e-01</td>\n",
       "    </tr>\n",
       "    <tr>\n",
       "      <th>75%</th>\n",
       "      <td>3.337954e+06</td>\n",
       "      <td>0.000000e+00</td>\n",
       "      <td>2.000000e+00</td>\n",
       "      <td>1.859000e+02</td>\n",
       "      <td>1.000000e+00</td>\n",
       "      <td>0.000000e+00</td>\n",
       "      <td>2.000000e+00</td>\n",
       "      <td>7.100000e+01</td>\n",
       "      <td>1.171000e+03</td>\n",
       "      <td>1.000000e+00</td>\n",
       "      <td>...</td>\n",
       "      <td>0.000000e+00</td>\n",
       "      <td>7.927500e-02</td>\n",
       "      <td>0.000000e+00</td>\n",
       "      <td>0.000000e+00</td>\n",
       "      <td>0.000000e+00</td>\n",
       "      <td>0.000000e+00</td>\n",
       "      <td>1.975000e+03</td>\n",
       "      <td>5.000000e+00</td>\n",
       "      <td>1.495000e+03</td>\n",
       "      <td>7.407000e-01</td>\n",
       "    </tr>\n",
       "    <tr>\n",
       "      <th>max</th>\n",
       "      <td>4.446964e+06</td>\n",
       "      <td>1.700000e+01</td>\n",
       "      <td>2.400000e+01</td>\n",
       "      <td>5.990000e+03</td>\n",
       "      <td>3.500000e+01</td>\n",
       "      <td>6.400000e+01</td>\n",
       "      <td>7.300000e+01</td>\n",
       "      <td>1.000000e+02</td>\n",
       "      <td>2.170000e+03</td>\n",
       "      <td>7.200000e+01</td>\n",
       "      <td>...</td>\n",
       "      <td>2.300000e+01</td>\n",
       "      <td>3.540000e+04</td>\n",
       "      <td>1.400000e+01</td>\n",
       "      <td>2.668000e+03</td>\n",
       "      <td>1.000000e+01</td>\n",
       "      <td>5.000000e+00</td>\n",
       "      <td>1.396000e+04</td>\n",
       "      <td>1.770000e+02</td>\n",
       "      <td>2.002000e+03</td>\n",
       "      <td>1.000000e+00</td>\n",
       "    </tr>\n",
       "  </tbody>\n",
       "</table>\n",
       "<p>8 rows × 26 columns</p>\n",
       "</div>"
      ],
      "text/plain": [
       "         Unnamed: 0       assists        boosts   damageDealt         DBNOs  \\\n",
       "count  1.111742e+06  1.111742e+06  1.111742e+06  1.111742e+06  1.111742e+06   \n",
       "mean   2.224362e+06  2.336738e-01  1.106655e+00  1.307364e+02  6.573612e-01   \n",
       "std    1.283879e+06  5.894028e-01  1.716050e+00  1.711755e+02  1.146023e+00   \n",
       "min    6.000000e+00  0.000000e+00  0.000000e+00  0.000000e+00  0.000000e+00   \n",
       "25%    1.112440e+06  0.000000e+00  0.000000e+00  0.000000e+00  0.000000e+00   \n",
       "50%    2.223772e+06  0.000000e+00  0.000000e+00  8.411000e+01  0.000000e+00   \n",
       "75%    3.337954e+06  0.000000e+00  2.000000e+00  1.859000e+02  1.000000e+00   \n",
       "max    4.446964e+06  1.700000e+01  2.400000e+01  5.990000e+03  3.500000e+01   \n",
       "\n",
       "       headshotKills         heals     killPlace    killPoints         kills  \\\n",
       "count   1.111742e+06  1.111742e+06  1.111742e+06  1.111742e+06  1.111742e+06   \n",
       "mean    2.266488e-01  1.370348e+00  4.759562e+01  5.044301e+02  9.255097e-01   \n",
       "std     6.033356e-01  2.683819e+00  2.747025e+01  6.274006e+02  1.562216e+00   \n",
       "min     0.000000e+00  0.000000e+00  1.000000e+00  0.000000e+00  0.000000e+00   \n",
       "25%     0.000000e+00  0.000000e+00  2.400000e+01  0.000000e+00  0.000000e+00   \n",
       "50%     0.000000e+00  0.000000e+00  4.700000e+01  0.000000e+00  0.000000e+00   \n",
       "75%     0.000000e+00  2.000000e+00  7.100000e+01  1.171000e+03  1.000000e+00   \n",
       "max     6.400000e+01  7.300000e+01  1.000000e+02  2.170000e+03  7.200000e+01   \n",
       "\n",
       "       ...       revives  rideDistance     roadKills  swimDistance  \\\n",
       "count  ...  1.111742e+06  1.111742e+06  1.111742e+06  1.111742e+06   \n",
       "mean   ...  1.641784e-01  6.042142e+02  3.551184e-03  4.545068e+00   \n",
       "std    ...  4.704189e-01  1.495949e+03  7.385452e-02  3.061857e+01   \n",
       "min    ...  0.000000e+00  0.000000e+00  0.000000e+00  0.000000e+00   \n",
       "25%    ...  0.000000e+00  0.000000e+00  0.000000e+00  0.000000e+00   \n",
       "50%    ...  0.000000e+00  0.000000e+00  0.000000e+00  0.000000e+00   \n",
       "75%    ...  0.000000e+00  7.927500e-02  0.000000e+00  0.000000e+00   \n",
       "max    ...  2.300000e+01  3.540000e+04  1.400000e+01  2.668000e+03   \n",
       "\n",
       "          teamKills  vehicleDestroys  walkDistance  weaponsAcquired  \\\n",
       "count  1.111742e+06     1.111742e+06  1.111742e+06     1.111742e+06   \n",
       "mean   2.401097e-02     7.833652e-03  1.153282e+03     3.659685e+00   \n",
       "std    1.678909e-01     9.194621e-02  1.182788e+03     2.461805e+00   \n",
       "min    0.000000e+00     0.000000e+00  0.000000e+00     0.000000e+00   \n",
       "25%    0.000000e+00     0.000000e+00  1.552000e+02     2.000000e+00   \n",
       "50%    0.000000e+00     0.000000e+00  6.841000e+02     3.000000e+00   \n",
       "75%    0.000000e+00     0.000000e+00  1.975000e+03     5.000000e+00   \n",
       "max    1.000000e+01     5.000000e+00  1.396000e+04     1.770000e+02   \n",
       "\n",
       "          winPoints  winPlacePerc  \n",
       "count  1.111742e+06  1.111741e+06  \n",
       "mean   6.057065e+02  4.727868e-01  \n",
       "std    7.395140e+02  3.073771e-01  \n",
       "min    0.000000e+00  0.000000e+00  \n",
       "25%    0.000000e+00  2.000000e-01  \n",
       "50%    0.000000e+00  4.583000e-01  \n",
       "75%    1.495000e+03  7.407000e-01  \n",
       "max    2.002000e+03  1.000000e+00  \n",
       "\n",
       "[8 rows x 26 columns]"
      ]
     },
     "execution_count": 11,
     "metadata": {},
     "output_type": "execute_result"
    }
   ],
   "source": [
    "df.describe()"
   ]
  },
  {
   "cell_type": "code",
   "execution_count": 12,
   "id": "pediatric-gothic",
   "metadata": {},
   "outputs": [
    {
     "data": {
      "text/html": [
       "<div>\n",
       "<style scoped>\n",
       "    .dataframe tbody tr th:only-of-type {\n",
       "        vertical-align: middle;\n",
       "    }\n",
       "\n",
       "    .dataframe tbody tr th {\n",
       "        vertical-align: top;\n",
       "    }\n",
       "\n",
       "    .dataframe thead th {\n",
       "        text-align: right;\n",
       "    }\n",
       "</style>\n",
       "<table border=\"1\" class=\"dataframe\">\n",
       "  <thead>\n",
       "    <tr style=\"text-align: right;\">\n",
       "      <th></th>\n",
       "      <th>Unnamed: 0</th>\n",
       "      <th>Id</th>\n",
       "      <th>groupId</th>\n",
       "      <th>matchId</th>\n",
       "      <th>assists</th>\n",
       "      <th>boosts</th>\n",
       "      <th>damageDealt</th>\n",
       "      <th>DBNOs</th>\n",
       "      <th>headshotKills</th>\n",
       "      <th>heals</th>\n",
       "      <th>...</th>\n",
       "      <th>revives</th>\n",
       "      <th>rideDistance</th>\n",
       "      <th>roadKills</th>\n",
       "      <th>swimDistance</th>\n",
       "      <th>teamKills</th>\n",
       "      <th>vehicleDestroys</th>\n",
       "      <th>walkDistance</th>\n",
       "      <th>weaponsAcquired</th>\n",
       "      <th>winPoints</th>\n",
       "      <th>winPlacePerc</th>\n",
       "    </tr>\n",
       "  </thead>\n",
       "  <tbody>\n",
       "    <tr>\n",
       "      <th>0</th>\n",
       "      <td>2093518</td>\n",
       "      <td>a3e3cea9f2e314</td>\n",
       "      <td>c9f6eaa81245b5</td>\n",
       "      <td>a3d8693390584c</td>\n",
       "      <td>0</td>\n",
       "      <td>0</td>\n",
       "      <td>25.93</td>\n",
       "      <td>0</td>\n",
       "      <td>0</td>\n",
       "      <td>0</td>\n",
       "      <td>...</td>\n",
       "      <td>0</td>\n",
       "      <td>0.0</td>\n",
       "      <td>0</td>\n",
       "      <td>0.0</td>\n",
       "      <td>0</td>\n",
       "      <td>0</td>\n",
       "      <td>151.30</td>\n",
       "      <td>1</td>\n",
       "      <td>1525</td>\n",
       "      <td>0.0667</td>\n",
       "    </tr>\n",
       "    <tr>\n",
       "      <th>1</th>\n",
       "      <td>3701672</td>\n",
       "      <td>43e4be7ad72cc7</td>\n",
       "      <td>521836de101ee8</td>\n",
       "      <td>b65de9055327e0</td>\n",
       "      <td>0</td>\n",
       "      <td>0</td>\n",
       "      <td>36.71</td>\n",
       "      <td>0</td>\n",
       "      <td>0</td>\n",
       "      <td>0</td>\n",
       "      <td>...</td>\n",
       "      <td>0</td>\n",
       "      <td>0.0</td>\n",
       "      <td>0</td>\n",
       "      <td>0.0</td>\n",
       "      <td>0</td>\n",
       "      <td>0</td>\n",
       "      <td>1918.00</td>\n",
       "      <td>7</td>\n",
       "      <td>1516</td>\n",
       "      <td>0.5862</td>\n",
       "    </tr>\n",
       "    <tr>\n",
       "      <th>2</th>\n",
       "      <td>2059784</td>\n",
       "      <td>9a68690e31fdff</td>\n",
       "      <td>4a72ffa2cebd90</td>\n",
       "      <td>d6aad3f9830e60</td>\n",
       "      <td>0</td>\n",
       "      <td>1</td>\n",
       "      <td>47.73</td>\n",
       "      <td>0</td>\n",
       "      <td>0</td>\n",
       "      <td>0</td>\n",
       "      <td>...</td>\n",
       "      <td>0</td>\n",
       "      <td>4088.0</td>\n",
       "      <td>0</td>\n",
       "      <td>0.0</td>\n",
       "      <td>0</td>\n",
       "      <td>0</td>\n",
       "      <td>820.00</td>\n",
       "      <td>7</td>\n",
       "      <td>0</td>\n",
       "      <td>0.8105</td>\n",
       "    </tr>\n",
       "    <tr>\n",
       "      <th>3</th>\n",
       "      <td>1302036</td>\n",
       "      <td>b147e1bd448fc4</td>\n",
       "      <td>9a8991656b3fea</td>\n",
       "      <td>d931c0932d8aca</td>\n",
       "      <td>0</td>\n",
       "      <td>0</td>\n",
       "      <td>0.00</td>\n",
       "      <td>0</td>\n",
       "      <td>0</td>\n",
       "      <td>0</td>\n",
       "      <td>...</td>\n",
       "      <td>1</td>\n",
       "      <td>0.0</td>\n",
       "      <td>0</td>\n",
       "      <td>0.0</td>\n",
       "      <td>0</td>\n",
       "      <td>0</td>\n",
       "      <td>38.81</td>\n",
       "      <td>0</td>\n",
       "      <td>1515</td>\n",
       "      <td>0.5556</td>\n",
       "    </tr>\n",
       "    <tr>\n",
       "      <th>4</th>\n",
       "      <td>297180</td>\n",
       "      <td>d818b4edd59612</td>\n",
       "      <td>eece87c8b846b3</td>\n",
       "      <td>ec2b5ed94baae3</td>\n",
       "      <td>0</td>\n",
       "      <td>2</td>\n",
       "      <td>100.00</td>\n",
       "      <td>0</td>\n",
       "      <td>0</td>\n",
       "      <td>3</td>\n",
       "      <td>...</td>\n",
       "      <td>0</td>\n",
       "      <td>918.4</td>\n",
       "      <td>0</td>\n",
       "      <td>0.0</td>\n",
       "      <td>0</td>\n",
       "      <td>0</td>\n",
       "      <td>1721.00</td>\n",
       "      <td>5</td>\n",
       "      <td>0</td>\n",
       "      <td>0.6429</td>\n",
       "    </tr>\n",
       "  </tbody>\n",
       "</table>\n",
       "<p>5 rows × 30 columns</p>\n",
       "</div>"
      ],
      "text/plain": [
       "   Unnamed: 0              Id         groupId         matchId  assists  \\\n",
       "0     2093518  a3e3cea9f2e314  c9f6eaa81245b5  a3d8693390584c        0   \n",
       "1     3701672  43e4be7ad72cc7  521836de101ee8  b65de9055327e0        0   \n",
       "2     2059784  9a68690e31fdff  4a72ffa2cebd90  d6aad3f9830e60        0   \n",
       "3     1302036  b147e1bd448fc4  9a8991656b3fea  d931c0932d8aca        0   \n",
       "4      297180  d818b4edd59612  eece87c8b846b3  ec2b5ed94baae3        0   \n",
       "\n",
       "   boosts  damageDealt  DBNOs  headshotKills  heals  ...  revives  \\\n",
       "0       0        25.93      0              0      0  ...        0   \n",
       "1       0        36.71      0              0      0  ...        0   \n",
       "2       1        47.73      0              0      0  ...        0   \n",
       "3       0         0.00      0              0      0  ...        1   \n",
       "4       2       100.00      0              0      3  ...        0   \n",
       "\n",
       "   rideDistance  roadKills  swimDistance  teamKills  vehicleDestroys  \\\n",
       "0           0.0          0           0.0          0                0   \n",
       "1           0.0          0           0.0          0                0   \n",
       "2        4088.0          0           0.0          0                0   \n",
       "3           0.0          0           0.0          0                0   \n",
       "4         918.4          0           0.0          0                0   \n",
       "\n",
       "  walkDistance  weaponsAcquired  winPoints  winPlacePerc  \n",
       "0       151.30                1       1525        0.0667  \n",
       "1      1918.00                7       1516        0.5862  \n",
       "2       820.00                7          0        0.8105  \n",
       "3        38.81                0       1515        0.5556  \n",
       "4      1721.00                5          0        0.6429  \n",
       "\n",
       "[5 rows x 30 columns]"
      ]
     },
     "execution_count": 12,
     "metadata": {},
     "output_type": "execute_result"
    }
   ],
   "source": [
    "df.head()"
   ]
  },
  {
   "cell_type": "code",
   "execution_count": 13,
   "id": "atomic-vampire",
   "metadata": {},
   "outputs": [
    {
     "data": {
      "text/html": [
       "<div>\n",
       "<style scoped>\n",
       "    .dataframe tbody tr th:only-of-type {\n",
       "        vertical-align: middle;\n",
       "    }\n",
       "\n",
       "    .dataframe tbody tr th {\n",
       "        vertical-align: top;\n",
       "    }\n",
       "\n",
       "    .dataframe thead th {\n",
       "        text-align: right;\n",
       "    }\n",
       "</style>\n",
       "<table border=\"1\" class=\"dataframe\">\n",
       "  <thead>\n",
       "    <tr style=\"text-align: right;\">\n",
       "      <th></th>\n",
       "      <th>Unnamed: 0</th>\n",
       "      <th>Id</th>\n",
       "      <th>groupId</th>\n",
       "      <th>matchId</th>\n",
       "      <th>assists</th>\n",
       "      <th>boosts</th>\n",
       "      <th>damageDealt</th>\n",
       "      <th>DBNOs</th>\n",
       "      <th>headshotKills</th>\n",
       "      <th>heals</th>\n",
       "      <th>...</th>\n",
       "      <th>revives</th>\n",
       "      <th>rideDistance</th>\n",
       "      <th>roadKills</th>\n",
       "      <th>swimDistance</th>\n",
       "      <th>teamKills</th>\n",
       "      <th>vehicleDestroys</th>\n",
       "      <th>walkDistance</th>\n",
       "      <th>weaponsAcquired</th>\n",
       "      <th>winPoints</th>\n",
       "      <th>winPlacePerc</th>\n",
       "    </tr>\n",
       "  </thead>\n",
       "  <tbody>\n",
       "    <tr>\n",
       "      <th>1111737</th>\n",
       "      <td>4209703</td>\n",
       "      <td>43739241d6a8e8</td>\n",
       "      <td>afb7c87045825e</td>\n",
       "      <td>ad5719d2422207</td>\n",
       "      <td>0</td>\n",
       "      <td>0</td>\n",
       "      <td>70.31</td>\n",
       "      <td>0</td>\n",
       "      <td>0</td>\n",
       "      <td>0</td>\n",
       "      <td>...</td>\n",
       "      <td>0</td>\n",
       "      <td>0.0</td>\n",
       "      <td>0</td>\n",
       "      <td>0.000</td>\n",
       "      <td>0</td>\n",
       "      <td>0</td>\n",
       "      <td>799.80</td>\n",
       "      <td>2</td>\n",
       "      <td>0</td>\n",
       "      <td>0.3929</td>\n",
       "    </tr>\n",
       "    <tr>\n",
       "      <th>1111738</th>\n",
       "      <td>4311549</td>\n",
       "      <td>d57c8a22a9e38b</td>\n",
       "      <td>85e0624ddd2cb0</td>\n",
       "      <td>c3f50eef6dbb01</td>\n",
       "      <td>0</td>\n",
       "      <td>3</td>\n",
       "      <td>334.10</td>\n",
       "      <td>0</td>\n",
       "      <td>0</td>\n",
       "      <td>1</td>\n",
       "      <td>...</td>\n",
       "      <td>0</td>\n",
       "      <td>1549.0</td>\n",
       "      <td>0</td>\n",
       "      <td>0.000</td>\n",
       "      <td>0</td>\n",
       "      <td>0</td>\n",
       "      <td>2777.00</td>\n",
       "      <td>7</td>\n",
       "      <td>0</td>\n",
       "      <td>0.8542</td>\n",
       "    </tr>\n",
       "    <tr>\n",
       "      <th>1111739</th>\n",
       "      <td>3521011</td>\n",
       "      <td>c7ad131758ba55</td>\n",
       "      <td>b3759687b385b3</td>\n",
       "      <td>990a8d68ec2bc4</td>\n",
       "      <td>0</td>\n",
       "      <td>0</td>\n",
       "      <td>119.30</td>\n",
       "      <td>1</td>\n",
       "      <td>0</td>\n",
       "      <td>0</td>\n",
       "      <td>...</td>\n",
       "      <td>0</td>\n",
       "      <td>0.0</td>\n",
       "      <td>0</td>\n",
       "      <td>0.000</td>\n",
       "      <td>0</td>\n",
       "      <td>0</td>\n",
       "      <td>60.45</td>\n",
       "      <td>1</td>\n",
       "      <td>0</td>\n",
       "      <td>0.7174</td>\n",
       "    </tr>\n",
       "    <tr>\n",
       "      <th>1111740</th>\n",
       "      <td>2138826</td>\n",
       "      <td>8237d06ea2c508</td>\n",
       "      <td>13a05023ab7735</td>\n",
       "      <td>f93b1f0defaee5</td>\n",
       "      <td>1</td>\n",
       "      <td>4</td>\n",
       "      <td>53.51</td>\n",
       "      <td>1</td>\n",
       "      <td>0</td>\n",
       "      <td>7</td>\n",
       "      <td>...</td>\n",
       "      <td>1</td>\n",
       "      <td>3610.0</td>\n",
       "      <td>0</td>\n",
       "      <td>0.000</td>\n",
       "      <td>1</td>\n",
       "      <td>0</td>\n",
       "      <td>2209.00</td>\n",
       "      <td>4</td>\n",
       "      <td>0</td>\n",
       "      <td>0.9000</td>\n",
       "    </tr>\n",
       "    <tr>\n",
       "      <th>1111741</th>\n",
       "      <td>609836</td>\n",
       "      <td>9beb0064c56445</td>\n",
       "      <td>5cfa1834dc5b11</td>\n",
       "      <td>0406ce4ab7a1bd</td>\n",
       "      <td>5</td>\n",
       "      <td>3</td>\n",
       "      <td>607.40</td>\n",
       "      <td>3</td>\n",
       "      <td>0</td>\n",
       "      <td>3</td>\n",
       "      <td>...</td>\n",
       "      <td>0</td>\n",
       "      <td>713.9</td>\n",
       "      <td>0</td>\n",
       "      <td>8.912</td>\n",
       "      <td>0</td>\n",
       "      <td>0</td>\n",
       "      <td>3713.00</td>\n",
       "      <td>5</td>\n",
       "      <td>1611</td>\n",
       "      <td>1.0000</td>\n",
       "    </tr>\n",
       "  </tbody>\n",
       "</table>\n",
       "<p>5 rows × 30 columns</p>\n",
       "</div>"
      ],
      "text/plain": [
       "         Unnamed: 0              Id         groupId         matchId  assists  \\\n",
       "1111737     4209703  43739241d6a8e8  afb7c87045825e  ad5719d2422207        0   \n",
       "1111738     4311549  d57c8a22a9e38b  85e0624ddd2cb0  c3f50eef6dbb01        0   \n",
       "1111739     3521011  c7ad131758ba55  b3759687b385b3  990a8d68ec2bc4        0   \n",
       "1111740     2138826  8237d06ea2c508  13a05023ab7735  f93b1f0defaee5        1   \n",
       "1111741      609836  9beb0064c56445  5cfa1834dc5b11  0406ce4ab7a1bd        5   \n",
       "\n",
       "         boosts  damageDealt  DBNOs  headshotKills  heals  ...  revives  \\\n",
       "1111737       0        70.31      0              0      0  ...        0   \n",
       "1111738       3       334.10      0              0      1  ...        0   \n",
       "1111739       0       119.30      1              0      0  ...        0   \n",
       "1111740       4        53.51      1              0      7  ...        1   \n",
       "1111741       3       607.40      3              0      3  ...        0   \n",
       "\n",
       "         rideDistance  roadKills  swimDistance  teamKills  vehicleDestroys  \\\n",
       "1111737           0.0          0         0.000          0                0   \n",
       "1111738        1549.0          0         0.000          0                0   \n",
       "1111739           0.0          0         0.000          0                0   \n",
       "1111740        3610.0          0         0.000          1                0   \n",
       "1111741         713.9          0         8.912          0                0   \n",
       "\n",
       "        walkDistance  weaponsAcquired  winPoints  winPlacePerc  \n",
       "1111737       799.80                2          0        0.3929  \n",
       "1111738      2777.00                7          0        0.8542  \n",
       "1111739        60.45                1          0        0.7174  \n",
       "1111740      2209.00                4          0        0.9000  \n",
       "1111741      3713.00                5       1611        1.0000  \n",
       "\n",
       "[5 rows x 30 columns]"
      ]
     },
     "execution_count": 13,
     "metadata": {},
     "output_type": "execute_result"
    }
   ],
   "source": [
    "df.tail()"
   ]
  },
  {
   "cell_type": "code",
   "execution_count": 14,
   "id": "harmful-maldives",
   "metadata": {},
   "outputs": [
    {
     "name": "stdout",
     "output_type": "stream",
     "text": [
      "<class 'pandas.core.frame.DataFrame'>\n",
      "RangeIndex: 1111742 entries, 0 to 1111741\n",
      "Data columns (total 30 columns):\n",
      " #   Column           Non-Null Count    Dtype  \n",
      "---  ------           --------------    -----  \n",
      " 0   Unnamed: 0       1111742 non-null  int64  \n",
      " 1   Id               1111742 non-null  object \n",
      " 2   groupId          1111742 non-null  object \n",
      " 3   matchId          1111742 non-null  object \n",
      " 4   assists          1111742 non-null  int64  \n",
      " 5   boosts           1111742 non-null  int64  \n",
      " 6   damageDealt      1111742 non-null  float64\n",
      " 7   DBNOs            1111742 non-null  int64  \n",
      " 8   headshotKills    1111742 non-null  int64  \n",
      " 9   heals            1111742 non-null  int64  \n",
      " 10  killPlace        1111742 non-null  int64  \n",
      " 11  killPoints       1111742 non-null  int64  \n",
      " 12  kills            1111742 non-null  int64  \n",
      " 13  killStreaks      1111742 non-null  int64  \n",
      " 14  longestKill      1111742 non-null  float64\n",
      " 15  matchDuration    1111742 non-null  int64  \n",
      " 16  matchType        1111742 non-null  object \n",
      " 17  maxPlace         1111742 non-null  int64  \n",
      " 18  numGroups        1111742 non-null  int64  \n",
      " 19  rankPoints       1111742 non-null  int64  \n",
      " 20  revives          1111742 non-null  int64  \n",
      " 21  rideDistance     1111742 non-null  float64\n",
      " 22  roadKills        1111742 non-null  int64  \n",
      " 23  swimDistance     1111742 non-null  float64\n",
      " 24  teamKills        1111742 non-null  int64  \n",
      " 25  vehicleDestroys  1111742 non-null  int64  \n",
      " 26  walkDistance     1111742 non-null  float64\n",
      " 27  weaponsAcquired  1111742 non-null  int64  \n",
      " 28  winPoints        1111742 non-null  int64  \n",
      " 29  winPlacePerc     1111741 non-null  float64\n",
      "dtypes: float64(6), int64(20), object(4)\n",
      "memory usage: 254.5+ MB\n"
     ]
    }
   ],
   "source": [
    "df.info()"
   ]
  },
  {
   "cell_type": "code",
   "execution_count": 15,
   "id": "novel-services",
   "metadata": {},
   "outputs": [
    {
     "data": {
      "text/plain": [
       "Index(['Unnamed: 0', 'Id', 'groupId', 'matchId', 'assists', 'boosts',\n",
       "       'damageDealt', 'DBNOs', 'headshotKills', 'heals', 'killPlace',\n",
       "       'killPoints', 'kills', 'killStreaks', 'longestKill', 'matchDuration',\n",
       "       'matchType', 'maxPlace', 'numGroups', 'rankPoints', 'revives',\n",
       "       'rideDistance', 'roadKills', 'swimDistance', 'teamKills',\n",
       "       'vehicleDestroys', 'walkDistance', 'weaponsAcquired', 'winPoints',\n",
       "       'winPlacePerc'],\n",
       "      dtype='object')"
      ]
     },
     "execution_count": 15,
     "metadata": {},
     "output_type": "execute_result"
    }
   ],
   "source": [
    "df.columns"
   ]
  },
  {
   "cell_type": "markdown",
   "id": "protected-jackson",
   "metadata": {},
   "source": [
    "# EDA"
   ]
  },
  {
   "cell_type": "markdown",
   "id": "crude-spirituality",
   "metadata": {},
   "source": [
    "# Univariate - Analysis of one variable"
   ]
  },
  {
   "cell_type": "markdown",
   "id": "accredited-referral",
   "metadata": {},
   "source": [
    "# Assists"
   ]
  },
  {
   "cell_type": "code",
   "execution_count": 27,
   "id": "derived-surname",
   "metadata": {},
   "outputs": [
    {
     "data": {
      "text/html": [
       "<div>\n",
       "<style scoped>\n",
       "    .dataframe tbody tr th:only-of-type {\n",
       "        vertical-align: middle;\n",
       "    }\n",
       "\n",
       "    .dataframe tbody tr th {\n",
       "        vertical-align: top;\n",
       "    }\n",
       "\n",
       "    .dataframe thead th {\n",
       "        text-align: right;\n",
       "    }\n",
       "</style>\n",
       "<table border=\"1\" class=\"dataframe\">\n",
       "  <thead>\n",
       "    <tr style=\"text-align: right;\">\n",
       "      <th></th>\n",
       "      <th>Unnamed: 0</th>\n",
       "      <th>Id</th>\n",
       "      <th>groupId</th>\n",
       "      <th>matchId</th>\n",
       "      <th>assists</th>\n",
       "      <th>boosts</th>\n",
       "      <th>damageDealt</th>\n",
       "      <th>DBNOs</th>\n",
       "      <th>headshotKills</th>\n",
       "      <th>heals</th>\n",
       "      <th>...</th>\n",
       "      <th>revives</th>\n",
       "      <th>rideDistance</th>\n",
       "      <th>roadKills</th>\n",
       "      <th>swimDistance</th>\n",
       "      <th>teamKills</th>\n",
       "      <th>vehicleDestroys</th>\n",
       "      <th>walkDistance</th>\n",
       "      <th>weaponsAcquired</th>\n",
       "      <th>winPoints</th>\n",
       "      <th>winPlacePerc</th>\n",
       "    </tr>\n",
       "  </thead>\n",
       "  <tbody>\n",
       "  </tbody>\n",
       "</table>\n",
       "<p>0 rows × 30 columns</p>\n",
       "</div>"
      ],
      "text/plain": [
       "Empty DataFrame\n",
       "Columns: [Unnamed: 0, Id, groupId, matchId, assists, boosts, damageDealt, DBNOs, headshotKills, heals, killPlace, killPoints, kills, killStreaks, longestKill, matchDuration, matchType, maxPlace, numGroups, rankPoints, revives, rideDistance, roadKills, swimDistance, teamKills, vehicleDestroys, walkDistance, weaponsAcquired, winPoints, winPlacePerc]\n",
       "Index: []\n",
       "\n",
       "[0 rows x 30 columns]"
      ]
     },
     "execution_count": 27,
     "metadata": {},
     "output_type": "execute_result"
    }
   ],
   "source": [
    "df[df['assists'] == df['boosts'].max()]"
   ]
  },
  {
   "cell_type": "code",
   "execution_count": 28,
   "id": "twelve-communication",
   "metadata": {},
   "outputs": [
    {
     "data": {
      "text/html": [
       "<div>\n",
       "<style scoped>\n",
       "    .dataframe tbody tr th:only-of-type {\n",
       "        vertical-align: middle;\n",
       "    }\n",
       "\n",
       "    .dataframe tbody tr th {\n",
       "        vertical-align: top;\n",
       "    }\n",
       "\n",
       "    .dataframe thead th {\n",
       "        text-align: right;\n",
       "    }\n",
       "</style>\n",
       "<table border=\"1\" class=\"dataframe\">\n",
       "  <thead>\n",
       "    <tr style=\"text-align: right;\">\n",
       "      <th></th>\n",
       "      <th>Unnamed: 0</th>\n",
       "      <th>Id</th>\n",
       "      <th>groupId</th>\n",
       "      <th>matchId</th>\n",
       "      <th>assists</th>\n",
       "      <th>boosts</th>\n",
       "      <th>damageDealt</th>\n",
       "      <th>DBNOs</th>\n",
       "      <th>headshotKills</th>\n",
       "      <th>heals</th>\n",
       "      <th>...</th>\n",
       "      <th>revives</th>\n",
       "      <th>rideDistance</th>\n",
       "      <th>roadKills</th>\n",
       "      <th>swimDistance</th>\n",
       "      <th>teamKills</th>\n",
       "      <th>vehicleDestroys</th>\n",
       "      <th>walkDistance</th>\n",
       "      <th>weaponsAcquired</th>\n",
       "      <th>winPoints</th>\n",
       "      <th>winPlacePerc</th>\n",
       "    </tr>\n",
       "  </thead>\n",
       "  <tbody>\n",
       "    <tr>\n",
       "      <th>0</th>\n",
       "      <td>2093518</td>\n",
       "      <td>a3e3cea9f2e314</td>\n",
       "      <td>c9f6eaa81245b5</td>\n",
       "      <td>a3d8693390584c</td>\n",
       "      <td>0</td>\n",
       "      <td>0</td>\n",
       "      <td>25.93</td>\n",
       "      <td>0</td>\n",
       "      <td>0</td>\n",
       "      <td>0</td>\n",
       "      <td>...</td>\n",
       "      <td>0</td>\n",
       "      <td>0.0</td>\n",
       "      <td>0</td>\n",
       "      <td>0.0</td>\n",
       "      <td>0</td>\n",
       "      <td>0</td>\n",
       "      <td>151.30</td>\n",
       "      <td>1</td>\n",
       "      <td>1525</td>\n",
       "      <td>0.0667</td>\n",
       "    </tr>\n",
       "    <tr>\n",
       "      <th>1</th>\n",
       "      <td>3701672</td>\n",
       "      <td>43e4be7ad72cc7</td>\n",
       "      <td>521836de101ee8</td>\n",
       "      <td>b65de9055327e0</td>\n",
       "      <td>0</td>\n",
       "      <td>0</td>\n",
       "      <td>36.71</td>\n",
       "      <td>0</td>\n",
       "      <td>0</td>\n",
       "      <td>0</td>\n",
       "      <td>...</td>\n",
       "      <td>0</td>\n",
       "      <td>0.0</td>\n",
       "      <td>0</td>\n",
       "      <td>0.0</td>\n",
       "      <td>0</td>\n",
       "      <td>0</td>\n",
       "      <td>1918.00</td>\n",
       "      <td>7</td>\n",
       "      <td>1516</td>\n",
       "      <td>0.5862</td>\n",
       "    </tr>\n",
       "    <tr>\n",
       "      <th>3</th>\n",
       "      <td>1302036</td>\n",
       "      <td>b147e1bd448fc4</td>\n",
       "      <td>9a8991656b3fea</td>\n",
       "      <td>d931c0932d8aca</td>\n",
       "      <td>0</td>\n",
       "      <td>0</td>\n",
       "      <td>0.00</td>\n",
       "      <td>0</td>\n",
       "      <td>0</td>\n",
       "      <td>0</td>\n",
       "      <td>...</td>\n",
       "      <td>1</td>\n",
       "      <td>0.0</td>\n",
       "      <td>0</td>\n",
       "      <td>0.0</td>\n",
       "      <td>0</td>\n",
       "      <td>0</td>\n",
       "      <td>38.81</td>\n",
       "      <td>0</td>\n",
       "      <td>1515</td>\n",
       "      <td>0.5556</td>\n",
       "    </tr>\n",
       "    <tr>\n",
       "      <th>5</th>\n",
       "      <td>2862125</td>\n",
       "      <td>e705cb7a4446ea</td>\n",
       "      <td>9d7180a567d020</td>\n",
       "      <td>b146588581df18</td>\n",
       "      <td>0</td>\n",
       "      <td>0</td>\n",
       "      <td>0.00</td>\n",
       "      <td>0</td>\n",
       "      <td>0</td>\n",
       "      <td>0</td>\n",
       "      <td>...</td>\n",
       "      <td>0</td>\n",
       "      <td>0.0</td>\n",
       "      <td>0</td>\n",
       "      <td>0.0</td>\n",
       "      <td>0</td>\n",
       "      <td>0</td>\n",
       "      <td>446.00</td>\n",
       "      <td>3</td>\n",
       "      <td>0</td>\n",
       "      <td>0.4946</td>\n",
       "    </tr>\n",
       "    <tr>\n",
       "      <th>6</th>\n",
       "      <td>365937</td>\n",
       "      <td>e253262031e08f</td>\n",
       "      <td>e5df2dcdaf3f4b</td>\n",
       "      <td>c1385ae84655e6</td>\n",
       "      <td>0</td>\n",
       "      <td>0</td>\n",
       "      <td>0.00</td>\n",
       "      <td>0</td>\n",
       "      <td>0</td>\n",
       "      <td>0</td>\n",
       "      <td>...</td>\n",
       "      <td>0</td>\n",
       "      <td>0.0</td>\n",
       "      <td>0</td>\n",
       "      <td>0.0</td>\n",
       "      <td>0</td>\n",
       "      <td>0</td>\n",
       "      <td>45.86</td>\n",
       "      <td>1</td>\n",
       "      <td>0</td>\n",
       "      <td>0.1939</td>\n",
       "    </tr>\n",
       "    <tr>\n",
       "      <th>...</th>\n",
       "      <td>...</td>\n",
       "      <td>...</td>\n",
       "      <td>...</td>\n",
       "      <td>...</td>\n",
       "      <td>...</td>\n",
       "      <td>...</td>\n",
       "      <td>...</td>\n",
       "      <td>...</td>\n",
       "      <td>...</td>\n",
       "      <td>...</td>\n",
       "      <td>...</td>\n",
       "      <td>...</td>\n",
       "      <td>...</td>\n",
       "      <td>...</td>\n",
       "      <td>...</td>\n",
       "      <td>...</td>\n",
       "      <td>...</td>\n",
       "      <td>...</td>\n",
       "      <td>...</td>\n",
       "      <td>...</td>\n",
       "      <td>...</td>\n",
       "    </tr>\n",
       "    <tr>\n",
       "      <th>1111733</th>\n",
       "      <td>34444</td>\n",
       "      <td>e78e5ff96a9780</td>\n",
       "      <td>3f3e6497f02f15</td>\n",
       "      <td>dccb3ec00e243d</td>\n",
       "      <td>0</td>\n",
       "      <td>0</td>\n",
       "      <td>0.00</td>\n",
       "      <td>0</td>\n",
       "      <td>0</td>\n",
       "      <td>0</td>\n",
       "      <td>...</td>\n",
       "      <td>0</td>\n",
       "      <td>0.0</td>\n",
       "      <td>0</td>\n",
       "      <td>0.0</td>\n",
       "      <td>0</td>\n",
       "      <td>0</td>\n",
       "      <td>477.80</td>\n",
       "      <td>4</td>\n",
       "      <td>1467</td>\n",
       "      <td>0.2553</td>\n",
       "    </tr>\n",
       "    <tr>\n",
       "      <th>1111735</th>\n",
       "      <td>820792</td>\n",
       "      <td>49397c8362ea49</td>\n",
       "      <td>5396945f3be420</td>\n",
       "      <td>cf3a8317cd5e9d</td>\n",
       "      <td>0</td>\n",
       "      <td>0</td>\n",
       "      <td>0.00</td>\n",
       "      <td>0</td>\n",
       "      <td>0</td>\n",
       "      <td>0</td>\n",
       "      <td>...</td>\n",
       "      <td>0</td>\n",
       "      <td>0.0</td>\n",
       "      <td>0</td>\n",
       "      <td>0.0</td>\n",
       "      <td>0</td>\n",
       "      <td>0</td>\n",
       "      <td>75.83</td>\n",
       "      <td>1</td>\n",
       "      <td>1498</td>\n",
       "      <td>0.5909</td>\n",
       "    </tr>\n",
       "    <tr>\n",
       "      <th>1111736</th>\n",
       "      <td>4412080</td>\n",
       "      <td>a87134976177e4</td>\n",
       "      <td>b22d88e51a064b</td>\n",
       "      <td>175b0cabe633c0</td>\n",
       "      <td>0</td>\n",
       "      <td>0</td>\n",
       "      <td>0.00</td>\n",
       "      <td>0</td>\n",
       "      <td>0</td>\n",
       "      <td>0</td>\n",
       "      <td>...</td>\n",
       "      <td>0</td>\n",
       "      <td>0.0</td>\n",
       "      <td>0</td>\n",
       "      <td>0.0</td>\n",
       "      <td>0</td>\n",
       "      <td>0</td>\n",
       "      <td>31.01</td>\n",
       "      <td>2</td>\n",
       "      <td>0</td>\n",
       "      <td>0.0851</td>\n",
       "    </tr>\n",
       "    <tr>\n",
       "      <th>1111737</th>\n",
       "      <td>4209703</td>\n",
       "      <td>43739241d6a8e8</td>\n",
       "      <td>afb7c87045825e</td>\n",
       "      <td>ad5719d2422207</td>\n",
       "      <td>0</td>\n",
       "      <td>0</td>\n",
       "      <td>70.31</td>\n",
       "      <td>0</td>\n",
       "      <td>0</td>\n",
       "      <td>0</td>\n",
       "      <td>...</td>\n",
       "      <td>0</td>\n",
       "      <td>0.0</td>\n",
       "      <td>0</td>\n",
       "      <td>0.0</td>\n",
       "      <td>0</td>\n",
       "      <td>0</td>\n",
       "      <td>799.80</td>\n",
       "      <td>2</td>\n",
       "      <td>0</td>\n",
       "      <td>0.3929</td>\n",
       "    </tr>\n",
       "    <tr>\n",
       "      <th>1111739</th>\n",
       "      <td>3521011</td>\n",
       "      <td>c7ad131758ba55</td>\n",
       "      <td>b3759687b385b3</td>\n",
       "      <td>990a8d68ec2bc4</td>\n",
       "      <td>0</td>\n",
       "      <td>0</td>\n",
       "      <td>119.30</td>\n",
       "      <td>1</td>\n",
       "      <td>0</td>\n",
       "      <td>0</td>\n",
       "      <td>...</td>\n",
       "      <td>0</td>\n",
       "      <td>0.0</td>\n",
       "      <td>0</td>\n",
       "      <td>0.0</td>\n",
       "      <td>0</td>\n",
       "      <td>0</td>\n",
       "      <td>60.45</td>\n",
       "      <td>1</td>\n",
       "      <td>0</td>\n",
       "      <td>0.7174</td>\n",
       "    </tr>\n",
       "  </tbody>\n",
       "</table>\n",
       "<p>630341 rows × 30 columns</p>\n",
       "</div>"
      ],
      "text/plain": [
       "         Unnamed: 0              Id         groupId         matchId  assists  \\\n",
       "0           2093518  a3e3cea9f2e314  c9f6eaa81245b5  a3d8693390584c        0   \n",
       "1           3701672  43e4be7ad72cc7  521836de101ee8  b65de9055327e0        0   \n",
       "3           1302036  b147e1bd448fc4  9a8991656b3fea  d931c0932d8aca        0   \n",
       "5           2862125  e705cb7a4446ea  9d7180a567d020  b146588581df18        0   \n",
       "6            365937  e253262031e08f  e5df2dcdaf3f4b  c1385ae84655e6        0   \n",
       "...             ...             ...             ...             ...      ...   \n",
       "1111733       34444  e78e5ff96a9780  3f3e6497f02f15  dccb3ec00e243d        0   \n",
       "1111735      820792  49397c8362ea49  5396945f3be420  cf3a8317cd5e9d        0   \n",
       "1111736     4412080  a87134976177e4  b22d88e51a064b  175b0cabe633c0        0   \n",
       "1111737     4209703  43739241d6a8e8  afb7c87045825e  ad5719d2422207        0   \n",
       "1111739     3521011  c7ad131758ba55  b3759687b385b3  990a8d68ec2bc4        0   \n",
       "\n",
       "         boosts  damageDealt  DBNOs  headshotKills  heals  ...  revives  \\\n",
       "0             0        25.93      0              0      0  ...        0   \n",
       "1             0        36.71      0              0      0  ...        0   \n",
       "3             0         0.00      0              0      0  ...        1   \n",
       "5             0         0.00      0              0      0  ...        0   \n",
       "6             0         0.00      0              0      0  ...        0   \n",
       "...         ...          ...    ...            ...    ...  ...      ...   \n",
       "1111733       0         0.00      0              0      0  ...        0   \n",
       "1111735       0         0.00      0              0      0  ...        0   \n",
       "1111736       0         0.00      0              0      0  ...        0   \n",
       "1111737       0        70.31      0              0      0  ...        0   \n",
       "1111739       0       119.30      1              0      0  ...        0   \n",
       "\n",
       "         rideDistance  roadKills  swimDistance  teamKills  vehicleDestroys  \\\n",
       "0                 0.0          0           0.0          0                0   \n",
       "1                 0.0          0           0.0          0                0   \n",
       "3                 0.0          0           0.0          0                0   \n",
       "5                 0.0          0           0.0          0                0   \n",
       "6                 0.0          0           0.0          0                0   \n",
       "...               ...        ...           ...        ...              ...   \n",
       "1111733           0.0          0           0.0          0                0   \n",
       "1111735           0.0          0           0.0          0                0   \n",
       "1111736           0.0          0           0.0          0                0   \n",
       "1111737           0.0          0           0.0          0                0   \n",
       "1111739           0.0          0           0.0          0                0   \n",
       "\n",
       "        walkDistance  weaponsAcquired  winPoints  winPlacePerc  \n",
       "0             151.30                1       1525        0.0667  \n",
       "1            1918.00                7       1516        0.5862  \n",
       "3              38.81                0       1515        0.5556  \n",
       "5             446.00                3          0        0.4946  \n",
       "6              45.86                1          0        0.1939  \n",
       "...              ...              ...        ...           ...  \n",
       "1111733       477.80                4       1467        0.2553  \n",
       "1111735        75.83                1       1498        0.5909  \n",
       "1111736        31.01                2          0        0.0851  \n",
       "1111737       799.80                2          0        0.3929  \n",
       "1111739        60.45                1          0        0.7174  \n",
       "\n",
       "[630341 rows x 30 columns]"
      ]
     },
     "execution_count": 28,
     "metadata": {},
     "output_type": "execute_result"
    }
   ],
   "source": [
    "df[df['boosts'] == df['boosts'].min()]"
   ]
  },
  {
   "cell_type": "code",
   "execution_count": 19,
   "id": "sustainable-league",
   "metadata": {},
   "outputs": [
    {
     "data": {
      "text/plain": [
       "Text(0, 0.5, 'number of players')"
      ]
     },
     "execution_count": 19,
     "metadata": {},
     "output_type": "execute_result"
    },
    {
     "data": {
      "image/png": "[encoded data removed]",
      "text/plain": [
       "<Figure size 720x360 with 1 Axes>"
      ]
     },
     "metadata": {
      "needs_background": "light"
     },
     "output_type": "display_data"
    }
   ],
   "source": [
    "plt.figure(figsize=(10,5))\n",
    "df['assists'].value_counts().plot.line()\n",
    "plt.xlabel('assists')\n",
    "plt.ylabel('number of players')"
   ]
  },
  {
   "cell_type": "markdown",
   "id": "comfortable-queen",
   "metadata": {},
   "source": [
    "## conclusion: there are more than 800000 players with 0 assists."
   ]
  },
  {
   "cell_type": "markdown",
   "id": "broad-revelation",
   "metadata": {},
   "source": [
    "# boosts"
   ]
  },
  {
   "cell_type": "code",
   "execution_count": 25,
   "id": "personalized-syria",
   "metadata": {},
   "outputs": [
    {
     "data": {
      "text/html": [
       "<div>\n",
       "<style scoped>\n",
       "    .dataframe tbody tr th:only-of-type {\n",
       "        vertical-align: middle;\n",
       "    }\n",
       "\n",
       "    .dataframe tbody tr th {\n",
       "        vertical-align: top;\n",
       "    }\n",
       "\n",
       "    .dataframe thead th {\n",
       "        text-align: right;\n",
       "    }\n",
       "</style>\n",
       "<table border=\"1\" class=\"dataframe\">\n",
       "  <thead>\n",
       "    <tr style=\"text-align: right;\">\n",
       "      <th></th>\n",
       "      <th>Unnamed: 0</th>\n",
       "      <th>Id</th>\n",
       "      <th>groupId</th>\n",
       "      <th>matchId</th>\n",
       "      <th>assists</th>\n",
       "      <th>boosts</th>\n",
       "      <th>damageDealt</th>\n",
       "      <th>DBNOs</th>\n",
       "      <th>headshotKills</th>\n",
       "      <th>heals</th>\n",
       "      <th>...</th>\n",
       "      <th>revives</th>\n",
       "      <th>rideDistance</th>\n",
       "      <th>roadKills</th>\n",
       "      <th>swimDistance</th>\n",
       "      <th>teamKills</th>\n",
       "      <th>vehicleDestroys</th>\n",
       "      <th>walkDistance</th>\n",
       "      <th>weaponsAcquired</th>\n",
       "      <th>winPoints</th>\n",
       "      <th>winPlacePerc</th>\n",
       "    </tr>\n",
       "  </thead>\n",
       "  <tbody>\n",
       "    <tr>\n",
       "      <th>16975</th>\n",
       "      <td>3979434</td>\n",
       "      <td>d16b329d5ea64f</td>\n",
       "      <td>ba50388b7256f1</td>\n",
       "      <td>57770aadb2235b</td>\n",
       "      <td>0</td>\n",
       "      <td>24</td>\n",
       "      <td>0.0</td>\n",
       "      <td>0</td>\n",
       "      <td>0</td>\n",
       "      <td>1</td>\n",
       "      <td>...</td>\n",
       "      <td>0</td>\n",
       "      <td>0.0</td>\n",
       "      <td>0</td>\n",
       "      <td>0.0</td>\n",
       "      <td>0</td>\n",
       "      <td>0</td>\n",
       "      <td>267.3</td>\n",
       "      <td>8</td>\n",
       "      <td>0</td>\n",
       "      <td>0.0</td>\n",
       "    </tr>\n",
       "  </tbody>\n",
       "</table>\n",
       "<p>1 rows × 30 columns</p>\n",
       "</div>"
      ],
      "text/plain": [
       "       Unnamed: 0              Id         groupId         matchId  assists  \\\n",
       "16975     3979434  d16b329d5ea64f  ba50388b7256f1  57770aadb2235b        0   \n",
       "\n",
       "       boosts  damageDealt  DBNOs  headshotKills  heals  ...  revives  \\\n",
       "16975      24          0.0      0              0      1  ...        0   \n",
       "\n",
       "       rideDistance  roadKills  swimDistance  teamKills  vehicleDestroys  \\\n",
       "16975           0.0          0           0.0          0                0   \n",
       "\n",
       "      walkDistance  weaponsAcquired  winPoints  winPlacePerc  \n",
       "16975        267.3                8          0           0.0  \n",
       "\n",
       "[1 rows x 30 columns]"
      ]
     },
     "execution_count": 25,
     "metadata": {},
     "output_type": "execute_result"
    }
   ],
   "source": [
    "df[df['boosts'] == df['boosts'].max()]"
   ]
  },
  {
   "cell_type": "code",
   "execution_count": 26,
   "id": "european-satellite",
   "metadata": {},
   "outputs": [
    {
     "data": {
      "text/html": [
       "<div>\n",
       "<style scoped>\n",
       "    .dataframe tbody tr th:only-of-type {\n",
       "        vertical-align: middle;\n",
       "    }\n",
       "\n",
       "    .dataframe tbody tr th {\n",
       "        vertical-align: top;\n",
       "    }\n",
       "\n",
       "    .dataframe thead th {\n",
       "        text-align: right;\n",
       "    }\n",
       "</style>\n",
       "<table border=\"1\" class=\"dataframe\">\n",
       "  <thead>\n",
       "    <tr style=\"text-align: right;\">\n",
       "      <th></th>\n",
       "      <th>Unnamed: 0</th>\n",
       "      <th>Id</th>\n",
       "      <th>groupId</th>\n",
       "      <th>matchId</th>\n",
       "      <th>assists</th>\n",
       "      <th>boosts</th>\n",
       "      <th>damageDealt</th>\n",
       "      <th>DBNOs</th>\n",
       "      <th>headshotKills</th>\n",
       "      <th>heals</th>\n",
       "      <th>...</th>\n",
       "      <th>revives</th>\n",
       "      <th>rideDistance</th>\n",
       "      <th>roadKills</th>\n",
       "      <th>swimDistance</th>\n",
       "      <th>teamKills</th>\n",
       "      <th>vehicleDestroys</th>\n",
       "      <th>walkDistance</th>\n",
       "      <th>weaponsAcquired</th>\n",
       "      <th>winPoints</th>\n",
       "      <th>winPlacePerc</th>\n",
       "    </tr>\n",
       "  </thead>\n",
       "  <tbody>\n",
       "    <tr>\n",
       "      <th>0</th>\n",
       "      <td>2093518</td>\n",
       "      <td>a3e3cea9f2e314</td>\n",
       "      <td>c9f6eaa81245b5</td>\n",
       "      <td>a3d8693390584c</td>\n",
       "      <td>0</td>\n",
       "      <td>0</td>\n",
       "      <td>25.93</td>\n",
       "      <td>0</td>\n",
       "      <td>0</td>\n",
       "      <td>0</td>\n",
       "      <td>...</td>\n",
       "      <td>0</td>\n",
       "      <td>0.0</td>\n",
       "      <td>0</td>\n",
       "      <td>0.0</td>\n",
       "      <td>0</td>\n",
       "      <td>0</td>\n",
       "      <td>151.30</td>\n",
       "      <td>1</td>\n",
       "      <td>1525</td>\n",
       "      <td>0.0667</td>\n",
       "    </tr>\n",
       "    <tr>\n",
       "      <th>1</th>\n",
       "      <td>3701672</td>\n",
       "      <td>43e4be7ad72cc7</td>\n",
       "      <td>521836de101ee8</td>\n",
       "      <td>b65de9055327e0</td>\n",
       "      <td>0</td>\n",
       "      <td>0</td>\n",
       "      <td>36.71</td>\n",
       "      <td>0</td>\n",
       "      <td>0</td>\n",
       "      <td>0</td>\n",
       "      <td>...</td>\n",
       "      <td>0</td>\n",
       "      <td>0.0</td>\n",
       "      <td>0</td>\n",
       "      <td>0.0</td>\n",
       "      <td>0</td>\n",
       "      <td>0</td>\n",
       "      <td>1918.00</td>\n",
       "      <td>7</td>\n",
       "      <td>1516</td>\n",
       "      <td>0.5862</td>\n",
       "    </tr>\n",
       "    <tr>\n",
       "      <th>3</th>\n",
       "      <td>1302036</td>\n",
       "      <td>b147e1bd448fc4</td>\n",
       "      <td>9a8991656b3fea</td>\n",
       "      <td>d931c0932d8aca</td>\n",
       "      <td>0</td>\n",
       "      <td>0</td>\n",
       "      <td>0.00</td>\n",
       "      <td>0</td>\n",
       "      <td>0</td>\n",
       "      <td>0</td>\n",
       "      <td>...</td>\n",
       "      <td>1</td>\n",
       "      <td>0.0</td>\n",
       "      <td>0</td>\n",
       "      <td>0.0</td>\n",
       "      <td>0</td>\n",
       "      <td>0</td>\n",
       "      <td>38.81</td>\n",
       "      <td>0</td>\n",
       "      <td>1515</td>\n",
       "      <td>0.5556</td>\n",
       "    </tr>\n",
       "    <tr>\n",
       "      <th>5</th>\n",
       "      <td>2862125</td>\n",
       "      <td>e705cb7a4446ea</td>\n",
       "      <td>9d7180a567d020</td>\n",
       "      <td>b146588581df18</td>\n",
       "      <td>0</td>\n",
       "      <td>0</td>\n",
       "      <td>0.00</td>\n",
       "      <td>0</td>\n",
       "      <td>0</td>\n",
       "      <td>0</td>\n",
       "      <td>...</td>\n",
       "      <td>0</td>\n",
       "      <td>0.0</td>\n",
       "      <td>0</td>\n",
       "      <td>0.0</td>\n",
       "      <td>0</td>\n",
       "      <td>0</td>\n",
       "      <td>446.00</td>\n",
       "      <td>3</td>\n",
       "      <td>0</td>\n",
       "      <td>0.4946</td>\n",
       "    </tr>\n",
       "    <tr>\n",
       "      <th>6</th>\n",
       "      <td>365937</td>\n",
       "      <td>e253262031e08f</td>\n",
       "      <td>e5df2dcdaf3f4b</td>\n",
       "      <td>c1385ae84655e6</td>\n",
       "      <td>0</td>\n",
       "      <td>0</td>\n",
       "      <td>0.00</td>\n",
       "      <td>0</td>\n",
       "      <td>0</td>\n",
       "      <td>0</td>\n",
       "      <td>...</td>\n",
       "      <td>0</td>\n",
       "      <td>0.0</td>\n",
       "      <td>0</td>\n",
       "      <td>0.0</td>\n",
       "      <td>0</td>\n",
       "      <td>0</td>\n",
       "      <td>45.86</td>\n",
       "      <td>1</td>\n",
       "      <td>0</td>\n",
       "      <td>0.1939</td>\n",
       "    </tr>\n",
       "    <tr>\n",
       "      <th>...</th>\n",
       "      <td>...</td>\n",
       "      <td>...</td>\n",
       "      <td>...</td>\n",
       "      <td>...</td>\n",
       "      <td>...</td>\n",
       "      <td>...</td>\n",
       "      <td>...</td>\n",
       "      <td>...</td>\n",
       "      <td>...</td>\n",
       "      <td>...</td>\n",
       "      <td>...</td>\n",
       "      <td>...</td>\n",
       "      <td>...</td>\n",
       "      <td>...</td>\n",
       "      <td>...</td>\n",
       "      <td>...</td>\n",
       "      <td>...</td>\n",
       "      <td>...</td>\n",
       "      <td>...</td>\n",
       "      <td>...</td>\n",
       "      <td>...</td>\n",
       "    </tr>\n",
       "    <tr>\n",
       "      <th>1111733</th>\n",
       "      <td>34444</td>\n",
       "      <td>e78e5ff96a9780</td>\n",
       "      <td>3f3e6497f02f15</td>\n",
       "      <td>dccb3ec00e243d</td>\n",
       "      <td>0</td>\n",
       "      <td>0</td>\n",
       "      <td>0.00</td>\n",
       "      <td>0</td>\n",
       "      <td>0</td>\n",
       "      <td>0</td>\n",
       "      <td>...</td>\n",
       "      <td>0</td>\n",
       "      <td>0.0</td>\n",
       "      <td>0</td>\n",
       "      <td>0.0</td>\n",
       "      <td>0</td>\n",
       "      <td>0</td>\n",
       "      <td>477.80</td>\n",
       "      <td>4</td>\n",
       "      <td>1467</td>\n",
       "      <td>0.2553</td>\n",
       "    </tr>\n",
       "    <tr>\n",
       "      <th>1111735</th>\n",
       "      <td>820792</td>\n",
       "      <td>49397c8362ea49</td>\n",
       "      <td>5396945f3be420</td>\n",
       "      <td>cf3a8317cd5e9d</td>\n",
       "      <td>0</td>\n",
       "      <td>0</td>\n",
       "      <td>0.00</td>\n",
       "      <td>0</td>\n",
       "      <td>0</td>\n",
       "      <td>0</td>\n",
       "      <td>...</td>\n",
       "      <td>0</td>\n",
       "      <td>0.0</td>\n",
       "      <td>0</td>\n",
       "      <td>0.0</td>\n",
       "      <td>0</td>\n",
       "      <td>0</td>\n",
       "      <td>75.83</td>\n",
       "      <td>1</td>\n",
       "      <td>1498</td>\n",
       "      <td>0.5909</td>\n",
       "    </tr>\n",
       "    <tr>\n",
       "      <th>1111736</th>\n",
       "      <td>4412080</td>\n",
       "      <td>a87134976177e4</td>\n",
       "      <td>b22d88e51a064b</td>\n",
       "      <td>175b0cabe633c0</td>\n",
       "      <td>0</td>\n",
       "      <td>0</td>\n",
       "      <td>0.00</td>\n",
       "      <td>0</td>\n",
       "      <td>0</td>\n",
       "      <td>0</td>\n",
       "      <td>...</td>\n",
       "      <td>0</td>\n",
       "      <td>0.0</td>\n",
       "      <td>0</td>\n",
       "      <td>0.0</td>\n",
       "      <td>0</td>\n",
       "      <td>0</td>\n",
       "      <td>31.01</td>\n",
       "      <td>2</td>\n",
       "      <td>0</td>\n",
       "      <td>0.0851</td>\n",
       "    </tr>\n",
       "    <tr>\n",
       "      <th>1111737</th>\n",
       "      <td>4209703</td>\n",
       "      <td>43739241d6a8e8</td>\n",
       "      <td>afb7c87045825e</td>\n",
       "      <td>ad5719d2422207</td>\n",
       "      <td>0</td>\n",
       "      <td>0</td>\n",
       "      <td>70.31</td>\n",
       "      <td>0</td>\n",
       "      <td>0</td>\n",
       "      <td>0</td>\n",
       "      <td>...</td>\n",
       "      <td>0</td>\n",
       "      <td>0.0</td>\n",
       "      <td>0</td>\n",
       "      <td>0.0</td>\n",
       "      <td>0</td>\n",
       "      <td>0</td>\n",
       "      <td>799.80</td>\n",
       "      <td>2</td>\n",
       "      <td>0</td>\n",
       "      <td>0.3929</td>\n",
       "    </tr>\n",
       "    <tr>\n",
       "      <th>1111739</th>\n",
       "      <td>3521011</td>\n",
       "      <td>c7ad131758ba55</td>\n",
       "      <td>b3759687b385b3</td>\n",
       "      <td>990a8d68ec2bc4</td>\n",
       "      <td>0</td>\n",
       "      <td>0</td>\n",
       "      <td>119.30</td>\n",
       "      <td>1</td>\n",
       "      <td>0</td>\n",
       "      <td>0</td>\n",
       "      <td>...</td>\n",
       "      <td>0</td>\n",
       "      <td>0.0</td>\n",
       "      <td>0</td>\n",
       "      <td>0.0</td>\n",
       "      <td>0</td>\n",
       "      <td>0</td>\n",
       "      <td>60.45</td>\n",
       "      <td>1</td>\n",
       "      <td>0</td>\n",
       "      <td>0.7174</td>\n",
       "    </tr>\n",
       "  </tbody>\n",
       "</table>\n",
       "<p>630341 rows × 30 columns</p>\n",
       "</div>"
      ],
      "text/plain": [
       "         Unnamed: 0              Id         groupId         matchId  assists  \\\n",
       "0           2093518  a3e3cea9f2e314  c9f6eaa81245b5  a3d8693390584c        0   \n",
       "1           3701672  43e4be7ad72cc7  521836de101ee8  b65de9055327e0        0   \n",
       "3           1302036  b147e1bd448fc4  9a8991656b3fea  d931c0932d8aca        0   \n",
       "5           2862125  e705cb7a4446ea  9d7180a567d020  b146588581df18        0   \n",
       "6            365937  e253262031e08f  e5df2dcdaf3f4b  c1385ae84655e6        0   \n",
       "...             ...             ...             ...             ...      ...   \n",
       "1111733       34444  e78e5ff96a9780  3f3e6497f02f15  dccb3ec00e243d        0   \n",
       "1111735      820792  49397c8362ea49  5396945f3be420  cf3a8317cd5e9d        0   \n",
       "1111736     4412080  a87134976177e4  b22d88e51a064b  175b0cabe633c0        0   \n",
       "1111737     4209703  43739241d6a8e8  afb7c87045825e  ad5719d2422207        0   \n",
       "1111739     3521011  c7ad131758ba55  b3759687b385b3  990a8d68ec2bc4        0   \n",
       "\n",
       "         boosts  damageDealt  DBNOs  headshotKills  heals  ...  revives  \\\n",
       "0             0        25.93      0              0      0  ...        0   \n",
       "1             0        36.71      0              0      0  ...        0   \n",
       "3             0         0.00      0              0      0  ...        1   \n",
       "5             0         0.00      0              0      0  ...        0   \n",
       "6             0         0.00      0              0      0  ...        0   \n",
       "...         ...          ...    ...            ...    ...  ...      ...   \n",
       "1111733       0         0.00      0              0      0  ...        0   \n",
       "1111735       0         0.00      0              0      0  ...        0   \n",
       "1111736       0         0.00      0              0      0  ...        0   \n",
       "1111737       0        70.31      0              0      0  ...        0   \n",
       "1111739       0       119.30      1              0      0  ...        0   \n",
       "\n",
       "         rideDistance  roadKills  swimDistance  teamKills  vehicleDestroys  \\\n",
       "0                 0.0          0           0.0          0                0   \n",
       "1                 0.0          0           0.0          0                0   \n",
       "3                 0.0          0           0.0          0                0   \n",
       "5                 0.0          0           0.0          0                0   \n",
       "6                 0.0          0           0.0          0                0   \n",
       "...               ...        ...           ...        ...              ...   \n",
       "1111733           0.0          0           0.0          0                0   \n",
       "1111735           0.0          0           0.0          0                0   \n",
       "1111736           0.0          0           0.0          0                0   \n",
       "1111737           0.0          0           0.0          0                0   \n",
       "1111739           0.0          0           0.0          0                0   \n",
       "\n",
       "        walkDistance  weaponsAcquired  winPoints  winPlacePerc  \n",
       "0             151.30                1       1525        0.0667  \n",
       "1            1918.00                7       1516        0.5862  \n",
       "3              38.81                0       1515        0.5556  \n",
       "5             446.00                3          0        0.4946  \n",
       "6              45.86                1          0        0.1939  \n",
       "...              ...              ...        ...           ...  \n",
       "1111733       477.80                4       1467        0.2553  \n",
       "1111735        75.83                1       1498        0.5909  \n",
       "1111736        31.01                2          0        0.0851  \n",
       "1111737       799.80                2          0        0.3929  \n",
       "1111739        60.45                1          0        0.7174  \n",
       "\n",
       "[630341 rows x 30 columns]"
      ]
     },
     "execution_count": 26,
     "metadata": {},
     "output_type": "execute_result"
    }
   ],
   "source": [
    "df[df['boosts'] == df['boosts'].min()]"
   ]
  },
  {
   "cell_type": "code",
   "execution_count": 21,
   "id": "native-lincoln",
   "metadata": {},
   "outputs": [
    {
     "data": {
      "text/plain": [
       "Text(0, 0.5, 'number of players')"
      ]
     },
     "execution_count": 21,
     "metadata": {},
     "output_type": "execute_result"
    },
    {
     "data": {
      "image/png": "[encoded data removed]",
      "text/plain": [
       "<Figure size 720x360 with 1 Axes>"
      ]
     },
     "metadata": {
      "needs_background": "light"
     },
     "output_type": "display_data"
    }
   ],
   "source": [
    "plt.figure(figsize=(10,5))\n",
    "df['boosts'].value_counts().plot.area()\n",
    "plt.xlabel('boosts')\n",
    "plt.ylabel('number of players')"
   ]
  },
  {
   "cell_type": "markdown",
   "id": "junior-heading",
   "metadata": {},
   "source": [
    "## conclusion: there are 600000 players who used 0 boosts  in a game of 100 players and there are less players who used boosts more than 20."
   ]
  },
  {
   "cell_type": "markdown",
   "id": "electric-venezuela",
   "metadata": {},
   "source": [
    "# damagedealt"
   ]
  },
  {
   "cell_type": "code",
   "execution_count": 25,
   "id": "charged-peninsula",
   "metadata": {},
   "outputs": [
    {
     "data": {
      "text/plain": [
       "5990.0"
      ]
     },
     "execution_count": 25,
     "metadata": {},
     "output_type": "execute_result"
    }
   ],
   "source": [
    "df['damageDealt'].max()"
   ]
  },
  {
   "cell_type": "code",
   "execution_count": 26,
   "id": "possible-source",
   "metadata": {},
   "outputs": [
    {
     "data": {
      "text/plain": [
       "0.0"
      ]
     },
     "execution_count": 26,
     "metadata": {},
     "output_type": "execute_result"
    }
   ],
   "source": [
    "df['damageDealt'].min()"
   ]
  },
  {
   "cell_type": "code",
   "execution_count": 36,
   "id": "eight-african",
   "metadata": {},
   "outputs": [
    {
     "data": {
      "text/plain": [
       "Text(0, 0.5, 'number of players')"
      ]
     },
     "execution_count": 36,
     "metadata": {},
     "output_type": "execute_result"
    },
    {
     "data": {
      "image/png": "[encoded data removed]",
      "text/plain": [
       "<Figure size 720x360 with 1 Axes>"
      ]
     },
     "metadata": {
      "needs_background": "light"
     },
     "output_type": "display_data"
    }
   ],
   "source": [
    "plt.figure(figsize=(10,5))\n",
    "df['damageDealt'].value_counts().head(20).plot.bar()\n",
    "plt.xlabel('damagedealt')\n",
    "plt.ylabel('number of players')"
   ]
  },
  {
   "cell_type": "markdown",
   "id": "prospective-firmware",
   "metadata": {},
   "source": [
    "## Conclusion: there are more than 300000 players who has damage score of 0."
   ]
  },
  {
   "cell_type": "markdown",
   "id": "signed-compilation",
   "metadata": {},
   "source": [
    "# DBNOS - Number of enemy players knocked"
   ]
  },
  {
   "cell_type": "code",
   "execution_count": 44,
   "id": "second-meditation",
   "metadata": {},
   "outputs": [
    {
     "data": {
      "text/html": [
       "<div>\n",
       "<style scoped>\n",
       "    .dataframe tbody tr th:only-of-type {\n",
       "        vertical-align: middle;\n",
       "    }\n",
       "\n",
       "    .dataframe tbody tr th {\n",
       "        vertical-align: top;\n",
       "    }\n",
       "\n",
       "    .dataframe thead th {\n",
       "        text-align: right;\n",
       "    }\n",
       "</style>\n",
       "<table border=\"1\" class=\"dataframe\">\n",
       "  <thead>\n",
       "    <tr style=\"text-align: right;\">\n",
       "      <th></th>\n",
       "      <th>Unnamed: 0</th>\n",
       "      <th>Id</th>\n",
       "      <th>groupId</th>\n",
       "      <th>matchId</th>\n",
       "      <th>assists</th>\n",
       "      <th>boosts</th>\n",
       "      <th>damageDealt</th>\n",
       "      <th>DBNOs</th>\n",
       "      <th>headshotKills</th>\n",
       "      <th>heals</th>\n",
       "      <th>...</th>\n",
       "      <th>revives</th>\n",
       "      <th>rideDistance</th>\n",
       "      <th>roadKills</th>\n",
       "      <th>swimDistance</th>\n",
       "      <th>teamKills</th>\n",
       "      <th>vehicleDestroys</th>\n",
       "      <th>walkDistance</th>\n",
       "      <th>weaponsAcquired</th>\n",
       "      <th>winPoints</th>\n",
       "      <th>winPlacePerc</th>\n",
       "    </tr>\n",
       "  </thead>\n",
       "  <tbody>\n",
       "  </tbody>\n",
       "</table>\n",
       "<p>0 rows × 30 columns</p>\n",
       "</div>"
      ],
      "text/plain": [
       "Empty DataFrame\n",
       "Columns: [Unnamed: 0, Id, groupId, matchId, assists, boosts, damageDealt, DBNOs, headshotKills, heals, killPlace, killPoints, kills, killStreaks, longestKill, matchDuration, matchType, maxPlace, numGroups, rankPoints, revives, rideDistance, roadKills, swimDistance, teamKills, vehicleDestroys, walkDistance, weaponsAcquired, winPoints, winPlacePerc]\n",
       "Index: []\n",
       "\n",
       "[0 rows x 30 columns]"
      ]
     },
     "execution_count": 44,
     "metadata": {},
     "output_type": "execute_result"
    }
   ],
   "source": [
    "df[df['DBNOs'] == df['damageDealt'].max()]"
   ]
  },
  {
   "cell_type": "code",
   "execution_count": 45,
   "id": "adequate-birth",
   "metadata": {},
   "outputs": [
    {
     "data": {
      "text/html": [
       "<div>\n",
       "<style scoped>\n",
       "    .dataframe tbody tr th:only-of-type {\n",
       "        vertical-align: middle;\n",
       "    }\n",
       "\n",
       "    .dataframe tbody tr th {\n",
       "        vertical-align: top;\n",
       "    }\n",
       "\n",
       "    .dataframe thead th {\n",
       "        text-align: right;\n",
       "    }\n",
       "</style>\n",
       "<table border=\"1\" class=\"dataframe\">\n",
       "  <thead>\n",
       "    <tr style=\"text-align: right;\">\n",
       "      <th></th>\n",
       "      <th>Unnamed: 0</th>\n",
       "      <th>Id</th>\n",
       "      <th>groupId</th>\n",
       "      <th>matchId</th>\n",
       "      <th>assists</th>\n",
       "      <th>boosts</th>\n",
       "      <th>damageDealt</th>\n",
       "      <th>DBNOs</th>\n",
       "      <th>headshotKills</th>\n",
       "      <th>heals</th>\n",
       "      <th>...</th>\n",
       "      <th>revives</th>\n",
       "      <th>rideDistance</th>\n",
       "      <th>roadKills</th>\n",
       "      <th>swimDistance</th>\n",
       "      <th>teamKills</th>\n",
       "      <th>vehicleDestroys</th>\n",
       "      <th>walkDistance</th>\n",
       "      <th>weaponsAcquired</th>\n",
       "      <th>winPoints</th>\n",
       "      <th>winPlacePerc</th>\n",
       "    </tr>\n",
       "  </thead>\n",
       "  <tbody>\n",
       "    <tr>\n",
       "      <th>0</th>\n",
       "      <td>2093518</td>\n",
       "      <td>a3e3cea9f2e314</td>\n",
       "      <td>c9f6eaa81245b5</td>\n",
       "      <td>a3d8693390584c</td>\n",
       "      <td>0</td>\n",
       "      <td>0</td>\n",
       "      <td>25.93</td>\n",
       "      <td>0</td>\n",
       "      <td>0</td>\n",
       "      <td>0</td>\n",
       "      <td>...</td>\n",
       "      <td>0</td>\n",
       "      <td>0.0</td>\n",
       "      <td>0</td>\n",
       "      <td>0.0</td>\n",
       "      <td>0</td>\n",
       "      <td>0</td>\n",
       "      <td>151.30</td>\n",
       "      <td>1</td>\n",
       "      <td>1525</td>\n",
       "      <td>0.0667</td>\n",
       "    </tr>\n",
       "    <tr>\n",
       "      <th>1</th>\n",
       "      <td>3701672</td>\n",
       "      <td>43e4be7ad72cc7</td>\n",
       "      <td>521836de101ee8</td>\n",
       "      <td>b65de9055327e0</td>\n",
       "      <td>0</td>\n",
       "      <td>0</td>\n",
       "      <td>36.71</td>\n",
       "      <td>0</td>\n",
       "      <td>0</td>\n",
       "      <td>0</td>\n",
       "      <td>...</td>\n",
       "      <td>0</td>\n",
       "      <td>0.0</td>\n",
       "      <td>0</td>\n",
       "      <td>0.0</td>\n",
       "      <td>0</td>\n",
       "      <td>0</td>\n",
       "      <td>1918.00</td>\n",
       "      <td>7</td>\n",
       "      <td>1516</td>\n",
       "      <td>0.5862</td>\n",
       "    </tr>\n",
       "    <tr>\n",
       "      <th>2</th>\n",
       "      <td>2059784</td>\n",
       "      <td>9a68690e31fdff</td>\n",
       "      <td>4a72ffa2cebd90</td>\n",
       "      <td>d6aad3f9830e60</td>\n",
       "      <td>0</td>\n",
       "      <td>1</td>\n",
       "      <td>47.73</td>\n",
       "      <td>0</td>\n",
       "      <td>0</td>\n",
       "      <td>0</td>\n",
       "      <td>...</td>\n",
       "      <td>0</td>\n",
       "      <td>4088.0</td>\n",
       "      <td>0</td>\n",
       "      <td>0.0</td>\n",
       "      <td>0</td>\n",
       "      <td>0</td>\n",
       "      <td>820.00</td>\n",
       "      <td>7</td>\n",
       "      <td>0</td>\n",
       "      <td>0.8105</td>\n",
       "    </tr>\n",
       "    <tr>\n",
       "      <th>3</th>\n",
       "      <td>1302036</td>\n",
       "      <td>b147e1bd448fc4</td>\n",
       "      <td>9a8991656b3fea</td>\n",
       "      <td>d931c0932d8aca</td>\n",
       "      <td>0</td>\n",
       "      <td>0</td>\n",
       "      <td>0.00</td>\n",
       "      <td>0</td>\n",
       "      <td>0</td>\n",
       "      <td>0</td>\n",
       "      <td>...</td>\n",
       "      <td>1</td>\n",
       "      <td>0.0</td>\n",
       "      <td>0</td>\n",
       "      <td>0.0</td>\n",
       "      <td>0</td>\n",
       "      <td>0</td>\n",
       "      <td>38.81</td>\n",
       "      <td>0</td>\n",
       "      <td>1515</td>\n",
       "      <td>0.5556</td>\n",
       "    </tr>\n",
       "    <tr>\n",
       "      <th>4</th>\n",
       "      <td>297180</td>\n",
       "      <td>d818b4edd59612</td>\n",
       "      <td>eece87c8b846b3</td>\n",
       "      <td>ec2b5ed94baae3</td>\n",
       "      <td>0</td>\n",
       "      <td>2</td>\n",
       "      <td>100.00</td>\n",
       "      <td>0</td>\n",
       "      <td>0</td>\n",
       "      <td>3</td>\n",
       "      <td>...</td>\n",
       "      <td>0</td>\n",
       "      <td>918.4</td>\n",
       "      <td>0</td>\n",
       "      <td>0.0</td>\n",
       "      <td>0</td>\n",
       "      <td>0</td>\n",
       "      <td>1721.00</td>\n",
       "      <td>5</td>\n",
       "      <td>0</td>\n",
       "      <td>0.6429</td>\n",
       "    </tr>\n",
       "    <tr>\n",
       "      <th>...</th>\n",
       "      <td>...</td>\n",
       "      <td>...</td>\n",
       "      <td>...</td>\n",
       "      <td>...</td>\n",
       "      <td>...</td>\n",
       "      <td>...</td>\n",
       "      <td>...</td>\n",
       "      <td>...</td>\n",
       "      <td>...</td>\n",
       "      <td>...</td>\n",
       "      <td>...</td>\n",
       "      <td>...</td>\n",
       "      <td>...</td>\n",
       "      <td>...</td>\n",
       "      <td>...</td>\n",
       "      <td>...</td>\n",
       "      <td>...</td>\n",
       "      <td>...</td>\n",
       "      <td>...</td>\n",
       "      <td>...</td>\n",
       "      <td>...</td>\n",
       "    </tr>\n",
       "    <tr>\n",
       "      <th>1111733</th>\n",
       "      <td>34444</td>\n",
       "      <td>e78e5ff96a9780</td>\n",
       "      <td>3f3e6497f02f15</td>\n",
       "      <td>dccb3ec00e243d</td>\n",
       "      <td>0</td>\n",
       "      <td>0</td>\n",
       "      <td>0.00</td>\n",
       "      <td>0</td>\n",
       "      <td>0</td>\n",
       "      <td>0</td>\n",
       "      <td>...</td>\n",
       "      <td>0</td>\n",
       "      <td>0.0</td>\n",
       "      <td>0</td>\n",
       "      <td>0.0</td>\n",
       "      <td>0</td>\n",
       "      <td>0</td>\n",
       "      <td>477.80</td>\n",
       "      <td>4</td>\n",
       "      <td>1467</td>\n",
       "      <td>0.2553</td>\n",
       "    </tr>\n",
       "    <tr>\n",
       "      <th>1111735</th>\n",
       "      <td>820792</td>\n",
       "      <td>49397c8362ea49</td>\n",
       "      <td>5396945f3be420</td>\n",
       "      <td>cf3a8317cd5e9d</td>\n",
       "      <td>0</td>\n",
       "      <td>0</td>\n",
       "      <td>0.00</td>\n",
       "      <td>0</td>\n",
       "      <td>0</td>\n",
       "      <td>0</td>\n",
       "      <td>...</td>\n",
       "      <td>0</td>\n",
       "      <td>0.0</td>\n",
       "      <td>0</td>\n",
       "      <td>0.0</td>\n",
       "      <td>0</td>\n",
       "      <td>0</td>\n",
       "      <td>75.83</td>\n",
       "      <td>1</td>\n",
       "      <td>1498</td>\n",
       "      <td>0.5909</td>\n",
       "    </tr>\n",
       "    <tr>\n",
       "      <th>1111736</th>\n",
       "      <td>4412080</td>\n",
       "      <td>a87134976177e4</td>\n",
       "      <td>b22d88e51a064b</td>\n",
       "      <td>175b0cabe633c0</td>\n",
       "      <td>0</td>\n",
       "      <td>0</td>\n",
       "      <td>0.00</td>\n",
       "      <td>0</td>\n",
       "      <td>0</td>\n",
       "      <td>0</td>\n",
       "      <td>...</td>\n",
       "      <td>0</td>\n",
       "      <td>0.0</td>\n",
       "      <td>0</td>\n",
       "      <td>0.0</td>\n",
       "      <td>0</td>\n",
       "      <td>0</td>\n",
       "      <td>31.01</td>\n",
       "      <td>2</td>\n",
       "      <td>0</td>\n",
       "      <td>0.0851</td>\n",
       "    </tr>\n",
       "    <tr>\n",
       "      <th>1111737</th>\n",
       "      <td>4209703</td>\n",
       "      <td>43739241d6a8e8</td>\n",
       "      <td>afb7c87045825e</td>\n",
       "      <td>ad5719d2422207</td>\n",
       "      <td>0</td>\n",
       "      <td>0</td>\n",
       "      <td>70.31</td>\n",
       "      <td>0</td>\n",
       "      <td>0</td>\n",
       "      <td>0</td>\n",
       "      <td>...</td>\n",
       "      <td>0</td>\n",
       "      <td>0.0</td>\n",
       "      <td>0</td>\n",
       "      <td>0.0</td>\n",
       "      <td>0</td>\n",
       "      <td>0</td>\n",
       "      <td>799.80</td>\n",
       "      <td>2</td>\n",
       "      <td>0</td>\n",
       "      <td>0.3929</td>\n",
       "    </tr>\n",
       "    <tr>\n",
       "      <th>1111738</th>\n",
       "      <td>4311549</td>\n",
       "      <td>d57c8a22a9e38b</td>\n",
       "      <td>85e0624ddd2cb0</td>\n",
       "      <td>c3f50eef6dbb01</td>\n",
       "      <td>0</td>\n",
       "      <td>3</td>\n",
       "      <td>334.10</td>\n",
       "      <td>0</td>\n",
       "      <td>0</td>\n",
       "      <td>1</td>\n",
       "      <td>...</td>\n",
       "      <td>0</td>\n",
       "      <td>1549.0</td>\n",
       "      <td>0</td>\n",
       "      <td>0.0</td>\n",
       "      <td>0</td>\n",
       "      <td>0</td>\n",
       "      <td>2777.00</td>\n",
       "      <td>7</td>\n",
       "      <td>0</td>\n",
       "      <td>0.8542</td>\n",
       "    </tr>\n",
       "  </tbody>\n",
       "</table>\n",
       "<p>693673 rows × 30 columns</p>\n",
       "</div>"
      ],
      "text/plain": [
       "         Unnamed: 0              Id         groupId         matchId  assists  \\\n",
       "0           2093518  a3e3cea9f2e314  c9f6eaa81245b5  a3d8693390584c        0   \n",
       "1           3701672  43e4be7ad72cc7  521836de101ee8  b65de9055327e0        0   \n",
       "2           2059784  9a68690e31fdff  4a72ffa2cebd90  d6aad3f9830e60        0   \n",
       "3           1302036  b147e1bd448fc4  9a8991656b3fea  d931c0932d8aca        0   \n",
       "4            297180  d818b4edd59612  eece87c8b846b3  ec2b5ed94baae3        0   \n",
       "...             ...             ...             ...             ...      ...   \n",
       "1111733       34444  e78e5ff96a9780  3f3e6497f02f15  dccb3ec00e243d        0   \n",
       "1111735      820792  49397c8362ea49  5396945f3be420  cf3a8317cd5e9d        0   \n",
       "1111736     4412080  a87134976177e4  b22d88e51a064b  175b0cabe633c0        0   \n",
       "1111737     4209703  43739241d6a8e8  afb7c87045825e  ad5719d2422207        0   \n",
       "1111738     4311549  d57c8a22a9e38b  85e0624ddd2cb0  c3f50eef6dbb01        0   \n",
       "\n",
       "         boosts  damageDealt  DBNOs  headshotKills  heals  ...  revives  \\\n",
       "0             0        25.93      0              0      0  ...        0   \n",
       "1             0        36.71      0              0      0  ...        0   \n",
       "2             1        47.73      0              0      0  ...        0   \n",
       "3             0         0.00      0              0      0  ...        1   \n",
       "4             2       100.00      0              0      3  ...        0   \n",
       "...         ...          ...    ...            ...    ...  ...      ...   \n",
       "1111733       0         0.00      0              0      0  ...        0   \n",
       "1111735       0         0.00      0              0      0  ...        0   \n",
       "1111736       0         0.00      0              0      0  ...        0   \n",
       "1111737       0        70.31      0              0      0  ...        0   \n",
       "1111738       3       334.10      0              0      1  ...        0   \n",
       "\n",
       "         rideDistance  roadKills  swimDistance  teamKills  vehicleDestroys  \\\n",
       "0                 0.0          0           0.0          0                0   \n",
       "1                 0.0          0           0.0          0                0   \n",
       "2              4088.0          0           0.0          0                0   \n",
       "3                 0.0          0           0.0          0                0   \n",
       "4               918.4          0           0.0          0                0   \n",
       "...               ...        ...           ...        ...              ...   \n",
       "1111733           0.0          0           0.0          0                0   \n",
       "1111735           0.0          0           0.0          0                0   \n",
       "1111736           0.0          0           0.0          0                0   \n",
       "1111737           0.0          0           0.0          0                0   \n",
       "1111738        1549.0          0           0.0          0                0   \n",
       "\n",
       "        walkDistance  weaponsAcquired  winPoints  winPlacePerc  \n",
       "0             151.30                1       1525        0.0667  \n",
       "1            1918.00                7       1516        0.5862  \n",
       "2             820.00                7          0        0.8105  \n",
       "3              38.81                0       1515        0.5556  \n",
       "4            1721.00                5          0        0.6429  \n",
       "...              ...              ...        ...           ...  \n",
       "1111733       477.80                4       1467        0.2553  \n",
       "1111735        75.83                1       1498        0.5909  \n",
       "1111736        31.01                2          0        0.0851  \n",
       "1111737       799.80                2          0        0.3929  \n",
       "1111738      2777.00                7          0        0.8542  \n",
       "\n",
       "[693673 rows x 30 columns]"
      ]
     },
     "execution_count": 45,
     "metadata": {},
     "output_type": "execute_result"
    }
   ],
   "source": [
    "df[df['DBNOs'] == df['DBNOs'].min()]"
   ]
  },
  {
   "cell_type": "code",
   "execution_count": 63,
   "id": "studied-conversion",
   "metadata": {},
   "outputs": [
    {
     "data": {
      "text/plain": [
       "Text(0, 0.5, 'number of players')"
      ]
     },
     "execution_count": 63,
     "metadata": {},
     "output_type": "execute_result"
    },
    {
     "data": {
      "image/png": "[encoded data removed]",
      "text/plain": [
       "<Figure size 720x360 with 1 Axes>"
      ]
     },
     "metadata": {
      "needs_background": "light"
     },
     "output_type": "display_data"
    }
   ],
   "source": [
    "plt.figure(figsize=(10,5))\n",
    "df['DBNOs'].value_counts().head(20).plot.bar()\n",
    "plt.xlabel('DBNOs')\n",
    "plt.ylabel('number of players')"
   ]
  },
  {
   "cell_type": "markdown",
   "id": "applied-chick",
   "metadata": {},
   "source": [
    "## Conclusion: there are around 700000 players who knocked 0 enemy players 250000 players who knocked 1 enemy player."
   ]
  },
  {
   "cell_type": "markdown",
   "id": "peripheral-station",
   "metadata": {},
   "source": [
    "# headshotkills"
   ]
  },
  {
   "cell_type": "code",
   "execution_count": 50,
   "id": "excess-corruption",
   "metadata": {},
   "outputs": [
    {
     "data": {
      "text/html": [
       "<div>\n",
       "<style scoped>\n",
       "    .dataframe tbody tr th:only-of-type {\n",
       "        vertical-align: middle;\n",
       "    }\n",
       "\n",
       "    .dataframe tbody tr th {\n",
       "        vertical-align: top;\n",
       "    }\n",
       "\n",
       "    .dataframe thead th {\n",
       "        text-align: right;\n",
       "    }\n",
       "</style>\n",
       "<table border=\"1\" class=\"dataframe\">\n",
       "  <thead>\n",
       "    <tr style=\"text-align: right;\">\n",
       "      <th></th>\n",
       "      <th>Unnamed: 0</th>\n",
       "      <th>Id</th>\n",
       "      <th>groupId</th>\n",
       "      <th>matchId</th>\n",
       "      <th>assists</th>\n",
       "      <th>boosts</th>\n",
       "      <th>damageDealt</th>\n",
       "      <th>DBNOs</th>\n",
       "      <th>headshotKills</th>\n",
       "      <th>heals</th>\n",
       "      <th>...</th>\n",
       "      <th>revives</th>\n",
       "      <th>rideDistance</th>\n",
       "      <th>roadKills</th>\n",
       "      <th>swimDistance</th>\n",
       "      <th>teamKills</th>\n",
       "      <th>vehicleDestroys</th>\n",
       "      <th>walkDistance</th>\n",
       "      <th>weaponsAcquired</th>\n",
       "      <th>winPoints</th>\n",
       "      <th>winPlacePerc</th>\n",
       "    </tr>\n",
       "  </thead>\n",
       "  <tbody>\n",
       "    <tr>\n",
       "      <th>758017</th>\n",
       "      <td>3431247</td>\n",
       "      <td>06308c988bf0c2</td>\n",
       "      <td>4c4ee1e9eb8b5e</td>\n",
       "      <td>6680c7c3d17d48</td>\n",
       "      <td>7</td>\n",
       "      <td>4</td>\n",
       "      <td>5990.0</td>\n",
       "      <td>0</td>\n",
       "      <td>64</td>\n",
       "      <td>10</td>\n",
       "      <td>...</td>\n",
       "      <td>0</td>\n",
       "      <td>0.0</td>\n",
       "      <td>0</td>\n",
       "      <td>0.0</td>\n",
       "      <td>0</td>\n",
       "      <td>0</td>\n",
       "      <td>728.1</td>\n",
       "      <td>35</td>\n",
       "      <td>0</td>\n",
       "      <td>1.0</td>\n",
       "    </tr>\n",
       "  </tbody>\n",
       "</table>\n",
       "<p>1 rows × 30 columns</p>\n",
       "</div>"
      ],
      "text/plain": [
       "        Unnamed: 0              Id         groupId         matchId  assists  \\\n",
       "758017     3431247  06308c988bf0c2  4c4ee1e9eb8b5e  6680c7c3d17d48        7   \n",
       "\n",
       "        boosts  damageDealt  DBNOs  headshotKills  heals  ...  revives  \\\n",
       "758017       4       5990.0      0             64     10  ...        0   \n",
       "\n",
       "        rideDistance  roadKills  swimDistance  teamKills  vehicleDestroys  \\\n",
       "758017           0.0          0           0.0          0                0   \n",
       "\n",
       "       walkDistance  weaponsAcquired  winPoints  winPlacePerc  \n",
       "758017        728.1               35          0           1.0  \n",
       "\n",
       "[1 rows x 30 columns]"
      ]
     },
     "execution_count": 50,
     "metadata": {},
     "output_type": "execute_result"
    }
   ],
   "source": [
    "df[df['headshotKills'] == df['headshotKills'].max()]"
   ]
  },
  {
   "cell_type": "code",
   "execution_count": 49,
   "id": "removed-check",
   "metadata": {},
   "outputs": [
    {
     "data": {
      "text/html": [
       "<div>\n",
       "<style scoped>\n",
       "    .dataframe tbody tr th:only-of-type {\n",
       "        vertical-align: middle;\n",
       "    }\n",
       "\n",
       "    .dataframe tbody tr th {\n",
       "        vertical-align: top;\n",
       "    }\n",
       "\n",
       "    .dataframe thead th {\n",
       "        text-align: right;\n",
       "    }\n",
       "</style>\n",
       "<table border=\"1\" class=\"dataframe\">\n",
       "  <thead>\n",
       "    <tr style=\"text-align: right;\">\n",
       "      <th></th>\n",
       "      <th>Unnamed: 0</th>\n",
       "      <th>Id</th>\n",
       "      <th>groupId</th>\n",
       "      <th>matchId</th>\n",
       "      <th>assists</th>\n",
       "      <th>boosts</th>\n",
       "      <th>damageDealt</th>\n",
       "      <th>DBNOs</th>\n",
       "      <th>headshotKills</th>\n",
       "      <th>heals</th>\n",
       "      <th>...</th>\n",
       "      <th>revives</th>\n",
       "      <th>rideDistance</th>\n",
       "      <th>roadKills</th>\n",
       "      <th>swimDistance</th>\n",
       "      <th>teamKills</th>\n",
       "      <th>vehicleDestroys</th>\n",
       "      <th>walkDistance</th>\n",
       "      <th>weaponsAcquired</th>\n",
       "      <th>winPoints</th>\n",
       "      <th>winPlacePerc</th>\n",
       "    </tr>\n",
       "  </thead>\n",
       "  <tbody>\n",
       "    <tr>\n",
       "      <th>0</th>\n",
       "      <td>2093518</td>\n",
       "      <td>a3e3cea9f2e314</td>\n",
       "      <td>c9f6eaa81245b5</td>\n",
       "      <td>a3d8693390584c</td>\n",
       "      <td>0</td>\n",
       "      <td>0</td>\n",
       "      <td>25.93</td>\n",
       "      <td>0</td>\n",
       "      <td>0</td>\n",
       "      <td>0</td>\n",
       "      <td>...</td>\n",
       "      <td>0</td>\n",
       "      <td>0.0</td>\n",
       "      <td>0</td>\n",
       "      <td>0.000</td>\n",
       "      <td>0</td>\n",
       "      <td>0</td>\n",
       "      <td>151.30</td>\n",
       "      <td>1</td>\n",
       "      <td>1525</td>\n",
       "      <td>0.0667</td>\n",
       "    </tr>\n",
       "    <tr>\n",
       "      <th>1</th>\n",
       "      <td>3701672</td>\n",
       "      <td>43e4be7ad72cc7</td>\n",
       "      <td>521836de101ee8</td>\n",
       "      <td>b65de9055327e0</td>\n",
       "      <td>0</td>\n",
       "      <td>0</td>\n",
       "      <td>36.71</td>\n",
       "      <td>0</td>\n",
       "      <td>0</td>\n",
       "      <td>0</td>\n",
       "      <td>...</td>\n",
       "      <td>0</td>\n",
       "      <td>0.0</td>\n",
       "      <td>0</td>\n",
       "      <td>0.000</td>\n",
       "      <td>0</td>\n",
       "      <td>0</td>\n",
       "      <td>1918.00</td>\n",
       "      <td>7</td>\n",
       "      <td>1516</td>\n",
       "      <td>0.5862</td>\n",
       "    </tr>\n",
       "    <tr>\n",
       "      <th>2</th>\n",
       "      <td>2059784</td>\n",
       "      <td>9a68690e31fdff</td>\n",
       "      <td>4a72ffa2cebd90</td>\n",
       "      <td>d6aad3f9830e60</td>\n",
       "      <td>0</td>\n",
       "      <td>1</td>\n",
       "      <td>47.73</td>\n",
       "      <td>0</td>\n",
       "      <td>0</td>\n",
       "      <td>0</td>\n",
       "      <td>...</td>\n",
       "      <td>0</td>\n",
       "      <td>4088.0</td>\n",
       "      <td>0</td>\n",
       "      <td>0.000</td>\n",
       "      <td>0</td>\n",
       "      <td>0</td>\n",
       "      <td>820.00</td>\n",
       "      <td>7</td>\n",
       "      <td>0</td>\n",
       "      <td>0.8105</td>\n",
       "    </tr>\n",
       "    <tr>\n",
       "      <th>3</th>\n",
       "      <td>1302036</td>\n",
       "      <td>b147e1bd448fc4</td>\n",
       "      <td>9a8991656b3fea</td>\n",
       "      <td>d931c0932d8aca</td>\n",
       "      <td>0</td>\n",
       "      <td>0</td>\n",
       "      <td>0.00</td>\n",
       "      <td>0</td>\n",
       "      <td>0</td>\n",
       "      <td>0</td>\n",
       "      <td>...</td>\n",
       "      <td>1</td>\n",
       "      <td>0.0</td>\n",
       "      <td>0</td>\n",
       "      <td>0.000</td>\n",
       "      <td>0</td>\n",
       "      <td>0</td>\n",
       "      <td>38.81</td>\n",
       "      <td>0</td>\n",
       "      <td>1515</td>\n",
       "      <td>0.5556</td>\n",
       "    </tr>\n",
       "    <tr>\n",
       "      <th>4</th>\n",
       "      <td>297180</td>\n",
       "      <td>d818b4edd59612</td>\n",
       "      <td>eece87c8b846b3</td>\n",
       "      <td>ec2b5ed94baae3</td>\n",
       "      <td>0</td>\n",
       "      <td>2</td>\n",
       "      <td>100.00</td>\n",
       "      <td>0</td>\n",
       "      <td>0</td>\n",
       "      <td>3</td>\n",
       "      <td>...</td>\n",
       "      <td>0</td>\n",
       "      <td>918.4</td>\n",
       "      <td>0</td>\n",
       "      <td>0.000</td>\n",
       "      <td>0</td>\n",
       "      <td>0</td>\n",
       "      <td>1721.00</td>\n",
       "      <td>5</td>\n",
       "      <td>0</td>\n",
       "      <td>0.6429</td>\n",
       "    </tr>\n",
       "    <tr>\n",
       "      <th>...</th>\n",
       "      <td>...</td>\n",
       "      <td>...</td>\n",
       "      <td>...</td>\n",
       "      <td>...</td>\n",
       "      <td>...</td>\n",
       "      <td>...</td>\n",
       "      <td>...</td>\n",
       "      <td>...</td>\n",
       "      <td>...</td>\n",
       "      <td>...</td>\n",
       "      <td>...</td>\n",
       "      <td>...</td>\n",
       "      <td>...</td>\n",
       "      <td>...</td>\n",
       "      <td>...</td>\n",
       "      <td>...</td>\n",
       "      <td>...</td>\n",
       "      <td>...</td>\n",
       "      <td>...</td>\n",
       "      <td>...</td>\n",
       "      <td>...</td>\n",
       "    </tr>\n",
       "    <tr>\n",
       "      <th>1111737</th>\n",
       "      <td>4209703</td>\n",
       "      <td>43739241d6a8e8</td>\n",
       "      <td>afb7c87045825e</td>\n",
       "      <td>ad5719d2422207</td>\n",
       "      <td>0</td>\n",
       "      <td>0</td>\n",
       "      <td>70.31</td>\n",
       "      <td>0</td>\n",
       "      <td>0</td>\n",
       "      <td>0</td>\n",
       "      <td>...</td>\n",
       "      <td>0</td>\n",
       "      <td>0.0</td>\n",
       "      <td>0</td>\n",
       "      <td>0.000</td>\n",
       "      <td>0</td>\n",
       "      <td>0</td>\n",
       "      <td>799.80</td>\n",
       "      <td>2</td>\n",
       "      <td>0</td>\n",
       "      <td>0.3929</td>\n",
       "    </tr>\n",
       "    <tr>\n",
       "      <th>1111738</th>\n",
       "      <td>4311549</td>\n",
       "      <td>d57c8a22a9e38b</td>\n",
       "      <td>85e0624ddd2cb0</td>\n",
       "      <td>c3f50eef6dbb01</td>\n",
       "      <td>0</td>\n",
       "      <td>3</td>\n",
       "      <td>334.10</td>\n",
       "      <td>0</td>\n",
       "      <td>0</td>\n",
       "      <td>1</td>\n",
       "      <td>...</td>\n",
       "      <td>0</td>\n",
       "      <td>1549.0</td>\n",
       "      <td>0</td>\n",
       "      <td>0.000</td>\n",
       "      <td>0</td>\n",
       "      <td>0</td>\n",
       "      <td>2777.00</td>\n",
       "      <td>7</td>\n",
       "      <td>0</td>\n",
       "      <td>0.8542</td>\n",
       "    </tr>\n",
       "    <tr>\n",
       "      <th>1111739</th>\n",
       "      <td>3521011</td>\n",
       "      <td>c7ad131758ba55</td>\n",
       "      <td>b3759687b385b3</td>\n",
       "      <td>990a8d68ec2bc4</td>\n",
       "      <td>0</td>\n",
       "      <td>0</td>\n",
       "      <td>119.30</td>\n",
       "      <td>1</td>\n",
       "      <td>0</td>\n",
       "      <td>0</td>\n",
       "      <td>...</td>\n",
       "      <td>0</td>\n",
       "      <td>0.0</td>\n",
       "      <td>0</td>\n",
       "      <td>0.000</td>\n",
       "      <td>0</td>\n",
       "      <td>0</td>\n",
       "      <td>60.45</td>\n",
       "      <td>1</td>\n",
       "      <td>0</td>\n",
       "      <td>0.7174</td>\n",
       "    </tr>\n",
       "    <tr>\n",
       "      <th>1111740</th>\n",
       "      <td>2138826</td>\n",
       "      <td>8237d06ea2c508</td>\n",
       "      <td>13a05023ab7735</td>\n",
       "      <td>f93b1f0defaee5</td>\n",
       "      <td>1</td>\n",
       "      <td>4</td>\n",
       "      <td>53.51</td>\n",
       "      <td>1</td>\n",
       "      <td>0</td>\n",
       "      <td>7</td>\n",
       "      <td>...</td>\n",
       "      <td>1</td>\n",
       "      <td>3610.0</td>\n",
       "      <td>0</td>\n",
       "      <td>0.000</td>\n",
       "      <td>1</td>\n",
       "      <td>0</td>\n",
       "      <td>2209.00</td>\n",
       "      <td>4</td>\n",
       "      <td>0</td>\n",
       "      <td>0.9000</td>\n",
       "    </tr>\n",
       "    <tr>\n",
       "      <th>1111741</th>\n",
       "      <td>609836</td>\n",
       "      <td>9beb0064c56445</td>\n",
       "      <td>5cfa1834dc5b11</td>\n",
       "      <td>0406ce4ab7a1bd</td>\n",
       "      <td>5</td>\n",
       "      <td>3</td>\n",
       "      <td>607.40</td>\n",
       "      <td>3</td>\n",
       "      <td>0</td>\n",
       "      <td>3</td>\n",
       "      <td>...</td>\n",
       "      <td>0</td>\n",
       "      <td>713.9</td>\n",
       "      <td>0</td>\n",
       "      <td>8.912</td>\n",
       "      <td>0</td>\n",
       "      <td>0</td>\n",
       "      <td>3713.00</td>\n",
       "      <td>5</td>\n",
       "      <td>1611</td>\n",
       "      <td>1.0000</td>\n",
       "    </tr>\n",
       "  </tbody>\n",
       "</table>\n",
       "<p>923812 rows × 30 columns</p>\n",
       "</div>"
      ],
      "text/plain": [
       "         Unnamed: 0              Id         groupId         matchId  assists  \\\n",
       "0           2093518  a3e3cea9f2e314  c9f6eaa81245b5  a3d8693390584c        0   \n",
       "1           3701672  43e4be7ad72cc7  521836de101ee8  b65de9055327e0        0   \n",
       "2           2059784  9a68690e31fdff  4a72ffa2cebd90  d6aad3f9830e60        0   \n",
       "3           1302036  b147e1bd448fc4  9a8991656b3fea  d931c0932d8aca        0   \n",
       "4            297180  d818b4edd59612  eece87c8b846b3  ec2b5ed94baae3        0   \n",
       "...             ...             ...             ...             ...      ...   \n",
       "1111737     4209703  43739241d6a8e8  afb7c87045825e  ad5719d2422207        0   \n",
       "1111738     4311549  d57c8a22a9e38b  85e0624ddd2cb0  c3f50eef6dbb01        0   \n",
       "1111739     3521011  c7ad131758ba55  b3759687b385b3  990a8d68ec2bc4        0   \n",
       "1111740     2138826  8237d06ea2c508  13a05023ab7735  f93b1f0defaee5        1   \n",
       "1111741      609836  9beb0064c56445  5cfa1834dc5b11  0406ce4ab7a1bd        5   \n",
       "\n",
       "         boosts  damageDealt  DBNOs  headshotKills  heals  ...  revives  \\\n",
       "0             0        25.93      0              0      0  ...        0   \n",
       "1             0        36.71      0              0      0  ...        0   \n",
       "2             1        47.73      0              0      0  ...        0   \n",
       "3             0         0.00      0              0      0  ...        1   \n",
       "4             2       100.00      0              0      3  ...        0   \n",
       "...         ...          ...    ...            ...    ...  ...      ...   \n",
       "1111737       0        70.31      0              0      0  ...        0   \n",
       "1111738       3       334.10      0              0      1  ...        0   \n",
       "1111739       0       119.30      1              0      0  ...        0   \n",
       "1111740       4        53.51      1              0      7  ...        1   \n",
       "1111741       3       607.40      3              0      3  ...        0   \n",
       "\n",
       "         rideDistance  roadKills  swimDistance  teamKills  vehicleDestroys  \\\n",
       "0                 0.0          0         0.000          0                0   \n",
       "1                 0.0          0         0.000          0                0   \n",
       "2              4088.0          0         0.000          0                0   \n",
       "3                 0.0          0         0.000          0                0   \n",
       "4               918.4          0         0.000          0                0   \n",
       "...               ...        ...           ...        ...              ...   \n",
       "1111737           0.0          0         0.000          0                0   \n",
       "1111738        1549.0          0         0.000          0                0   \n",
       "1111739           0.0          0         0.000          0                0   \n",
       "1111740        3610.0          0         0.000          1                0   \n",
       "1111741         713.9          0         8.912          0                0   \n",
       "\n",
       "        walkDistance  weaponsAcquired  winPoints  winPlacePerc  \n",
       "0             151.30                1       1525        0.0667  \n",
       "1            1918.00                7       1516        0.5862  \n",
       "2             820.00                7          0        0.8105  \n",
       "3              38.81                0       1515        0.5556  \n",
       "4            1721.00                5          0        0.6429  \n",
       "...              ...              ...        ...           ...  \n",
       "1111737       799.80                2          0        0.3929  \n",
       "1111738      2777.00                7          0        0.8542  \n",
       "1111739        60.45                1          0        0.7174  \n",
       "1111740      2209.00                4          0        0.9000  \n",
       "1111741      3713.00                5       1611        1.0000  \n",
       "\n",
       "[923812 rows x 30 columns]"
      ]
     },
     "execution_count": 49,
     "metadata": {},
     "output_type": "execute_result"
    }
   ],
   "source": [
    "df[df['headshotKills'] == df['headshotKills'].min()]"
   ]
  },
  {
   "cell_type": "code",
   "execution_count": 47,
   "id": "blond-traveler",
   "metadata": {},
   "outputs": [
    {
     "name": "stderr",
     "output_type": "stream",
     "text": [
      "C:\\Users\\chint\\anaconda3\\envs\\course\\lib\\site-packages\\seaborn\\_decorators.py:36: FutureWarning: Pass the following variable as a keyword arg: x. From version 0.12, the only valid positional argument will be `data`, and passing other arguments without an explicit keyword will result in an error or misinterpretation.\n",
      "  warnings.warn(\n"
     ]
    },
    {
     "data": {
      "text/plain": [
       "Text(0, 0.5, 'number of players')"
      ]
     },
     "execution_count": 47,
     "metadata": {},
     "output_type": "execute_result"
    },
    {
     "data": {
      "image/png": "[encoded data removed]",
      "text/plain": [
       "<Figure size 720x360 with 1 Axes>"
      ]
     },
     "metadata": {
      "needs_background": "light"
     },
     "output_type": "display_data"
    }
   ],
   "source": [
    "plt.figure(figsize=(10,5))\n",
    "sns.countplot(df['headshotKills'])\n",
    "plt.xlabel('headshotKills')\n",
    "plt.ylabel('number of players')"
   ]
  },
  {
   "cell_type": "markdown",
   "id": "circular-minnesota",
   "metadata": {},
   "source": [
    "## conclusion: there are more than 800000 players who have 0 head shots and around 100000 players who have 1 head shot kill."
   ]
  },
  {
   "cell_type": "markdown",
   "id": "scenic-dream",
   "metadata": {},
   "source": [
    "# heals"
   ]
  },
  {
   "cell_type": "code",
   "execution_count": 53,
   "id": "steady-detroit",
   "metadata": {},
   "outputs": [
    {
     "data": {
      "text/html": [
       "<div>\n",
       "<style scoped>\n",
       "    .dataframe tbody tr th:only-of-type {\n",
       "        vertical-align: middle;\n",
       "    }\n",
       "\n",
       "    .dataframe tbody tr th {\n",
       "        vertical-align: top;\n",
       "    }\n",
       "\n",
       "    .dataframe thead th {\n",
       "        text-align: right;\n",
       "    }\n",
       "</style>\n",
       "<table border=\"1\" class=\"dataframe\">\n",
       "  <thead>\n",
       "    <tr style=\"text-align: right;\">\n",
       "      <th></th>\n",
       "      <th>Unnamed: 0</th>\n",
       "      <th>Id</th>\n",
       "      <th>groupId</th>\n",
       "      <th>matchId</th>\n",
       "      <th>assists</th>\n",
       "      <th>boosts</th>\n",
       "      <th>damageDealt</th>\n",
       "      <th>DBNOs</th>\n",
       "      <th>headshotKills</th>\n",
       "      <th>heals</th>\n",
       "      <th>...</th>\n",
       "      <th>revives</th>\n",
       "      <th>rideDistance</th>\n",
       "      <th>roadKills</th>\n",
       "      <th>swimDistance</th>\n",
       "      <th>teamKills</th>\n",
       "      <th>vehicleDestroys</th>\n",
       "      <th>walkDistance</th>\n",
       "      <th>weaponsAcquired</th>\n",
       "      <th>winPoints</th>\n",
       "      <th>winPlacePerc</th>\n",
       "    </tr>\n",
       "  </thead>\n",
       "  <tbody>\n",
       "    <tr>\n",
       "      <th>445620</th>\n",
       "      <td>3476343</td>\n",
       "      <td>1ac3c7d24475c8</td>\n",
       "      <td>ea7008368b4c5d</td>\n",
       "      <td>fcc78beee326e3</td>\n",
       "      <td>1</td>\n",
       "      <td>4</td>\n",
       "      <td>207.2</td>\n",
       "      <td>0</td>\n",
       "      <td>0</td>\n",
       "      <td>73</td>\n",
       "      <td>...</td>\n",
       "      <td>2</td>\n",
       "      <td>4677.0</td>\n",
       "      <td>0</td>\n",
       "      <td>0.0</td>\n",
       "      <td>0</td>\n",
       "      <td>0</td>\n",
       "      <td>3078.0</td>\n",
       "      <td>4</td>\n",
       "      <td>0</td>\n",
       "      <td>0.8889</td>\n",
       "    </tr>\n",
       "  </tbody>\n",
       "</table>\n",
       "<p>1 rows × 30 columns</p>\n",
       "</div>"
      ],
      "text/plain": [
       "        Unnamed: 0              Id         groupId         matchId  assists  \\\n",
       "445620     3476343  1ac3c7d24475c8  ea7008368b4c5d  fcc78beee326e3        1   \n",
       "\n",
       "        boosts  damageDealt  DBNOs  headshotKills  heals  ...  revives  \\\n",
       "445620       4        207.2      0              0     73  ...        2   \n",
       "\n",
       "        rideDistance  roadKills  swimDistance  teamKills  vehicleDestroys  \\\n",
       "445620        4677.0          0           0.0          0                0   \n",
       "\n",
       "       walkDistance  weaponsAcquired  winPoints  winPlacePerc  \n",
       "445620       3078.0                4          0        0.8889  \n",
       "\n",
       "[1 rows x 30 columns]"
      ]
     },
     "execution_count": 53,
     "metadata": {},
     "output_type": "execute_result"
    }
   ],
   "source": [
    "df[df['heals'] == df['heals'].max()]"
   ]
  },
  {
   "cell_type": "code",
   "execution_count": 52,
   "id": "transsexual-contractor",
   "metadata": {},
   "outputs": [
    {
     "data": {
      "text/html": [
       "<div>\n",
       "<style scoped>\n",
       "    .dataframe tbody tr th:only-of-type {\n",
       "        vertical-align: middle;\n",
       "    }\n",
       "\n",
       "    .dataframe tbody tr th {\n",
       "        vertical-align: top;\n",
       "    }\n",
       "\n",
       "    .dataframe thead th {\n",
       "        text-align: right;\n",
       "    }\n",
       "</style>\n",
       "<table border=\"1\" class=\"dataframe\">\n",
       "  <thead>\n",
       "    <tr style=\"text-align: right;\">\n",
       "      <th></th>\n",
       "      <th>Unnamed: 0</th>\n",
       "      <th>Id</th>\n",
       "      <th>groupId</th>\n",
       "      <th>matchId</th>\n",
       "      <th>assists</th>\n",
       "      <th>boosts</th>\n",
       "      <th>damageDealt</th>\n",
       "      <th>DBNOs</th>\n",
       "      <th>headshotKills</th>\n",
       "      <th>heals</th>\n",
       "      <th>...</th>\n",
       "      <th>revives</th>\n",
       "      <th>rideDistance</th>\n",
       "      <th>roadKills</th>\n",
       "      <th>swimDistance</th>\n",
       "      <th>teamKills</th>\n",
       "      <th>vehicleDestroys</th>\n",
       "      <th>walkDistance</th>\n",
       "      <th>weaponsAcquired</th>\n",
       "      <th>winPoints</th>\n",
       "      <th>winPlacePerc</th>\n",
       "    </tr>\n",
       "  </thead>\n",
       "  <tbody>\n",
       "    <tr>\n",
       "      <th>0</th>\n",
       "      <td>2093518</td>\n",
       "      <td>a3e3cea9f2e314</td>\n",
       "      <td>c9f6eaa81245b5</td>\n",
       "      <td>a3d8693390584c</td>\n",
       "      <td>0</td>\n",
       "      <td>0</td>\n",
       "      <td>25.93</td>\n",
       "      <td>0</td>\n",
       "      <td>0</td>\n",
       "      <td>0</td>\n",
       "      <td>...</td>\n",
       "      <td>0</td>\n",
       "      <td>0.0</td>\n",
       "      <td>0</td>\n",
       "      <td>0.0</td>\n",
       "      <td>0</td>\n",
       "      <td>0</td>\n",
       "      <td>151.30</td>\n",
       "      <td>1</td>\n",
       "      <td>1525</td>\n",
       "      <td>0.0667</td>\n",
       "    </tr>\n",
       "    <tr>\n",
       "      <th>1</th>\n",
       "      <td>3701672</td>\n",
       "      <td>43e4be7ad72cc7</td>\n",
       "      <td>521836de101ee8</td>\n",
       "      <td>b65de9055327e0</td>\n",
       "      <td>0</td>\n",
       "      <td>0</td>\n",
       "      <td>36.71</td>\n",
       "      <td>0</td>\n",
       "      <td>0</td>\n",
       "      <td>0</td>\n",
       "      <td>...</td>\n",
       "      <td>0</td>\n",
       "      <td>0.0</td>\n",
       "      <td>0</td>\n",
       "      <td>0.0</td>\n",
       "      <td>0</td>\n",
       "      <td>0</td>\n",
       "      <td>1918.00</td>\n",
       "      <td>7</td>\n",
       "      <td>1516</td>\n",
       "      <td>0.5862</td>\n",
       "    </tr>\n",
       "    <tr>\n",
       "      <th>2</th>\n",
       "      <td>2059784</td>\n",
       "      <td>9a68690e31fdff</td>\n",
       "      <td>4a72ffa2cebd90</td>\n",
       "      <td>d6aad3f9830e60</td>\n",
       "      <td>0</td>\n",
       "      <td>1</td>\n",
       "      <td>47.73</td>\n",
       "      <td>0</td>\n",
       "      <td>0</td>\n",
       "      <td>0</td>\n",
       "      <td>...</td>\n",
       "      <td>0</td>\n",
       "      <td>4088.0</td>\n",
       "      <td>0</td>\n",
       "      <td>0.0</td>\n",
       "      <td>0</td>\n",
       "      <td>0</td>\n",
       "      <td>820.00</td>\n",
       "      <td>7</td>\n",
       "      <td>0</td>\n",
       "      <td>0.8105</td>\n",
       "    </tr>\n",
       "    <tr>\n",
       "      <th>3</th>\n",
       "      <td>1302036</td>\n",
       "      <td>b147e1bd448fc4</td>\n",
       "      <td>9a8991656b3fea</td>\n",
       "      <td>d931c0932d8aca</td>\n",
       "      <td>0</td>\n",
       "      <td>0</td>\n",
       "      <td>0.00</td>\n",
       "      <td>0</td>\n",
       "      <td>0</td>\n",
       "      <td>0</td>\n",
       "      <td>...</td>\n",
       "      <td>1</td>\n",
       "      <td>0.0</td>\n",
       "      <td>0</td>\n",
       "      <td>0.0</td>\n",
       "      <td>0</td>\n",
       "      <td>0</td>\n",
       "      <td>38.81</td>\n",
       "      <td>0</td>\n",
       "      <td>1515</td>\n",
       "      <td>0.5556</td>\n",
       "    </tr>\n",
       "    <tr>\n",
       "      <th>5</th>\n",
       "      <td>2862125</td>\n",
       "      <td>e705cb7a4446ea</td>\n",
       "      <td>9d7180a567d020</td>\n",
       "      <td>b146588581df18</td>\n",
       "      <td>0</td>\n",
       "      <td>0</td>\n",
       "      <td>0.00</td>\n",
       "      <td>0</td>\n",
       "      <td>0</td>\n",
       "      <td>0</td>\n",
       "      <td>...</td>\n",
       "      <td>0</td>\n",
       "      <td>0.0</td>\n",
       "      <td>0</td>\n",
       "      <td>0.0</td>\n",
       "      <td>0</td>\n",
       "      <td>0</td>\n",
       "      <td>446.00</td>\n",
       "      <td>3</td>\n",
       "      <td>0</td>\n",
       "      <td>0.4946</td>\n",
       "    </tr>\n",
       "    <tr>\n",
       "      <th>...</th>\n",
       "      <td>...</td>\n",
       "      <td>...</td>\n",
       "      <td>...</td>\n",
       "      <td>...</td>\n",
       "      <td>...</td>\n",
       "      <td>...</td>\n",
       "      <td>...</td>\n",
       "      <td>...</td>\n",
       "      <td>...</td>\n",
       "      <td>...</td>\n",
       "      <td>...</td>\n",
       "      <td>...</td>\n",
       "      <td>...</td>\n",
       "      <td>...</td>\n",
       "      <td>...</td>\n",
       "      <td>...</td>\n",
       "      <td>...</td>\n",
       "      <td>...</td>\n",
       "      <td>...</td>\n",
       "      <td>...</td>\n",
       "      <td>...</td>\n",
       "    </tr>\n",
       "    <tr>\n",
       "      <th>1111733</th>\n",
       "      <td>34444</td>\n",
       "      <td>e78e5ff96a9780</td>\n",
       "      <td>3f3e6497f02f15</td>\n",
       "      <td>dccb3ec00e243d</td>\n",
       "      <td>0</td>\n",
       "      <td>0</td>\n",
       "      <td>0.00</td>\n",
       "      <td>0</td>\n",
       "      <td>0</td>\n",
       "      <td>0</td>\n",
       "      <td>...</td>\n",
       "      <td>0</td>\n",
       "      <td>0.0</td>\n",
       "      <td>0</td>\n",
       "      <td>0.0</td>\n",
       "      <td>0</td>\n",
       "      <td>0</td>\n",
       "      <td>477.80</td>\n",
       "      <td>4</td>\n",
       "      <td>1467</td>\n",
       "      <td>0.2553</td>\n",
       "    </tr>\n",
       "    <tr>\n",
       "      <th>1111735</th>\n",
       "      <td>820792</td>\n",
       "      <td>49397c8362ea49</td>\n",
       "      <td>5396945f3be420</td>\n",
       "      <td>cf3a8317cd5e9d</td>\n",
       "      <td>0</td>\n",
       "      <td>0</td>\n",
       "      <td>0.00</td>\n",
       "      <td>0</td>\n",
       "      <td>0</td>\n",
       "      <td>0</td>\n",
       "      <td>...</td>\n",
       "      <td>0</td>\n",
       "      <td>0.0</td>\n",
       "      <td>0</td>\n",
       "      <td>0.0</td>\n",
       "      <td>0</td>\n",
       "      <td>0</td>\n",
       "      <td>75.83</td>\n",
       "      <td>1</td>\n",
       "      <td>1498</td>\n",
       "      <td>0.5909</td>\n",
       "    </tr>\n",
       "    <tr>\n",
       "      <th>1111736</th>\n",
       "      <td>4412080</td>\n",
       "      <td>a87134976177e4</td>\n",
       "      <td>b22d88e51a064b</td>\n",
       "      <td>175b0cabe633c0</td>\n",
       "      <td>0</td>\n",
       "      <td>0</td>\n",
       "      <td>0.00</td>\n",
       "      <td>0</td>\n",
       "      <td>0</td>\n",
       "      <td>0</td>\n",
       "      <td>...</td>\n",
       "      <td>0</td>\n",
       "      <td>0.0</td>\n",
       "      <td>0</td>\n",
       "      <td>0.0</td>\n",
       "      <td>0</td>\n",
       "      <td>0</td>\n",
       "      <td>31.01</td>\n",
       "      <td>2</td>\n",
       "      <td>0</td>\n",
       "      <td>0.0851</td>\n",
       "    </tr>\n",
       "    <tr>\n",
       "      <th>1111737</th>\n",
       "      <td>4209703</td>\n",
       "      <td>43739241d6a8e8</td>\n",
       "      <td>afb7c87045825e</td>\n",
       "      <td>ad5719d2422207</td>\n",
       "      <td>0</td>\n",
       "      <td>0</td>\n",
       "      <td>70.31</td>\n",
       "      <td>0</td>\n",
       "      <td>0</td>\n",
       "      <td>0</td>\n",
       "      <td>...</td>\n",
       "      <td>0</td>\n",
       "      <td>0.0</td>\n",
       "      <td>0</td>\n",
       "      <td>0.0</td>\n",
       "      <td>0</td>\n",
       "      <td>0</td>\n",
       "      <td>799.80</td>\n",
       "      <td>2</td>\n",
       "      <td>0</td>\n",
       "      <td>0.3929</td>\n",
       "    </tr>\n",
       "    <tr>\n",
       "      <th>1111739</th>\n",
       "      <td>3521011</td>\n",
       "      <td>c7ad131758ba55</td>\n",
       "      <td>b3759687b385b3</td>\n",
       "      <td>990a8d68ec2bc4</td>\n",
       "      <td>0</td>\n",
       "      <td>0</td>\n",
       "      <td>119.30</td>\n",
       "      <td>1</td>\n",
       "      <td>0</td>\n",
       "      <td>0</td>\n",
       "      <td>...</td>\n",
       "      <td>0</td>\n",
       "      <td>0.0</td>\n",
       "      <td>0</td>\n",
       "      <td>0.0</td>\n",
       "      <td>0</td>\n",
       "      <td>0</td>\n",
       "      <td>60.45</td>\n",
       "      <td>1</td>\n",
       "      <td>0</td>\n",
       "      <td>0.7174</td>\n",
       "    </tr>\n",
       "  </tbody>\n",
       "</table>\n",
       "<p>662251 rows × 30 columns</p>\n",
       "</div>"
      ],
      "text/plain": [
       "         Unnamed: 0              Id         groupId         matchId  assists  \\\n",
       "0           2093518  a3e3cea9f2e314  c9f6eaa81245b5  a3d8693390584c        0   \n",
       "1           3701672  43e4be7ad72cc7  521836de101ee8  b65de9055327e0        0   \n",
       "2           2059784  9a68690e31fdff  4a72ffa2cebd90  d6aad3f9830e60        0   \n",
       "3           1302036  b147e1bd448fc4  9a8991656b3fea  d931c0932d8aca        0   \n",
       "5           2862125  e705cb7a4446ea  9d7180a567d020  b146588581df18        0   \n",
       "...             ...             ...             ...             ...      ...   \n",
       "1111733       34444  e78e5ff96a9780  3f3e6497f02f15  dccb3ec00e243d        0   \n",
       "1111735      820792  49397c8362ea49  5396945f3be420  cf3a8317cd5e9d        0   \n",
       "1111736     4412080  a87134976177e4  b22d88e51a064b  175b0cabe633c0        0   \n",
       "1111737     4209703  43739241d6a8e8  afb7c87045825e  ad5719d2422207        0   \n",
       "1111739     3521011  c7ad131758ba55  b3759687b385b3  990a8d68ec2bc4        0   \n",
       "\n",
       "         boosts  damageDealt  DBNOs  headshotKills  heals  ...  revives  \\\n",
       "0             0        25.93      0              0      0  ...        0   \n",
       "1             0        36.71      0              0      0  ...        0   \n",
       "2             1        47.73      0              0      0  ...        0   \n",
       "3             0         0.00      0              0      0  ...        1   \n",
       "5             0         0.00      0              0      0  ...        0   \n",
       "...         ...          ...    ...            ...    ...  ...      ...   \n",
       "1111733       0         0.00      0              0      0  ...        0   \n",
       "1111735       0         0.00      0              0      0  ...        0   \n",
       "1111736       0         0.00      0              0      0  ...        0   \n",
       "1111737       0        70.31      0              0      0  ...        0   \n",
       "1111739       0       119.30      1              0      0  ...        0   \n",
       "\n",
       "         rideDistance  roadKills  swimDistance  teamKills  vehicleDestroys  \\\n",
       "0                 0.0          0           0.0          0                0   \n",
       "1                 0.0          0           0.0          0                0   \n",
       "2              4088.0          0           0.0          0                0   \n",
       "3                 0.0          0           0.0          0                0   \n",
       "5                 0.0          0           0.0          0                0   \n",
       "...               ...        ...           ...        ...              ...   \n",
       "1111733           0.0          0           0.0          0                0   \n",
       "1111735           0.0          0           0.0          0                0   \n",
       "1111736           0.0          0           0.0          0                0   \n",
       "1111737           0.0          0           0.0          0                0   \n",
       "1111739           0.0          0           0.0          0                0   \n",
       "\n",
       "        walkDistance  weaponsAcquired  winPoints  winPlacePerc  \n",
       "0             151.30                1       1525        0.0667  \n",
       "1            1918.00                7       1516        0.5862  \n",
       "2             820.00                7          0        0.8105  \n",
       "3              38.81                0       1515        0.5556  \n",
       "5             446.00                3          0        0.4946  \n",
       "...              ...              ...        ...           ...  \n",
       "1111733       477.80                4       1467        0.2553  \n",
       "1111735        75.83                1       1498        0.5909  \n",
       "1111736        31.01                2          0        0.0851  \n",
       "1111737       799.80                2          0        0.3929  \n",
       "1111739        60.45                1          0        0.7174  \n",
       "\n",
       "[662251 rows x 30 columns]"
      ]
     },
     "execution_count": 52,
     "metadata": {},
     "output_type": "execute_result"
    }
   ],
   "source": [
    "df[df['heals'] == df['heals'].min()]"
   ]
  },
  {
   "cell_type": "code",
   "execution_count": 51,
   "id": "looking-treasury",
   "metadata": {},
   "outputs": [
    {
     "data": {
      "text/plain": [
       "Text(0, 0.5, 'number of players')"
      ]
     },
     "execution_count": 51,
     "metadata": {},
     "output_type": "execute_result"
    },
    {
     "data": {
      "image/png": "[encoded data removed]",
      "text/plain": [
       "<Figure size 720x360 with 1 Axes>"
      ]
     },
     "metadata": {
      "needs_background": "light"
     },
     "output_type": "display_data"
    }
   ],
   "source": [
    "plt.figure(figsize=(10,5))\n",
    "df['heals'].value_counts().plot.area()\n",
    "plt.xlabel('heals')\n",
    "plt.ylabel('number of players')"
   ]
  },
  {
   "cell_type": "markdown",
   "id": "controlled-opinion",
   "metadata": {},
   "source": [
    "## conclusion: there are more than 600000 players who used 0 healings and only 1 player who used more than 70 healings in a  match."
   ]
  },
  {
   "cell_type": "markdown",
   "id": "nonprofit-conservation",
   "metadata": {},
   "source": [
    "# killpoints"
   ]
  },
  {
   "cell_type": "code",
   "execution_count": 57,
   "id": "accessible-tsunami",
   "metadata": {},
   "outputs": [
    {
     "data": {
      "text/html": [
       "<div>\n",
       "<style scoped>\n",
       "    .dataframe tbody tr th:only-of-type {\n",
       "        vertical-align: middle;\n",
       "    }\n",
       "\n",
       "    .dataframe tbody tr th {\n",
       "        vertical-align: top;\n",
       "    }\n",
       "\n",
       "    .dataframe thead th {\n",
       "        text-align: right;\n",
       "    }\n",
       "</style>\n",
       "<table border=\"1\" class=\"dataframe\">\n",
       "  <thead>\n",
       "    <tr style=\"text-align: right;\">\n",
       "      <th></th>\n",
       "      <th>Unnamed: 0</th>\n",
       "      <th>Id</th>\n",
       "      <th>groupId</th>\n",
       "      <th>matchId</th>\n",
       "      <th>assists</th>\n",
       "      <th>boosts</th>\n",
       "      <th>damageDealt</th>\n",
       "      <th>DBNOs</th>\n",
       "      <th>headshotKills</th>\n",
       "      <th>heals</th>\n",
       "      <th>...</th>\n",
       "      <th>revives</th>\n",
       "      <th>rideDistance</th>\n",
       "      <th>roadKills</th>\n",
       "      <th>swimDistance</th>\n",
       "      <th>teamKills</th>\n",
       "      <th>vehicleDestroys</th>\n",
       "      <th>walkDistance</th>\n",
       "      <th>weaponsAcquired</th>\n",
       "      <th>winPoints</th>\n",
       "      <th>winPlacePerc</th>\n",
       "    </tr>\n",
       "  </thead>\n",
       "  <tbody>\n",
       "    <tr>\n",
       "      <th>915436</th>\n",
       "      <td>1238356</td>\n",
       "      <td>292ae07aebd97b</td>\n",
       "      <td>211e041ce4a4bc</td>\n",
       "      <td>95ba6575eed0a3</td>\n",
       "      <td>3</td>\n",
       "      <td>1</td>\n",
       "      <td>355.0</td>\n",
       "      <td>1</td>\n",
       "      <td>0</td>\n",
       "      <td>0</td>\n",
       "      <td>...</td>\n",
       "      <td>0</td>\n",
       "      <td>0.0</td>\n",
       "      <td>0</td>\n",
       "      <td>0.0</td>\n",
       "      <td>0</td>\n",
       "      <td>0</td>\n",
       "      <td>208.8</td>\n",
       "      <td>3</td>\n",
       "      <td>1725</td>\n",
       "      <td>0.2857</td>\n",
       "    </tr>\n",
       "  </tbody>\n",
       "</table>\n",
       "<p>1 rows × 30 columns</p>\n",
       "</div>"
      ],
      "text/plain": [
       "        Unnamed: 0              Id         groupId         matchId  assists  \\\n",
       "915436     1238356  292ae07aebd97b  211e041ce4a4bc  95ba6575eed0a3        3   \n",
       "\n",
       "        boosts  damageDealt  DBNOs  headshotKills  heals  ...  revives  \\\n",
       "915436       1        355.0      1              0      0  ...        0   \n",
       "\n",
       "        rideDistance  roadKills  swimDistance  teamKills  vehicleDestroys  \\\n",
       "915436           0.0          0           0.0          0                0   \n",
       "\n",
       "       walkDistance  weaponsAcquired  winPoints  winPlacePerc  \n",
       "915436        208.8                3       1725        0.2857  \n",
       "\n",
       "[1 rows x 30 columns]"
      ]
     },
     "execution_count": 57,
     "metadata": {},
     "output_type": "execute_result"
    }
   ],
   "source": [
    "df[df['killPoints'] == df['killPoints'].max()]"
   ]
  },
  {
   "cell_type": "code",
   "execution_count": 56,
   "id": "expanded-structure",
   "metadata": {},
   "outputs": [
    {
     "data": {
      "text/html": [
       "<div>\n",
       "<style scoped>\n",
       "    .dataframe tbody tr th:only-of-type {\n",
       "        vertical-align: middle;\n",
       "    }\n",
       "\n",
       "    .dataframe tbody tr th {\n",
       "        vertical-align: top;\n",
       "    }\n",
       "\n",
       "    .dataframe thead th {\n",
       "        text-align: right;\n",
       "    }\n",
       "</style>\n",
       "<table border=\"1\" class=\"dataframe\">\n",
       "  <thead>\n",
       "    <tr style=\"text-align: right;\">\n",
       "      <th></th>\n",
       "      <th>Unnamed: 0</th>\n",
       "      <th>Id</th>\n",
       "      <th>groupId</th>\n",
       "      <th>matchId</th>\n",
       "      <th>assists</th>\n",
       "      <th>boosts</th>\n",
       "      <th>damageDealt</th>\n",
       "      <th>DBNOs</th>\n",
       "      <th>headshotKills</th>\n",
       "      <th>heals</th>\n",
       "      <th>...</th>\n",
       "      <th>revives</th>\n",
       "      <th>rideDistance</th>\n",
       "      <th>roadKills</th>\n",
       "      <th>swimDistance</th>\n",
       "      <th>teamKills</th>\n",
       "      <th>vehicleDestroys</th>\n",
       "      <th>walkDistance</th>\n",
       "      <th>weaponsAcquired</th>\n",
       "      <th>winPoints</th>\n",
       "      <th>winPlacePerc</th>\n",
       "    </tr>\n",
       "  </thead>\n",
       "  <tbody>\n",
       "    <tr>\n",
       "      <th>2</th>\n",
       "      <td>2059784</td>\n",
       "      <td>9a68690e31fdff</td>\n",
       "      <td>4a72ffa2cebd90</td>\n",
       "      <td>d6aad3f9830e60</td>\n",
       "      <td>0</td>\n",
       "      <td>1</td>\n",
       "      <td>47.73</td>\n",
       "      <td>0</td>\n",
       "      <td>0</td>\n",
       "      <td>0</td>\n",
       "      <td>...</td>\n",
       "      <td>0</td>\n",
       "      <td>4088.0</td>\n",
       "      <td>0</td>\n",
       "      <td>0.0</td>\n",
       "      <td>0</td>\n",
       "      <td>0</td>\n",
       "      <td>820.00</td>\n",
       "      <td>7</td>\n",
       "      <td>0</td>\n",
       "      <td>0.8105</td>\n",
       "    </tr>\n",
       "    <tr>\n",
       "      <th>4</th>\n",
       "      <td>297180</td>\n",
       "      <td>d818b4edd59612</td>\n",
       "      <td>eece87c8b846b3</td>\n",
       "      <td>ec2b5ed94baae3</td>\n",
       "      <td>0</td>\n",
       "      <td>2</td>\n",
       "      <td>100.00</td>\n",
       "      <td>0</td>\n",
       "      <td>0</td>\n",
       "      <td>3</td>\n",
       "      <td>...</td>\n",
       "      <td>0</td>\n",
       "      <td>918.4</td>\n",
       "      <td>0</td>\n",
       "      <td>0.0</td>\n",
       "      <td>0</td>\n",
       "      <td>0</td>\n",
       "      <td>1721.00</td>\n",
       "      <td>5</td>\n",
       "      <td>0</td>\n",
       "      <td>0.6429</td>\n",
       "    </tr>\n",
       "    <tr>\n",
       "      <th>5</th>\n",
       "      <td>2862125</td>\n",
       "      <td>e705cb7a4446ea</td>\n",
       "      <td>9d7180a567d020</td>\n",
       "      <td>b146588581df18</td>\n",
       "      <td>0</td>\n",
       "      <td>0</td>\n",
       "      <td>0.00</td>\n",
       "      <td>0</td>\n",
       "      <td>0</td>\n",
       "      <td>0</td>\n",
       "      <td>...</td>\n",
       "      <td>0</td>\n",
       "      <td>0.0</td>\n",
       "      <td>0</td>\n",
       "      <td>0.0</td>\n",
       "      <td>0</td>\n",
       "      <td>0</td>\n",
       "      <td>446.00</td>\n",
       "      <td>3</td>\n",
       "      <td>0</td>\n",
       "      <td>0.4946</td>\n",
       "    </tr>\n",
       "    <tr>\n",
       "      <th>6</th>\n",
       "      <td>365937</td>\n",
       "      <td>e253262031e08f</td>\n",
       "      <td>e5df2dcdaf3f4b</td>\n",
       "      <td>c1385ae84655e6</td>\n",
       "      <td>0</td>\n",
       "      <td>0</td>\n",
       "      <td>0.00</td>\n",
       "      <td>0</td>\n",
       "      <td>0</td>\n",
       "      <td>0</td>\n",
       "      <td>...</td>\n",
       "      <td>0</td>\n",
       "      <td>0.0</td>\n",
       "      <td>0</td>\n",
       "      <td>0.0</td>\n",
       "      <td>0</td>\n",
       "      <td>0</td>\n",
       "      <td>45.86</td>\n",
       "      <td>1</td>\n",
       "      <td>0</td>\n",
       "      <td>0.1939</td>\n",
       "    </tr>\n",
       "    <tr>\n",
       "      <th>7</th>\n",
       "      <td>3651102</td>\n",
       "      <td>c264a5ce0d4ca1</td>\n",
       "      <td>0efbbf391d7f62</td>\n",
       "      <td>b280791eb7a3fd</td>\n",
       "      <td>0</td>\n",
       "      <td>8</td>\n",
       "      <td>170.20</td>\n",
       "      <td>0</td>\n",
       "      <td>0</td>\n",
       "      <td>1</td>\n",
       "      <td>...</td>\n",
       "      <td>0</td>\n",
       "      <td>0.0</td>\n",
       "      <td>0</td>\n",
       "      <td>221.0</td>\n",
       "      <td>0</td>\n",
       "      <td>0</td>\n",
       "      <td>3297.00</td>\n",
       "      <td>5</td>\n",
       "      <td>0</td>\n",
       "      <td>0.9688</td>\n",
       "    </tr>\n",
       "    <tr>\n",
       "      <th>...</th>\n",
       "      <td>...</td>\n",
       "      <td>...</td>\n",
       "      <td>...</td>\n",
       "      <td>...</td>\n",
       "      <td>...</td>\n",
       "      <td>...</td>\n",
       "      <td>...</td>\n",
       "      <td>...</td>\n",
       "      <td>...</td>\n",
       "      <td>...</td>\n",
       "      <td>...</td>\n",
       "      <td>...</td>\n",
       "      <td>...</td>\n",
       "      <td>...</td>\n",
       "      <td>...</td>\n",
       "      <td>...</td>\n",
       "      <td>...</td>\n",
       "      <td>...</td>\n",
       "      <td>...</td>\n",
       "      <td>...</td>\n",
       "      <td>...</td>\n",
       "    </tr>\n",
       "    <tr>\n",
       "      <th>1111736</th>\n",
       "      <td>4412080</td>\n",
       "      <td>a87134976177e4</td>\n",
       "      <td>b22d88e51a064b</td>\n",
       "      <td>175b0cabe633c0</td>\n",
       "      <td>0</td>\n",
       "      <td>0</td>\n",
       "      <td>0.00</td>\n",
       "      <td>0</td>\n",
       "      <td>0</td>\n",
       "      <td>0</td>\n",
       "      <td>...</td>\n",
       "      <td>0</td>\n",
       "      <td>0.0</td>\n",
       "      <td>0</td>\n",
       "      <td>0.0</td>\n",
       "      <td>0</td>\n",
       "      <td>0</td>\n",
       "      <td>31.01</td>\n",
       "      <td>2</td>\n",
       "      <td>0</td>\n",
       "      <td>0.0851</td>\n",
       "    </tr>\n",
       "    <tr>\n",
       "      <th>1111737</th>\n",
       "      <td>4209703</td>\n",
       "      <td>43739241d6a8e8</td>\n",
       "      <td>afb7c87045825e</td>\n",
       "      <td>ad5719d2422207</td>\n",
       "      <td>0</td>\n",
       "      <td>0</td>\n",
       "      <td>70.31</td>\n",
       "      <td>0</td>\n",
       "      <td>0</td>\n",
       "      <td>0</td>\n",
       "      <td>...</td>\n",
       "      <td>0</td>\n",
       "      <td>0.0</td>\n",
       "      <td>0</td>\n",
       "      <td>0.0</td>\n",
       "      <td>0</td>\n",
       "      <td>0</td>\n",
       "      <td>799.80</td>\n",
       "      <td>2</td>\n",
       "      <td>0</td>\n",
       "      <td>0.3929</td>\n",
       "    </tr>\n",
       "    <tr>\n",
       "      <th>1111738</th>\n",
       "      <td>4311549</td>\n",
       "      <td>d57c8a22a9e38b</td>\n",
       "      <td>85e0624ddd2cb0</td>\n",
       "      <td>c3f50eef6dbb01</td>\n",
       "      <td>0</td>\n",
       "      <td>3</td>\n",
       "      <td>334.10</td>\n",
       "      <td>0</td>\n",
       "      <td>0</td>\n",
       "      <td>1</td>\n",
       "      <td>...</td>\n",
       "      <td>0</td>\n",
       "      <td>1549.0</td>\n",
       "      <td>0</td>\n",
       "      <td>0.0</td>\n",
       "      <td>0</td>\n",
       "      <td>0</td>\n",
       "      <td>2777.00</td>\n",
       "      <td>7</td>\n",
       "      <td>0</td>\n",
       "      <td>0.8542</td>\n",
       "    </tr>\n",
       "    <tr>\n",
       "      <th>1111739</th>\n",
       "      <td>3521011</td>\n",
       "      <td>c7ad131758ba55</td>\n",
       "      <td>b3759687b385b3</td>\n",
       "      <td>990a8d68ec2bc4</td>\n",
       "      <td>0</td>\n",
       "      <td>0</td>\n",
       "      <td>119.30</td>\n",
       "      <td>1</td>\n",
       "      <td>0</td>\n",
       "      <td>0</td>\n",
       "      <td>...</td>\n",
       "      <td>0</td>\n",
       "      <td>0.0</td>\n",
       "      <td>0</td>\n",
       "      <td>0.0</td>\n",
       "      <td>0</td>\n",
       "      <td>0</td>\n",
       "      <td>60.45</td>\n",
       "      <td>1</td>\n",
       "      <td>0</td>\n",
       "      <td>0.7174</td>\n",
       "    </tr>\n",
       "    <tr>\n",
       "      <th>1111740</th>\n",
       "      <td>2138826</td>\n",
       "      <td>8237d06ea2c508</td>\n",
       "      <td>13a05023ab7735</td>\n",
       "      <td>f93b1f0defaee5</td>\n",
       "      <td>1</td>\n",
       "      <td>4</td>\n",
       "      <td>53.51</td>\n",
       "      <td>1</td>\n",
       "      <td>0</td>\n",
       "      <td>7</td>\n",
       "      <td>...</td>\n",
       "      <td>1</td>\n",
       "      <td>3610.0</td>\n",
       "      <td>0</td>\n",
       "      <td>0.0</td>\n",
       "      <td>1</td>\n",
       "      <td>0</td>\n",
       "      <td>2209.00</td>\n",
       "      <td>4</td>\n",
       "      <td>0</td>\n",
       "      <td>0.9000</td>\n",
       "    </tr>\n",
       "  </tbody>\n",
       "</table>\n",
       "<p>664431 rows × 30 columns</p>\n",
       "</div>"
      ],
      "text/plain": [
       "         Unnamed: 0              Id         groupId         matchId  assists  \\\n",
       "2           2059784  9a68690e31fdff  4a72ffa2cebd90  d6aad3f9830e60        0   \n",
       "4            297180  d818b4edd59612  eece87c8b846b3  ec2b5ed94baae3        0   \n",
       "5           2862125  e705cb7a4446ea  9d7180a567d020  b146588581df18        0   \n",
       "6            365937  e253262031e08f  e5df2dcdaf3f4b  c1385ae84655e6        0   \n",
       "7           3651102  c264a5ce0d4ca1  0efbbf391d7f62  b280791eb7a3fd        0   \n",
       "...             ...             ...             ...             ...      ...   \n",
       "1111736     4412080  a87134976177e4  b22d88e51a064b  175b0cabe633c0        0   \n",
       "1111737     4209703  43739241d6a8e8  afb7c87045825e  ad5719d2422207        0   \n",
       "1111738     4311549  d57c8a22a9e38b  85e0624ddd2cb0  c3f50eef6dbb01        0   \n",
       "1111739     3521011  c7ad131758ba55  b3759687b385b3  990a8d68ec2bc4        0   \n",
       "1111740     2138826  8237d06ea2c508  13a05023ab7735  f93b1f0defaee5        1   \n",
       "\n",
       "         boosts  damageDealt  DBNOs  headshotKills  heals  ...  revives  \\\n",
       "2             1        47.73      0              0      0  ...        0   \n",
       "4             2       100.00      0              0      3  ...        0   \n",
       "5             0         0.00      0              0      0  ...        0   \n",
       "6             0         0.00      0              0      0  ...        0   \n",
       "7             8       170.20      0              0      1  ...        0   \n",
       "...         ...          ...    ...            ...    ...  ...      ...   \n",
       "1111736       0         0.00      0              0      0  ...        0   \n",
       "1111737       0        70.31      0              0      0  ...        0   \n",
       "1111738       3       334.10      0              0      1  ...        0   \n",
       "1111739       0       119.30      1              0      0  ...        0   \n",
       "1111740       4        53.51      1              0      7  ...        1   \n",
       "\n",
       "         rideDistance  roadKills  swimDistance  teamKills  vehicleDestroys  \\\n",
       "2              4088.0          0           0.0          0                0   \n",
       "4               918.4          0           0.0          0                0   \n",
       "5                 0.0          0           0.0          0                0   \n",
       "6                 0.0          0           0.0          0                0   \n",
       "7                 0.0          0         221.0          0                0   \n",
       "...               ...        ...           ...        ...              ...   \n",
       "1111736           0.0          0           0.0          0                0   \n",
       "1111737           0.0          0           0.0          0                0   \n",
       "1111738        1549.0          0           0.0          0                0   \n",
       "1111739           0.0          0           0.0          0                0   \n",
       "1111740        3610.0          0           0.0          1                0   \n",
       "\n",
       "        walkDistance  weaponsAcquired  winPoints  winPlacePerc  \n",
       "2             820.00                7          0        0.8105  \n",
       "4            1721.00                5          0        0.6429  \n",
       "5             446.00                3          0        0.4946  \n",
       "6              45.86                1          0        0.1939  \n",
       "7            3297.00                5          0        0.9688  \n",
       "...              ...              ...        ...           ...  \n",
       "1111736        31.01                2          0        0.0851  \n",
       "1111737       799.80                2          0        0.3929  \n",
       "1111738      2777.00                7          0        0.8542  \n",
       "1111739        60.45                1          0        0.7174  \n",
       "1111740      2209.00                4          0        0.9000  \n",
       "\n",
       "[664431 rows x 30 columns]"
      ]
     },
     "execution_count": 56,
     "metadata": {},
     "output_type": "execute_result"
    }
   ],
   "source": [
    "df[df['killPoints'] == df['killPoints'].min()]"
   ]
  },
  {
   "cell_type": "code",
   "execution_count": 54,
   "id": "impressed-kenya",
   "metadata": {},
   "outputs": [
    {
     "data": {
      "text/plain": [
       "Text(0, 0.5, 'number of players')"
      ]
     },
     "execution_count": 54,
     "metadata": {},
     "output_type": "execute_result"
    },
    {
     "data": {
      "image/png": "[encoded data removed]",
      "text/plain": [
       "<Figure size 720x360 with 1 Axes>"
      ]
     },
     "metadata": {
      "needs_background": "light"
     },
     "output_type": "display_data"
    }
   ],
   "source": [
    "plt.figure(figsize=(10,5))\n",
    "df['killPoints'].value_counts().plot.line()\n",
    "plt.xlabel('killPoints')\n",
    "plt.ylabel('number of players')"
   ]
  },
  {
   "cell_type": "markdown",
   "id": "optical-purse",
   "metadata": {},
   "source": [
    "## conclusion: there are more than  600000 players who scored between 1000 and 1500 killpoints."
   ]
  },
  {
   "cell_type": "markdown",
   "id": "corporate-punishment",
   "metadata": {},
   "source": [
    "# kills"
   ]
  },
  {
   "cell_type": "code",
   "execution_count": 25,
   "id": "differential-norman",
   "metadata": {
    "scrolled": true
   },
   "outputs": [
    {
     "data": {
      "text/plain": [
       "72"
      ]
     },
     "execution_count": 25,
     "metadata": {},
     "output_type": "execute_result"
    }
   ],
   "source": [
    "df['kills'].max()"
   ]
  },
  {
   "cell_type": "code",
   "execution_count": 26,
   "id": "biological-jones",
   "metadata": {},
   "outputs": [
    {
     "data": {
      "text/plain": [
       "0"
      ]
     },
     "execution_count": 26,
     "metadata": {},
     "output_type": "execute_result"
    }
   ],
   "source": [
    "df['kills'].min()"
   ]
  },
  {
   "cell_type": "code",
   "execution_count": 59,
   "id": "supposed-protection",
   "metadata": {},
   "outputs": [
    {
     "name": "stderr",
     "output_type": "stream",
     "text": [
      "C:\\Users\\chint\\anaconda3\\envs\\course\\lib\\site-packages\\seaborn\\_decorators.py:36: FutureWarning: Pass the following variable as a keyword arg: x. From version 0.12, the only valid positional argument will be `data`, and passing other arguments without an explicit keyword will result in an error or misinterpretation.\n",
      "  warnings.warn(\n"
     ]
    },
    {
     "data": {
      "text/plain": [
       "Text(0, 0.5, 'number of players')"
      ]
     },
     "execution_count": 59,
     "metadata": {},
     "output_type": "execute_result"
    },
    {
     "data": {
      "image/png": "[encoded data removed]",
      "text/plain": [
       "<Figure size 720x360 with 1 Axes>"
      ]
     },
     "metadata": {
      "needs_background": "light"
     },
     "output_type": "display_data"
    }
   ],
   "source": [
    "plt.figure(figsize=(10,5))\n",
    "sns.countplot(df['kills'])\n",
    "plt.xlabel('kills')\n",
    "plt.ylabel('number of players')"
   ]
  },
  {
   "cell_type": "markdown",
   "id": "casual-perception",
   "metadata": {},
   "source": [
    "## conclusion: there are more than 600000 players who killed 0 enemy players and around 200000 players who killed 1 enemy player."
   ]
  },
  {
   "cell_type": "markdown",
   "id": "geological-screening",
   "metadata": {},
   "source": [
    "# killStreaks"
   ]
  },
  {
   "cell_type": "code",
   "execution_count": 66,
   "id": "subsequent-resistance",
   "metadata": {},
   "outputs": [
    {
     "data": {
      "text/plain": [
       "20"
      ]
     },
     "execution_count": 66,
     "metadata": {},
     "output_type": "execute_result"
    }
   ],
   "source": [
    "df['killStreaks'].max()"
   ]
  },
  {
   "cell_type": "code",
   "execution_count": 67,
   "id": "billion-caution",
   "metadata": {},
   "outputs": [
    {
     "data": {
      "text/plain": [
       "0"
      ]
     },
     "execution_count": 67,
     "metadata": {},
     "output_type": "execute_result"
    }
   ],
   "source": [
    "df['killStreaks'].min()"
   ]
  },
  {
   "cell_type": "code",
   "execution_count": 62,
   "id": "scientific-crime",
   "metadata": {},
   "outputs": [
    {
     "data": {
      "text/plain": [
       "Text(0, 0.5, 'number of players')"
      ]
     },
     "execution_count": 62,
     "metadata": {},
     "output_type": "execute_result"
    },
    {
     "data": {
      "image/png": "[encoded data removed]",
      "text/plain": [
       "<Figure size 720x360 with 1 Axes>"
      ]
     },
     "metadata": {
      "needs_background": "light"
     },
     "output_type": "display_data"
    }
   ],
   "source": [
    "plt.figure(figsize=(10,5))\n",
    "df['killStreaks'].value_counts().head(20).plot.bar()\n",
    "plt.xlabel('killStreaks')\n",
    "plt.ylabel('number of players')"
   ]
  },
  {
   "cell_type": "markdown",
   "id": "external-energy",
   "metadata": {},
   "source": [
    "## conclusion:when players are around 600000 there are 0 players who didn't got killed in short amount of time but when players got decreased the killstreak started to increase."
   ]
  },
  {
   "cell_type": "markdown",
   "id": "changed-treaty",
   "metadata": {},
   "source": [
    "# matchDuration"
   ]
  },
  {
   "cell_type": "code",
   "execution_count": 47,
   "id": "adapted-drain",
   "metadata": {},
   "outputs": [
    {
     "data": {
      "text/plain": [
       "2237"
      ]
     },
     "execution_count": 47,
     "metadata": {},
     "output_type": "execute_result"
    }
   ],
   "source": [
    "df['matchDuration'].max()"
   ]
  },
  {
   "cell_type": "code",
   "execution_count": 48,
   "id": "formal-volleyball",
   "metadata": {},
   "outputs": [
    {
     "data": {
      "text/plain": [
       "9"
      ]
     },
     "execution_count": 48,
     "metadata": {},
     "output_type": "execute_result"
    }
   ],
   "source": [
    "df['matchDuration'].min()"
   ]
  },
  {
   "cell_type": "code",
   "execution_count": 70,
   "id": "addressed-giving",
   "metadata": {},
   "outputs": [
    {
     "data": {
      "text/plain": [
       "(array([5.00000e+00, 1.13000e+02, 6.52000e+02, 1.74100e+03, 1.94900e+03,\n",
       "        1.80120e+05, 4.60012e+05, 8.06490e+04, 3.69765e+05, 1.67360e+04]),\n",
       " array([   9. ,  231.8,  454.6,  677.4,  900.2, 1123. , 1345.8, 1568.6,\n",
       "        1791.4, 2014.2, 2237. ]),\n",
       " <BarContainer object of 10 artists>)"
      ]
     },
     "execution_count": 70,
     "metadata": {},
     "output_type": "execute_result"
    },
    {
     "data": {
      "image/png": "[encoded data removed]",
      "text/plain": [
       "<Figure size 720x360 with 1 Axes>"
      ]
     },
     "metadata": {
      "needs_background": "light"
     },
     "output_type": "display_data"
    }
   ],
   "source": [
    "plt.figure(figsize=(10,5))\n",
    "plt.hist(df['matchDuration'])"
   ]
  },
  {
   "cell_type": "markdown",
   "id": "wound-lodge",
   "metadata": {},
   "source": [
    "## conclusion: when the match duration is high more number of players are present in the match and as the duration got decreased there are less number of players in the match."
   ]
  },
  {
   "cell_type": "markdown",
   "id": "historical-bedroom",
   "metadata": {},
   "source": [
    "# matchType "
   ]
  },
  {
   "cell_type": "code",
   "execution_count": 78,
   "id": "boolean-seven",
   "metadata": {},
   "outputs": [
    {
     "data": {
      "text/plain": [
       "'squad-fpp'"
      ]
     },
     "execution_count": 78,
     "metadata": {},
     "output_type": "execute_result"
    }
   ],
   "source": [
    "df['matchType'].max()"
   ]
  },
  {
   "cell_type": "code",
   "execution_count": 79,
   "id": "functioning-adelaide",
   "metadata": {},
   "outputs": [
    {
     "data": {
      "text/plain": [
       "'crashfpp'"
      ]
     },
     "execution_count": 79,
     "metadata": {},
     "output_type": "execute_result"
    }
   ],
   "source": [
    "df['matchType'].min()"
   ]
  },
  {
   "cell_type": "code",
   "execution_count": 76,
   "id": "recent-limitation",
   "metadata": {},
   "outputs": [
    {
     "data": {
      "text/plain": [
       "<AxesSubplot:ylabel='matchType'>"
      ]
     },
     "execution_count": 76,
     "metadata": {},
     "output_type": "execute_result"
    },
    {
     "data": {
      "image/png": "[encoded data removed]",
      "text/plain": [
       "<Figure size 432x288 with 1 Axes>"
      ]
     },
     "metadata": {},
     "output_type": "display_data"
    }
   ],
   "source": [
    "df['matchType'].value_counts().head(7).plot.pie()"
   ]
  },
  {
   "cell_type": "markdown",
   "id": "destroyed-float",
   "metadata": {},
   "source": [
    "## conclusion: there are more percent of players who play squad fpp than any other match types."
   ]
  },
  {
   "cell_type": "markdown",
   "id": "meaning-syndrome",
   "metadata": {},
   "source": [
    "# revives"
   ]
  },
  {
   "cell_type": "code",
   "execution_count": 83,
   "id": "given-tower",
   "metadata": {},
   "outputs": [
    {
     "data": {
      "text/plain": [
       "23"
      ]
     },
     "execution_count": 83,
     "metadata": {},
     "output_type": "execute_result"
    }
   ],
   "source": [
    "df['revives'].max()"
   ]
  },
  {
   "cell_type": "code",
   "execution_count": 84,
   "id": "political-chorus",
   "metadata": {},
   "outputs": [
    {
     "data": {
      "text/plain": [
       "0"
      ]
     },
     "execution_count": 84,
     "metadata": {},
     "output_type": "execute_result"
    }
   ],
   "source": [
    "df['revives'].min()"
   ]
  },
  {
   "cell_type": "code",
   "execution_count": 82,
   "id": "nearby-effectiveness",
   "metadata": {},
   "outputs": [
    {
     "data": {
      "text/plain": [
       "Text(0, 0.5, 'number of players')"
      ]
     },
     "execution_count": 82,
     "metadata": {},
     "output_type": "execute_result"
    },
    {
     "data": {
      "image/png": "[encoded data removed]",
      "text/plain": [
       "<Figure size 720x360 with 1 Axes>"
      ]
     },
     "metadata": {
      "needs_background": "light"
     },
     "output_type": "display_data"
    }
   ],
   "source": [
    "plt.figure(figsize=(10,5))\n",
    "df['revives'].value_counts().plot.line()\n",
    "plt.xlabel('revives')\n",
    "plt.ylabel('number of players')"
   ]
  },
  {
   "cell_type": "markdown",
   "id": "arabic-aviation",
   "metadata": {},
   "source": [
    "## conclusion: the highest number of revives in match is 23 and lowest is 0."
   ]
  },
  {
   "cell_type": "markdown",
   "id": "affiliated-blocking",
   "metadata": {},
   "source": [
    "# Bivariate - Analysis of two variables"
   ]
  },
  {
   "cell_type": "markdown",
   "id": "unexpected-dictionary",
   "metadata": {},
   "source": [
    "# longestkill according to matchtype"
   ]
  },
  {
   "cell_type": "code",
   "execution_count": 29,
   "id": "competent-adrian",
   "metadata": {},
   "outputs": [
    {
     "data": {
      "text/plain": [
       "Text(0, 0.5, 'matchtype')"
      ]
     },
     "execution_count": 29,
     "metadata": {},
     "output_type": "execute_result"
    },
    {
     "data": {
      "image/png": "[encoded data removed]",
      "text/plain": [
       "<Figure size 720x360 with 1 Axes>"
      ]
     },
     "metadata": {
      "needs_background": "light"
     },
     "output_type": "display_data"
    }
   ],
   "source": [
    "plt.figure(figsize=(10,5))\n",
    "plt.scatter(x=df['longestKill'],y=df['matchType'],c='red',marker='D')\n",
    "plt.xlabel('longestkill')\n",
    "plt.ylabel('matchtype')"
   ]
  },
  {
   "cell_type": "markdown",
   "id": "governing-nerve",
   "metadata": {},
   "source": [
    "## conclusion: normal squad fpp has the longest kill."
   ]
  },
  {
   "cell_type": "markdown",
   "id": "vulnerable-produce",
   "metadata": {},
   "source": [
    "# revives according to matchtype"
   ]
  },
  {
   "cell_type": "code",
   "execution_count": 37,
   "id": "productive-saturn",
   "metadata": {},
   "outputs": [
    {
     "data": {
      "text/plain": [
       "<AxesSubplot:ylabel='None'>"
      ]
     },
     "execution_count": 37,
     "metadata": {},
     "output_type": "execute_result"
    },
    {
     "data": {
      "image/png": "[encoded data removed]",
      "text/plain": [
       "<Figure size 432x288 with 1 Axes>"
      ]
     },
     "metadata": {},
     "output_type": "display_data"
    }
   ],
   "source": [
    "df[['matchType','revives']].value_counts().head(7).plot.pie()"
   ]
  },
  {
   "cell_type": "markdown",
   "id": "ordinary-prize",
   "metadata": {},
   "source": [
    "## conclusion: the highest revives according to matchtype is 1."
   ]
  },
  {
   "cell_type": "markdown",
   "id": "hispanic-objective",
   "metadata": {},
   "source": [
    "# heals used according to matchtype"
   ]
  },
  {
   "cell_type": "code",
   "execution_count": 39,
   "id": "happy-botswana",
   "metadata": {},
   "outputs": [
    {
     "data": {
      "text/plain": [
       "<AxesSubplot:xlabel='heals', ylabel='matchType'>"
      ]
     },
     "execution_count": 39,
     "metadata": {},
     "output_type": "execute_result"
    },
    {
     "data": {
      "image/png": "[encoded data removed]",
      "text/plain": [
       "<Figure size 720x504 with 1 Axes>"
      ]
     },
     "metadata": {
      "needs_background": "light"
     },
     "output_type": "display_data"
    }
   ],
   "source": [
    "plt.figure(figsize=(10, 7))\n",
    "sns.boxplot(x='heals' , y='matchType',data=df)"
   ]
  },
  {
   "cell_type": "markdown",
   "id": "suitable-constraint",
   "metadata": {},
   "source": [
    "## conclusion: there are more heals used in normal squad fpp and normal duo than any other matchetypes."
   ]
  },
  {
   "cell_type": "code",
   "execution_count": 42,
   "id": "concrete-bowling",
   "metadata": {},
   "outputs": [
    {
     "data": {
      "text/plain": [
       "<AxesSubplot:xlabel='headshotKills,matchType'>"
      ]
     },
     "execution_count": 42,
     "metadata": {},
     "output_type": "execute_result"
    },
    {
     "data": {
      "image/png": "[encoded data removed]",
      "text/plain": [
       "<Figure size 720x504 with 1 Axes>"
      ]
     },
     "metadata": {
      "needs_background": "light"
     },
     "output_type": "display_data"
    }
   ],
   "source": [
    "plt.figure(figsize=(10, 7))\n",
    "df[['headshotKills','matchType']].value_counts().head(10).plot.bar()"
   ]
  },
  {
   "cell_type": "markdown",
   "id": "intended-intermediate",
   "metadata": {},
   "source": [
    "## conclusion: there are more number of players who did not get headshot kill in squad fpp matchtype."
   ]
  },
  {
   "cell_type": "code",
   "execution_count": 45,
   "id": "respected-vancouver",
   "metadata": {},
   "outputs": [
    {
     "data": {
      "text/plain": [
       "Text(0, 0.5, 'matchtype')"
      ]
     },
     "execution_count": 45,
     "metadata": {},
     "output_type": "execute_result"
    },
    {
     "data": {
      "image/png": "[encoded data removed]",
      "text/plain": [
       "<Figure size 720x360 with 1 Axes>"
      ]
     },
     "metadata": {
      "needs_background": "light"
     },
     "output_type": "display_data"
    }
   ],
   "source": [
    "plt.figure(figsize=(10,5))\n",
    "plt.scatter(x=df['damageDealt'],y=df['matchType'],c='red',marker='D')\n",
    "plt.xlabel('damageDealt')\n",
    "plt.ylabel('matchtype')"
   ]
  },
  {
   "cell_type": "markdown",
   "id": "mexican-radical",
   "metadata": {},
   "source": [
    "## conclusion: there is more damage done in normal squad  than any other matchtype."
   ]
  },
  {
   "cell_type": "markdown",
   "id": "august-juvenile",
   "metadata": {},
   "source": [
    "# matchduartion according to matchtype"
   ]
  },
  {
   "cell_type": "code",
   "execution_count": 6,
   "id": "administrative-colonial",
   "metadata": {},
   "outputs": [
    {
     "data": {
      "text/plain": [
       "<AxesSubplot:xlabel='matchDuration', ylabel='matchType'>"
      ]
     },
     "execution_count": 6,
     "metadata": {},
     "output_type": "execute_result"
    },
    {
     "data": {
      "image/png": "[encoded data removed]",
      "text/plain": [
       "<Figure size 720x504 with 1 Axes>"
      ]
     },
     "metadata": {
      "needs_background": "light"
     },
     "output_type": "display_data"
    }
   ],
   "source": [
    "plt.figure(figsize=(10, 7))\n",
    "sns.boxplot(x='matchDuration' , y='matchType',data=df)"
   ]
  },
  {
   "cell_type": "markdown",
   "id": "mounted-conclusion",
   "metadata": {},
   "source": [
    "## conclusion: the match normal squad fpp and normal squad matchtypes have highest matchduration than other matches."
   ]
  },
  {
   "cell_type": "code",
   "execution_count": null,
   "id": "spiritual-prototype",
   "metadata": {},
   "outputs": [],
   "source": []
  },
  {
   "cell_type": "markdown",
   "id": "passive-lyric",
   "metadata": {},
   "source": [
    "# Hypothesis testing"
   ]
  },
  {
   "cell_type": "markdown",
   "id": "exclusive-sleeping",
   "metadata": {},
   "source": [
    "## PUBG tournament claims that on average the  highest number of kills according to all matchtypes is greater than 30.we are sceptic of their claims and does not believe that on single tournament one can not get more than 30 kills."
   ]
  },
  {
   "cell_type": "markdown",
   "id": "demonstrated-career",
   "metadata": {},
   "source": [
    "## Step 1: sample mean"
   ]
  },
  {
   "cell_type": "code",
   "execution_count": 10,
   "id": "industrial-color",
   "metadata": {},
   "outputs": [
    {
     "name": "stdout",
     "output_type": "stream",
     "text": [
      "37.6\n"
     ]
    }
   ],
   "source": [
    "l = [30, 33, 35, 45, 50, 37, 30, 41, 45, 30]\n",
    "\n",
    "sample_mean = sum(l)/len(l)\n",
    "print(sample_mean)"
   ]
  },
  {
   "cell_type": "markdown",
   "id": "living-management",
   "metadata": {},
   "source": [
    "## Step 2: calculate standard deviation"
   ]
  },
  {
   "cell_type": "code",
   "execution_count": 15,
   "id": "pleased-study",
   "metadata": {},
   "outputs": [
    {
     "name": "stdout",
     "output_type": "stream",
     "text": [
      "6.902173570694959\n"
     ]
    }
   ],
   "source": [
    "sample_std = np.std(l)\n",
    "print(sample_std)"
   ]
  },
  {
   "cell_type": "markdown",
   "id": "attractive-cattle",
   "metadata": {},
   "source": [
    "## Step 3 : calculate t score"
   ]
  },
  {
   "cell_type": "code",
   "execution_count": 14,
   "id": "modern-standard",
   "metadata": {},
   "outputs": [],
   "source": [
    "def t_score(sample_size, sample_mean, pop_mean, sample_std):\n",
    "    numerator = sample_mean - pop_mean\n",
    "    denomenator = sample_std / sample_size**0.5\n",
    "    return numerator / denomenator"
   ]
  },
  {
   "cell_type": "code",
   "execution_count": 16,
   "id": "associate-sheffield",
   "metadata": {},
   "outputs": [],
   "source": [
    "sample_size = 10\n",
    "sample_mean = 37.6\n",
    "pop_mean = 30\n",
    "sample_std = 6.90"
   ]
  },
  {
   "cell_type": "code",
   "execution_count": 17,
   "id": "bacterial-textbook",
   "metadata": {},
   "outputs": [
    {
     "name": "stdout",
     "output_type": "stream",
     "text": [
      "3.4830884372869115\n"
     ]
    }
   ],
   "source": [
    "tscore = t_score(sample_size, sample_mean, pop_mean, sample_std)\n",
    "\n",
    "print(tscore)"
   ]
  },
  {
   "cell_type": "markdown",
   "id": "relevant-demonstration",
   "metadata": {},
   "source": [
    "## Step 4 : calculate critical value"
   ]
  },
  {
   "cell_type": "code",
   "execution_count": 18,
   "id": "lesser-capital",
   "metadata": {},
   "outputs": [
    {
     "name": "stdout",
     "output_type": "stream",
     "text": [
      "1.8331129326536333\n"
     ]
    }
   ],
   "source": [
    "alpha = 1 - 0.95\n",
    "\n",
    "t_critical = t.ppf(1-alpha, df = 9)\n",
    "\n",
    "print(t_critical)"
   ]
  },
  {
   "cell_type": "markdown",
   "id": "assigned-ethernet",
   "metadata": {},
   "source": [
    "## Step 5 : plot the graph"
   ]
  },
  {
   "cell_type": "code",
   "execution_count": 22,
   "id": "helpful-express",
   "metadata": {},
   "outputs": [
    {
     "data": {
      "text/plain": [
       "Text(37.6, 0.1, 'x_bar')"
      ]
     },
     "execution_count": 22,
     "metadata": {},
     "output_type": "execute_result"
    },
    {
     "data": {
      "image/png": "[encoded data removed]",
      "text/plain": [
       "<Figure size 432x288 with 1 Axes>"
      ]
     },
     "metadata": {
      "needs_background": "light"
     },
     "output_type": "display_data"
    }
   ],
   "source": [
    "# Defining the x minimum and x maximum\n",
    "x_min = 30.0\n",
    "x_max = 45.0\n",
    "\n",
    "\n",
    "# Defining the sampling distribution mean and sampling distribution std\n",
    "mean = pop_mean\n",
    "std = sample_std / (sample_size**0.5)\n",
    "\n",
    "\n",
    "# Ploting the graph and setting the x limits\n",
    "x = np.linspace(x_min, x_max, 100)\n",
    "y = norm.pdf(x, mean, std)\n",
    "plt.xlim(x_min, x_max)\n",
    "plt.plot(x, y)\n",
    "\n",
    "\n",
    "# Computing the right critical value (Right tailed Test)\n",
    "t_critical_right = pop_mean + (t_critical * std)\n",
    "\n",
    "\n",
    "# Shading the right rejection region\n",
    "x1 = np.linspace(t_critical_right, x_max, 100)\n",
    "y1 = norm.pdf(x1, mean, std)\n",
    "plt.fill_between(x1, y1, color='orange')\n",
    "\n",
    "# Ploting the sample mean and concluding the results \n",
    "plt.scatter(sample_mean, 0)\n",
    "plt.annotate(\"x_bar\", (sample_mean, 0.1))"
   ]
  },
  {
   "cell_type": "markdown",
   "id": "nasty-lending",
   "metadata": {},
   "source": [
    "## Step 6 : t test"
   ]
  },
  {
   "cell_type": "code",
   "execution_count": 23,
   "id": "functioning-ensemble",
   "metadata": {},
   "outputs": [
    {
     "name": "stdout",
     "output_type": "stream",
     "text": [
      "Reject Null Hypothesis\n"
     ]
    }
   ],
   "source": [
    "if(tscore > t_critical):\n",
    "    print(\"Reject Null Hypothesis\")\n",
    "else:\n",
    "    print(\"Fail to reject Null Hypothesis\")"
   ]
  },
  {
   "cell_type": "markdown",
   "id": "defined-flush",
   "metadata": {},
   "source": [
    "## Step 7 : p value test"
   ]
  },
  {
   "cell_type": "code",
   "execution_count": 24,
   "id": "recognized-assignment",
   "metadata": {},
   "outputs": [
    {
     "name": "stdout",
     "output_type": "stream",
     "text": [
      "p_value =  0.0034524430860475297\n",
      "Reject Null Hypothesis\n"
     ]
    }
   ],
   "source": [
    "p_value = 1.0 - t.cdf(np.abs(tscore), df=9)\n",
    "\n",
    "print(\"p_value = \", p_value)\n",
    "\n",
    "if(p_value < alpha):\n",
    "    print(\"Reject Null Hypothesis\")\n",
    "else:\n",
    "    print(\"Fail to reject Null Hypothesis\")"
   ]
  },
  {
   "cell_type": "markdown",
   "id": "baking-diameter",
   "metadata": {},
   "source": [
    "## Conclusion : accept alternate hypothesis"
   ]
  },
  {
   "cell_type": "markdown",
   "id": "foster-investigation",
   "metadata": {},
   "source": [
    "## PUBG tournament claims that on average the highest damagedealt according to all matchtypes is lesser than 5990.we are sceptic of their claims and does not believe that on single tournament one can get more than 5990 damagescore."
   ]
  },
  {
   "cell_type": "markdown",
   "id": "brilliant-powder",
   "metadata": {},
   "source": [
    "## Step 1: sample mean"
   ]
  },
  {
   "cell_type": "code",
   "execution_count": 60,
   "id": "laughing-union",
   "metadata": {},
   "outputs": [
    {
     "name": "stdout",
     "output_type": "stream",
     "text": [
      "5802.0\n"
     ]
    }
   ],
   "source": [
    "l = [5900, 5990, 5800, 5890, 5980, 5790, 5500, 5670, 5900, 5600]\n",
    "\n",
    "sample_mean = sum(l)/len(l)\n",
    "print(sample_mean)"
   ]
  },
  {
   "cell_type": "markdown",
   "id": "hungry-validation",
   "metadata": {},
   "source": [
    "## Step 2: calculate standard deviation"
   ]
  },
  {
   "cell_type": "code",
   "execution_count": 61,
   "id": "mobile-banana",
   "metadata": {},
   "outputs": [
    {
     "name": "stdout",
     "output_type": "stream",
     "text": [
      "156.06408939919524\n"
     ]
    }
   ],
   "source": [
    "sample_std = np.std(l)\n",
    "print(sample_std)"
   ]
  },
  {
   "cell_type": "markdown",
   "id": "bulgarian-czech",
   "metadata": {},
   "source": [
    "## Step 3 : calculate t score"
   ]
  },
  {
   "cell_type": "code",
   "execution_count": 62,
   "id": "parliamentary-sharing",
   "metadata": {},
   "outputs": [],
   "source": [
    "def t_score(sample_size, sample_mean, pop_mean, sample_std):\n",
    "    numerator = sample_mean - pop_mean\n",
    "    denomenator = sample_std / sample_size**0.5\n",
    "    return numerator / denomenator"
   ]
  },
  {
   "cell_type": "code",
   "execution_count": 63,
   "id": "noted-circular",
   "metadata": {},
   "outputs": [],
   "source": [
    "sample_size = 10\n",
    "sample_mean = 5802.0 \n",
    "pop_mean = 5990\n",
    "sample_std = 156.0"
   ]
  },
  {
   "cell_type": "code",
   "execution_count": 64,
   "id": "foreign-boost",
   "metadata": {},
   "outputs": [
    {
     "name": "stdout",
     "output_type": "stream",
     "text": [
      "-3.810950000715739\n"
     ]
    }
   ],
   "source": [
    "tscore = t_score(sample_size, sample_mean, pop_mean, sample_std)\n",
    "\n",
    "print(tscore)"
   ]
  },
  {
   "cell_type": "markdown",
   "id": "bacterial-myanmar",
   "metadata": {},
   "source": [
    "## Step 4 : calculate critical value"
   ]
  },
  {
   "cell_type": "code",
   "execution_count": 65,
   "id": "nominated-speaking",
   "metadata": {},
   "outputs": [
    {
     "name": "stdout",
     "output_type": "stream",
     "text": [
      "1.8331129326536333\n"
     ]
    }
   ],
   "source": [
    "alpha = 1 - 0.95\n",
    "\n",
    "t_critical = t.ppf(1-alpha, df = 9)\n",
    "\n",
    "print(t_critical)"
   ]
  },
  {
   "cell_type": "markdown",
   "id": "disturbed-cursor",
   "metadata": {},
   "source": [
    "## Step 5 : plot the graph"
   ]
  },
  {
   "cell_type": "code",
   "execution_count": 74,
   "id": "broke-amazon",
   "metadata": {
    "scrolled": true
   },
   "outputs": [
    {
     "data": {
      "text/plain": [
       "Text(5802.0, 0.02, 'x_bar')"
      ]
     },
     "execution_count": 74,
     "metadata": {},
     "output_type": "execute_result"
    },
    {
     "data": {
      "image/png": "[encoded data removed]",
      "text/plain": [
       "<Figure size 432x288 with 1 Axes>"
      ]
     },
     "metadata": {
      "needs_background": "light"
     },
     "output_type": "display_data"
    }
   ],
   "source": [
    "x_min = 5800\n",
    "x_max = 5890\n",
    "\n",
    "mean = pop_mean\n",
    "std = sample_std / (sample_size**0.5)\n",
    "\n",
    "x = np.linspace(x_min, x_max, 100)\n",
    "y = norm.pdf(x, mean, std)\n",
    "\n",
    "plt.xlim(x_min, x_max)\n",
    "# plt.ylim(0, 0.03)\n",
    "\n",
    "plt.plot(x, y)\n",
    "\n",
    "t_critical_left = pop_mean + (-t_critical * std)\n",
    "\n",
    "x1 = np.linspace(x_min, t_critical_left, 100)\n",
    "y1 = norm.pdf(x1, mean, std)\n",
    "plt.fill_between(x1, y1, color='orange')\n",
    "\n",
    "plt.scatter(sample_mean, 0)\n",
    "plt.annotate(\"x_bar\", (sample_mean, 0.02))"
   ]
  },
  {
   "cell_type": "markdown",
   "id": "worst-davis",
   "metadata": {},
   "source": [
    "## Step 6 : t test"
   ]
  },
  {
   "cell_type": "code",
   "execution_count": 70,
   "id": "different-fabric",
   "metadata": {},
   "outputs": [
    {
     "name": "stdout",
     "output_type": "stream",
     "text": [
      "Reject Null Hypothesis\n"
     ]
    }
   ],
   "source": [
    "if(tscore < -t_critical):\n",
    "    print(\"Reject Null Hypothesis\")\n",
    "else:\n",
    "    print(\"Fail to reject Null Hypothesis\")"
   ]
  },
  {
   "cell_type": "markdown",
   "id": "confirmed-growing",
   "metadata": {},
   "source": [
    "## Step 7 : p value test"
   ]
  },
  {
   "cell_type": "code",
   "execution_count": 71,
   "id": "stable-german",
   "metadata": {},
   "outputs": [
    {
     "name": "stdout",
     "output_type": "stream",
     "text": [
      "p_value =  0.002073537803476966\n",
      "Reject Null Hypothesis\n"
     ]
    }
   ],
   "source": [
    "p_value = 1.0 - t.cdf(np.abs(tscore), df=9)\n",
    "\n",
    "print(\"p_value = \", p_value)\n",
    "\n",
    "if(p_value < alpha):\n",
    "    print(\"Reject Null Hypothesis\")\n",
    "else:\n",
    "    print(\"Fail to reject Null Hypothesis\")"
   ]
  },
  {
   "cell_type": "markdown",
   "id": "dimensional-sound",
   "metadata": {},
   "source": [
    "## Conclusion : accept alternate hypothesis"
   ]
  },
  {
   "cell_type": "markdown",
   "id": "israeli-screening",
   "metadata": {},
   "source": [
    "## PUBG tournament claims that each match duration is 2237 seconds.we are sceptic of their claims and does not believe that on tournament the duration can not be 2237 seconds."
   ]
  },
  {
   "cell_type": "markdown",
   "id": "funky-marble",
   "metadata": {},
   "source": [
    "## Step 1: sample mean"
   ]
  },
  {
   "cell_type": "code",
   "execution_count": 50,
   "id": "sapphire-estimate",
   "metadata": {},
   "outputs": [
    {
     "name": "stdout",
     "output_type": "stream",
     "text": [
      "2234.0\n"
     ]
    }
   ],
   "source": [
    "l = [2230, 2237, 2231, 2236, 2230, 2235, 2237, 2234, 2233, 2237]\n",
    "\n",
    "sample_mean = sum(l)/len(l)\n",
    "print(sample_mean)"
   ]
  },
  {
   "cell_type": "markdown",
   "id": "initial-cartridge",
   "metadata": {},
   "source": [
    "## Step 2: calculate standard deviation"
   ]
  },
  {
   "cell_type": "code",
   "execution_count": 51,
   "id": "accessible-stage",
   "metadata": {},
   "outputs": [
    {
     "name": "stdout",
     "output_type": "stream",
     "text": [
      "2.7202941017470885\n"
     ]
    }
   ],
   "source": [
    "sample_std = np.std(l)\n",
    "print(sample_std)"
   ]
  },
  {
   "cell_type": "markdown",
   "id": "legislative-reference",
   "metadata": {},
   "source": [
    "## Step 3 : calculate t score"
   ]
  },
  {
   "cell_type": "code",
   "execution_count": 52,
   "id": "surrounded-population",
   "metadata": {},
   "outputs": [],
   "source": [
    "def t_score(sample_size, sample_mean, pop_mean, sample_std):\n",
    "    numerator = sample_mean - pop_mean\n",
    "    denomenator = sample_std / sample_size**0.5\n",
    "    return numerator / denomenator"
   ]
  },
  {
   "cell_type": "code",
   "execution_count": 53,
   "id": "interested-yellow",
   "metadata": {},
   "outputs": [],
   "source": [
    "sample_size = 10\n",
    "sample_mean = 2234.0\n",
    "pop_mean = 2237\n",
    "sample_std = 2.72"
   ]
  },
  {
   "cell_type": "code",
   "execution_count": 54,
   "id": "rapid-begin",
   "metadata": {},
   "outputs": [
    {
     "name": "stdout",
     "output_type": "stream",
     "text": [
      "-3.4878062428327716\n"
     ]
    }
   ],
   "source": [
    "tscore = t_score(sample_size, sample_mean, pop_mean, sample_std)\n",
    "\n",
    "print(tscore)"
   ]
  },
  {
   "cell_type": "markdown",
   "id": "scheduled-lancaster",
   "metadata": {},
   "source": [
    "## Step 4 : calculate critical value\n"
   ]
  },
  {
   "cell_type": "code",
   "execution_count": 55,
   "id": "romance-patrol",
   "metadata": {},
   "outputs": [
    {
     "name": "stdout",
     "output_type": "stream",
     "text": [
      "2.2621571627409915\n"
     ]
    }
   ],
   "source": [
    "alpha = 1 - 0.95\n",
    "\n",
    "t_critical = t.ppf(1-alpha/2, df = 9)\n",
    "\n",
    "print(t_critical)"
   ]
  },
  {
   "cell_type": "markdown",
   "id": "comparative-miller",
   "metadata": {},
   "source": [
    "## Step 5 : plot the graph"
   ]
  },
  {
   "cell_type": "code",
   "execution_count": 57,
   "id": "oriented-homeless",
   "metadata": {},
   "outputs": [
    {
     "data": {
      "text/plain": [
       "Text(2234.0, 0.0007, 'x_bar')"
      ]
     },
     "execution_count": 57,
     "metadata": {},
     "output_type": "execute_result"
    },
    {
     "data": {
      "image/png": "[encoded data removed]",
      "text/plain": [
       "<Figure size 432x288 with 1 Axes>"
      ]
     },
     "metadata": {
      "needs_background": "light"
     },
     "output_type": "display_data"
    }
   ],
   "source": [
    "x_min = 2230\n",
    "x_max = 2240\n",
    "\n",
    "\n",
    "# Defining the sampling distribution mean and sampling distribution std\n",
    "mean = pop_mean\n",
    "std = sample_std / sample_size**0.5\n",
    "\n",
    "\n",
    "# Ploting the graph and setting the x limits\n",
    "x = np.linspace(x_min, x_max, 100)\n",
    "y = norm.pdf(x, mean, std)\n",
    "plt.xlim(x_min, x_max)\n",
    "plt.plot(x, y)\n",
    "\n",
    "\n",
    "# Computing the left and right critical values (Two tailed Test)\n",
    "t_critical_left = pop_mean + (-t_critical * std)\n",
    "t_critical_right = pop_mean + (t_critical * std)\n",
    "\n",
    "\n",
    "# Shading the left rejection region\n",
    "x1 = np.linspace(x_min, t_critical_left, 100)\n",
    "y1 = norm.pdf(x1, mean, std)\n",
    "plt.fill_between(x1, y1, color='orange')\n",
    "\n",
    "\n",
    "# Shading the right rejection region\n",
    "x2 = np.linspace(t_critical_right, x_max, 100)\n",
    "y2 = norm.pdf(x2, mean, std)\n",
    "plt.fill_between(x2, y2, color='orange')\n",
    "\n",
    "\n",
    "# Ploting the sample mean and concluding the res\n",
    "plt.scatter(sample_mean, 0)\n",
    "plt.annotate(\"x_bar\", (sample_mean, 0.0007))"
   ]
  },
  {
   "cell_type": "markdown",
   "id": "behavioral-omaha",
   "metadata": {},
   "source": [
    "## Step 5 : t test"
   ]
  },
  {
   "cell_type": "code",
   "execution_count": 58,
   "id": "restricted-saudi",
   "metadata": {},
   "outputs": [
    {
     "name": "stdout",
     "output_type": "stream",
     "text": [
      "Reject Null Hypothesis\n"
     ]
    }
   ],
   "source": [
    "if(np.abs(tscore) > t_critical):\n",
    "    print(\"Reject Null Hypothesis\")\n",
    "else:\n",
    "    print(\"Fail to reject Null Hypothesis\")"
   ]
  },
  {
   "cell_type": "markdown",
   "id": "judicial-might",
   "metadata": {},
   "source": [
    "## Step 6 : calculate p value"
   ]
  },
  {
   "cell_type": "code",
   "execution_count": 59,
   "id": "black-rebound",
   "metadata": {},
   "outputs": [
    {
     "name": "stdout",
     "output_type": "stream",
     "text": [
      "p_value =  0.006853780070301685\n",
      "Reject Null Hypothesis\n"
     ]
    }
   ],
   "source": [
    "p_value = 2 * (1.0 - t.cdf(np.abs(tscore), df=9))\n",
    "\n",
    "print(\"p_value = \", p_value)\n",
    "\n",
    "if(p_value < alpha):\n",
    "    print(\"Reject Null Hypothesis\")\n",
    "else:\n",
    "    print(\"Fail to reject Null Hypothesis\")"
   ]
  },
  {
   "cell_type": "markdown",
   "id": "demonstrated-monte",
   "metadata": {},
   "source": [
    "## Conclusion :accept alternate hypothesis\n"
   ]
  },
  {
   "cell_type": "markdown",
   "id": "practical-affair",
   "metadata": {},
   "source": [
    "# Final Conclusion:\n",
    "# 1.normal squad fpp has the longest kill.\n",
    "# 2.there are more heals used in normal squad fpp and normal duo than any other matchetypes.\n",
    "# 3.there is more damage done in normal squad than any other matchtype.\n",
    "# 4.the highest number of revives in tournament is 23 and lowest is 0."
   ]
  },
  {
   "cell_type": "code",
   "execution_count": null,
   "id": "simple-campus",
   "metadata": {},
   "outputs": [],
   "source": []
  }
 ],
 "metadata": {
  "kernelspec": {
   "display_name": "Python 3",
   "language": "python",
   "name": "python3"
  },
  "language_info": {
   "codemirror_mode": {
    "name": "ipython",
    "version": 3
   },
   "file_extension": ".py",
   "mimetype": "text/x-python",
   "name": "python",
   "nbconvert_exporter": "python",
   "pygments_lexer": "ipython3",
   "version": "3.8.8"
  }
 },
 "nbformat": 4,
 "nbformat_minor": 5
}
